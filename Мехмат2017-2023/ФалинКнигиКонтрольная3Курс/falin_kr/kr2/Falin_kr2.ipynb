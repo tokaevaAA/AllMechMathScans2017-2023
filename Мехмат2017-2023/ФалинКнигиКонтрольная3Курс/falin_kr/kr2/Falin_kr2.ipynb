{
 "cells": [
  {
   "cell_type": "code",
   "execution_count": 1,
   "metadata": {},
   "outputs": [],
   "source": [
    "import numpy as np"
   ]
  },
  {
   "cell_type": "code",
   "execution_count": 11,
   "metadata": {},
   "outputs": [
    {
     "name": "stdout",
     "output_type": "stream",
     "text": [
      "0.20759007736800625 0.45479812414098947\n",
      "43498.9139438501\n"
     ]
    }
   ],
   "source": [
    "a=0.03*(1-np.exp(-10*(np.log(1.05) +0.03)))/(np.log(1.05) +0.03)\n",
    "b=np.exp(-10*(np.log(1.05) +0.03))\n",
    "print(a,b)\n",
    "E=100000*a+50000*b\n",
    "print(E)"
   ]
  },
  {
   "cell_type": "code",
   "execution_count": 15,
   "metadata": {},
   "outputs": [
    {
     "name": "stdout",
     "output_type": "stream",
     "text": [
      "1892155171.1881003\n",
      "1892155514.2944767\n",
      "2392933128.1471114\n",
      "500777613.85263467\n",
      "500777956.9590111\n",
      "22378.060994032407\n"
     ]
    }
   ],
   "source": [
    "s1=100000\n",
    "s2=50000\n",
    "mu=0.03\n",
    "n=10\n",
    "delta=np.log(1.05)\n",
    "EZ= s1*(mu/(mu+delta))*(1-np.exp(-n*(mu+delta))) +s2*np.exp(-n*(mu+delta))\n",
    "EZ2= s1**2*(mu/(mu+2*delta))*(1-np.exp(-n*(mu+2*delta))) +s2**2*np.exp(-n*(mu+2*delta))\n",
    "VarZ=EZ2-(EZ)**2\n",
    "print(43498.91**2)\n",
    "print(EZ**2)\n",
    "print(EZ2)\n",
    "print(VarZ)\n",
    "print(EZ2-43498.91**2)\n",
    "print(np.sqrt(VarZ))"
   ]
  },
  {
   "cell_type": "code",
   "execution_count": 18,
   "metadata": {},
   "outputs": [
    {
     "data": {
      "text/plain": [
       "22378.06866016393"
      ]
     },
     "execution_count": 18,
     "metadata": {},
     "output_type": "execute_result"
    }
   ],
   "source": [
    "np.sqrt(500777956.9590111)"
   ]
  },
  {
   "cell_type": "code",
   "execution_count": null,
   "metadata": {},
   "outputs": [],
   "source": [
    "Задача 5"
   ]
  },
  {
   "cell_type": "code",
   "execution_count": 74,
   "metadata": {},
   "outputs": [
    {
     "name": "stdout",
     "output_type": "stream",
     "text": [
      "A_xn= 0.16572816696170486\n",
      "a_xn= 1.391038680930967\n",
      "P= 11913.986953316755\n"
     ]
    }
   ],
   "source": [
    "A=0.0001\n",
    "B=0.1\n",
    "a=0.075\n",
    "n=10\n",
    "x=80\n",
    "SA=100000\n",
    "def s(y):\n",
    "    return np.exp(-A*y -(B/a)*(np.exp(-a*x))*(np.exp(a*y)-1))\n",
    "y_t= np.array([0,0.032, 0.035, 0.038, 0.041, 0.043, 0.045, 0.046, 0.047, 0.048,0.048])\n",
    "A_xn=0\n",
    "a_xn=0\n",
    "for k in range(0,n):\n",
    "    A_xn += ((1+y_t[k+1])**(-k-1))*(s(x+k)-s(x+k+1))\n",
    "    \n",
    "for k in range(0,n):\n",
    "    a_xn += ((1+y_t[k])**(-k))*(s(x+k))\n",
    "    \n",
    "P=100000*A_xn/a_xn\n",
    "print(\"A_xn=\",A_xn)\n",
    "print(\"a_xn=\",a_xn)\n",
    "print(\"P=\",P)"
   ]
  },
  {
   "cell_type": "code",
   "execution_count": null,
   "metadata": {},
   "outputs": [],
   "source": [
    "Задача 8"
   ]
  },
  {
   "cell_type": "code",
   "execution_count": 99,
   "metadata": {},
   "outputs": [
    {
     "name": "stdout",
     "output_type": "stream",
     "text": [
      "269.9020834505113\n"
     ]
    }
   ],
   "source": [
    "q55=0.003358\n",
    "q56=0.004903\n",
    "q57=0.005650\n",
    "SA=150000\n",
    "i=0.03\n",
    "v=1/(1+i)\n",
    "rashod = 190+SA*(v*q55 + v**2*(1-q55)*q56 + v**3*(1-q55)*(1-q56)*q57)\n",
    "dohod = 830*(1+v*(1-q55)+v**2*(1-q55)*(1-q56))\n",
    "print(dohod - rashod)"
   ]
  },
  {
   "cell_type": "code",
   "execution_count": null,
   "metadata": {},
   "outputs": [],
   "source": [
    "1)4|5q[60]+1 ≈ 0.0833\n",
    "2)2.75q84.5 ≈ 0.2547327\n",
    "3)μ ≈ 0.01798476\n",
    "  0.5q67.25 ≈ 0.008952\n",
    "4)ER ≈ 36541.80\n",
    "5)P ≈ £11913.99\n",
    "6)EZ ≈ £43498.91\n",
    "  sqrt(VarZ) ≈ £22378.06\n",
    "7)\n",
    "8)доход ≈ 269.90\n",
    "9)\n",
    "10)"
   ]
  },
  {
   "cell_type": "code",
   "execution_count": 100,
   "metadata": {},
   "outputs": [
    {
     "data": {
      "text/plain": [
       "269.9020834505118"
      ]
     },
     "execution_count": 100,
     "metadata": {},
     "output_type": "execute_result"
    }
   ],
   "source": [
    "2409.0237356465454- 2139.1216521960337"
   ]
  },
  {
   "cell_type": "code",
   "execution_count": null,
   "metadata": {},
   "outputs": [],
   "source": []
  }
 ],
 "metadata": {
  "kernelspec": {
   "display_name": "Python 3",
   "language": "python",
   "name": "python3"
  },
  "language_info": {
   "codemirror_mode": {
    "name": "ipython",
    "version": 3
   },
   "file_extension": ".py",
   "mimetype": "text/x-python",
   "name": "python",
   "nbconvert_exporter": "python",
   "pygments_lexer": "ipython3",
   "version": "3.7.3"
  }
 },
 "nbformat": 4,
 "nbformat_minor": 2
}
