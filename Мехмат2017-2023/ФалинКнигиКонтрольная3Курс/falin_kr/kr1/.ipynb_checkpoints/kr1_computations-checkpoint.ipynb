{
 "cells": [
  {
   "cell_type": "code",
   "execution_count": 1,
   "metadata": {},
   "outputs": [],
   "source": [
    "import numpy as np"
   ]
  },
  {
   "cell_type": "markdown",
   "metadata": {},
   "source": [
    "# Задача 1"
   ]
  },
  {
   "cell_type": "markdown",
   "metadata": {},
   "source": [
    "Задача 1.1"
   ]
  },
  {
   "cell_type": "code",
   "execution_count": 2,
   "metadata": {},
   "outputs": [
    {
     "name": "stdout",
     "output_type": "stream",
     "text": [
      "0.9703725093562656\n",
      "0.029627490643734378\n",
      "0.030532079544781134\n",
      "0.06106415908956227\n",
      "i_2_nom= 0.061064\n"
     ]
    }
   ],
   "source": [
    "d_12_eff = 0.5/100\n",
    "d_2_eff = 1-(1-d_12_eff)**6\n",
    "print((1-d_12_eff)**6)\n",
    "print(d_2_eff )\n",
    "i_2_eff=d_2_eff/(1-d_2_eff)\n",
    "print(i_2_eff )\n",
    "i_2_nom=2*i_2_eff\n",
    "print(i_2_nom )\n",
    "print(\"i_2_nom=\",\"{0:.6f}\".format(i_2_nom))"
   ]
  },
  {
   "cell_type": "markdown",
   "metadata": {},
   "source": [
    "Задача 1.2"
   ]
  },
  {
   "cell_type": "code",
   "execution_count": 7,
   "metadata": {},
   "outputs": [
    {
     "name": "stdout",
     "output_type": "stream",
     "text": [
      "0.9685469281169012\n",
      "0.03145307188309876\n",
      "0.032474494492746406\n",
      "0.06494898898549281\n",
      "i_2_nom= 0.064949\n"
     ]
    }
   ],
   "source": [
    "d_05_nom=6/100\n",
    "d_05_eff=d_05_nom/0.5\n",
    "d_2_eff =1-(1-d_05_eff)**(1/4)\n",
    "print((1-d_05_eff)**(1/4))\n",
    "print(d_2_eff )\n",
    "i_2_eff=d_2_eff/(1-d_2_eff)\n",
    "print(i_2_eff )\n",
    "i_2_nom=2*i_2_eff\n",
    "print(i_2_nom )\n",
    "print(\"i_2_nom=\",\"{0:.6f}\".format(i_2_nom))"
   ]
  },
  {
   "cell_type": "markdown",
   "metadata": {},
   "source": [
    "Задача 1.3"
   ]
  },
  {
   "cell_type": "code",
   "execution_count": 8,
   "metadata": {},
   "outputs": [
    {
     "name": "stdout",
     "output_type": "stream",
     "text": [
      "0.030224999999999724\n",
      "0.06044999999999945\n",
      "i_2_nom= 0.060450\n"
     ]
    }
   ],
   "source": [
    "i_4_nom=6/100\n",
    "i_4_eff=i_4_nom/4\n",
    "i_2_eff = (1+i_4_eff)**2-1\n",
    "print(i_2_eff )\n",
    "i_2_nom=2*i_2_eff\n",
    "print(i_2_nom )\n",
    "print(\"i_2_nom=\",\"{0:.6f}\".format(i_2_nom))"
   ]
  },
  {
   "cell_type": "markdown",
   "metadata": {},
   "source": [
    "# Задача 2"
   ]
  },
  {
   "cell_type": "code",
   "execution_count": 20,
   "metadata": {},
   "outputs": [
    {
     "name": "stdout",
     "output_type": "stream",
     "text": [
      "otv= 28600.004025065948\n"
     ]
    }
   ],
   "source": [
    "i=7/100\n",
    "v=1/(1+i)\n",
    "pv_all_1_jan_2018=(1/(1-v*1.02))*0.07*(1+np.sqrt(v))\n",
    "pv_1_jan_2018=pv_all_1_jan_2018-0.07\n",
    "pv_1_dec_2017=pv_1_jan_2018*v**(1/12)\n",
    "otv=10000*pv_1_dec_2017\n",
    "print(\"otv=\",otv)"
   ]
  },
  {
   "cell_type": "markdown",
   "metadata": {},
   "source": [
    "# Задача 3"
   ]
  },
  {
   "cell_type": "code",
   "execution_count": 1,
   "metadata": {},
   "outputs": [
    {
     "name": "stdout",
     "output_type": "stream",
     "text": [
      "a_15=10.379658038180601\n",
      "Ia_15=73.66768937450163\n",
      "mdt_renta= 7.097313717226707\n",
      "a_9=7.107821675644059\n",
      "Ia_9=33.2346502693218\n",
      "mdt_oblig= 7.278235277463554\n",
      "103796.58038180601\n"
     ]
    }
   ],
   "source": [
    "i=5/100\n",
    "v=1/(1+i)\n",
    "\n",
    "def a(n):\n",
    "    return (1-v**n)/i\n",
    "def Ia(n):\n",
    "    return ((1+i)*a(n)-n*v**n)/i\n",
    "def mdt_renta(n):\n",
    "    print(\"a_{}={}\".format(n,a(n)) )\n",
    "    print(\"Ia_{}={}\".format(n,Ia(n)) )\n",
    "    return Ia(n)/a(n)\n",
    "\n",
    "def mdt_oblig(i_c,n):\n",
    "    i_c=i_c/100\n",
    "    print(\"a_{}={}\".format(n,a(n)) )\n",
    "    print(\"Ia_{}={}\".format(n,Ia(n)) )\n",
    "    return (i_c*Ia(n) +n*v**n)/(i_c*a(n) +v**n)\n",
    "print(\"mdt_renta=\",mdt_renta(15))\n",
    "print(\"mdt_oblig=\",mdt_oblig(i_c=6,n=9))\n",
    "\n",
    "print(10000*a(15))"
   ]
  },
  {
   "cell_type": "markdown",
   "metadata": {},
   "source": [
    "Если i уменьшится на $\\Delta,$ то текущая стоимость ренты увеличится на $7.097*\\Delta$, \n",
    "а текущая стоимость облигации увеличится на $7.27*\\Delta,$\n",
    "то есть текущая стоимость облигации увеличится сильнее,\n",
    "то есть прибыль для фонда"
   ]
  },
  {
   "cell_type": "markdown",
   "metadata": {},
   "source": [
    "# Задача 4"
   ]
  },
  {
   "cell_type": "markdown",
   "metadata": {},
   "source": [
    "Задача 4.1"
   ]
  },
  {
   "cell_type": "code",
   "execution_count": 141,
   "metadata": {},
   "outputs": [
    {
     "name": "stdout",
     "output_type": "stream",
     "text": [
      "0.25625\n",
      "19381.135597384888\n"
     ]
    }
   ],
   "source": [
    "import scipy.integrate as integrate\n",
    "\n",
    "def f1(t):\n",
    "    return 0.03+0.005*t\n",
    "\n",
    "def f2(t):\n",
    "    return 0.045-0.0025*t\n",
    "    \n",
    "\n",
    "res1 = integrate.quad(f1,1,2) \n",
    "res2= integrate.quad(f2,2,9)\n",
    "res=res1[0]+ res2[0]\n",
    "print(res)\n",
    "print(15000*np.exp(res))"
   ]
  },
  {
   "cell_type": "markdown",
   "metadata": {},
   "source": [
    "Задача 4.2"
   ]
  },
  {
   "cell_type": "code",
   "execution_count": 122,
   "metadata": {},
   "outputs": [
    {
     "name": "stdout",
     "output_type": "stream",
     "text": [
      "0.31\n",
      "pv= 107.50009623558338\n"
     ]
    }
   ],
   "source": [
    "int_0_10=integrate.quad(f1,0,2)[0] + integrate.quad(f2,2,10)[0]\n",
    "print(int_0_10)\n",
    "pv=120*np.exp(-int_0_10+0.02*10)\n",
    "print(\"pv=\",pv)"
   ]
  },
  {
   "cell_type": "markdown",
   "metadata": {},
   "source": [
    "# Задача 5(из 2014)"
   ]
  },
  {
   "cell_type": "markdown",
   "metadata": {},
   "source": [
    "Задача 5.1"
   ]
  },
  {
   "cell_type": "code",
   "execution_count": 38,
   "metadata": {},
   "outputs": [
    {
     "name": "stdout",
     "output_type": "stream",
     "text": [
      "17.858101851851764\n"
     ]
    }
   ],
   "source": [
    "i=8/100\n",
    "v=1/(1+i)\n",
    "pv=0.35*1.03*v + 0.35*1.03*1.05*v**2 + 0.35*1.03*1.05*1.06*(v**3)*(1/(1-1.06*v))\n",
    "print(pv)"
   ]
  },
  {
   "cell_type": "markdown",
   "metadata": {},
   "source": [
    "Задача 5.2"
   ]
  },
  {
   "cell_type": "code",
   "execution_count": 63,
   "metadata": {},
   "outputs": [
    {
     "name": "stdout",
     "output_type": "stream",
     "text": [
      "1787.9004522378234 36.78246466431096 35.311665182546754\n",
      "0.9756097560975611\n",
      "17.211401954795985\n"
     ]
    }
   ],
   "source": [
    "i=2.5/100\n",
    "v=1/(1+i)\n",
    "a=0.35*1.03*(110/112.3)\n",
    "b=0.35*1.03*1.05*(110/113.2)\n",
    "c=0.35*1.03*1.05*1.06*(110/113.8) +18*(110/113.2)\n",
    "print(100*c,100*b,100*a)\n",
    "\n",
    "pv=0.35*1.03*v*(110/112.3) + 0.35*1.03*1.05*(v**2)*(110/113.2) + 0.35*1.03*1.05*1.06*(v**3)*(110/113.8) + 18*(v**3)*(110/113.8)\n",
    "print(v)\n",
    "print(pv)"
   ]
  },
  {
   "cell_type": "code",
   "execution_count": null,
   "metadata": {},
   "outputs": [],
   "source": []
  },
  {
   "cell_type": "markdown",
   "metadata": {},
   "source": [
    "# Задача 5(моя)"
   ]
  },
  {
   "cell_type": "markdown",
   "metadata": {},
   "source": [
    "Задача 5.1"
   ]
  },
  {
   "cell_type": "code",
   "execution_count": 36,
   "metadata": {},
   "outputs": [
    {
     "name": "stdout",
     "output_type": "stream",
     "text": [
      "0.917431193\n",
      "pv= 7.06422023099333\n"
     ]
    }
   ],
   "source": [
    "i=9/100\n",
    "v=1/(1+i)\n",
    "v=0.917431193\n",
    "print(v)\n",
    "pv=0.4*1.05*v + 0.4*1.05*1.04*v**2 + 0.4*1.05*1.04*1.03*(v**3)*(1/(1-1.03*v))\n",
    "print(\"pv=\",pv)"
   ]
  },
  {
   "cell_type": "markdown",
   "metadata": {},
   "source": [
    "Задача 5.2"
   ]
  },
  {
   "cell_type": "code",
   "execution_count": 8,
   "metadata": {},
   "outputs": [
    {
     "name": "stdout",
     "output_type": "stream",
     "text": [
      "7.5824547920434 0.4186740843764488\n",
      "i= 0.0711\n",
      "v= 0.9336196433572963\n",
      "pv= 7.000095997662992\n",
      "otvet: i= 7.11\n"
     ]
    }
   ],
   "source": [
    "i=7.11/100 \n",
    "v=1/(1+i)\n",
    "a=0.4\n",
    "b=0.428*(211/215.7)\n",
    "c=0.449*(211/221.2) + 7.5*(211/221.2)\n",
    "print(c,b)\n",
    "\n",
    "pv=b*v + c*(v**2)\n",
    "print(\"i=\",i)\n",
    "print(\"v=\",v)\n",
    "print(\"pv=\",pv)\n",
    "print(\"otvet: i=\",7.11)"
   ]
  },
  {
   "cell_type": "markdown",
   "metadata": {},
   "source": [
    "# Задача 6"
   ]
  },
  {
   "cell_type": "markdown",
   "metadata": {},
   "source": [
    "Задача 6.1"
   ]
  },
  {
   "cell_type": "code",
   "execution_count": 2,
   "metadata": {},
   "outputs": [
    {
     "name": "stdout",
     "output_type": "stream",
     "text": [
      "0.00643403011000343\n",
      "83.43239038945498\n",
      "P= 958.8602175554016\n"
     ]
    }
   ],
   "source": [
    "i_1_eff=8/100\n",
    "i_12_eff=(1+i_1_eff)**(1/12) - 1\n",
    "print(i_12_eff)\n",
    "pv_1_jan_2016=(1-(1+i_12_eff)**(-120))/i_12_eff\n",
    "print(pv_1_jan_2016)\n",
    "P=80000/pv_1_jan_2016\n",
    "\n",
    "print(\"P=\",P)"
   ]
  },
  {
   "cell_type": "markdown",
   "metadata": {},
   "source": [
    "Задача 6.2"
   ]
  },
  {
   "cell_type": "code",
   "execution_count": 3,
   "metadata": {},
   "outputs": [
    {
     "name": "stdout",
     "output_type": "stream",
     "text": [
      "i_12_ef 0.00643403011000343\n",
      "63180.47754631179\n"
     ]
    }
   ],
   "source": [
    "i_1_eff=8/100\n",
    "i_12_eff=(1+i_1_eff)**(1/12) - 1\n",
    "print(\"i_12_ef\",i_12_eff)\n",
    "#i_12_eff=0.006434\n",
    "pv_1_nov_2018=(1-(1+i_12_eff)**(-86))/i_12_eff\n",
    "P=80000/pv_1_jan_2016\n",
    "print(P*pv_1_nov_2018) #63180.54 or 63180.76"
   ]
  },
  {
   "cell_type": "code",
   "execution_count": 16,
   "metadata": {},
   "outputs": [
    {
     "name": "stdout",
     "output_type": "stream",
     "text": [
      "99492.56501377007\n",
      "36312.07922862365\n",
      "63180.485785146426\n"
     ]
    }
   ],
   "source": [
    "pv_dolga=80000*((1+i_12_eff)**(34))\n",
    "pv_vuplat= 958.86*(1-(1+i_12_eff)**(34))/(-i_12_eff)\n",
    "print(pv_dolga)\n",
    "print(pv_vuplat)\n",
    "print(pv_dolga-pv_vuplat)"
   ]
  },
  {
   "cell_type": "markdown",
   "metadata": {},
   "source": [
    "Задача 6.3"
   ]
  },
  {
   "cell_type": "code",
   "execution_count": 27,
   "metadata": {},
   "outputs": [
    {
     "name": "stdout",
     "output_type": "stream",
     "text": [
      "i_12_eff= 0.0075\n",
      "63430.47754631179\n",
      "63157.16044805069\n",
      "размер последней выплаты= 581.3227741652179\n",
      "долг погасится за 34+101 вместо 34+86 месяцев, то есть 1 апреля 2027 \n"
     ]
    }
   ],
   "source": [
    "i_12_nom=9/100\n",
    "i_12_eff=i_12_nom/12\n",
    "v=1/(1+i_12_eff)\n",
    "print(\"i_12_eff=\",i_12_eff)\n",
    "new_pv_1_nov_2018=P*pv_1_nov_2018 + 250\n",
    "print(new_pv_1_nov_2018)\n",
    "def a(n):\n",
    "    return 900*(1-(1+i_12_eff)**(-n))/i_12_eff\n",
    "print(a(100))\n",
    "print(\"размер последней выплаты=\",(new_pv_1_nov_2018-a(100))*((1+i_12_eff)**101))#581.97\n",
    "print(\"долг погасится за 34+101 вместо 34+86 месяцев, то есть 1 апреля 2027 \")"
   ]
  },
  {
   "cell_type": "code",
   "execution_count": 32,
   "metadata": {},
   "outputs": [
    {
     "name": "stdout",
     "output_type": "stream",
     "text": [
      "100.64507674924405\n",
      "581.338627542312\n"
     ]
    }
   ],
   "source": [
    "print(-np.log(1-i_12_eff*63430.485/900 ) / np.log(1+i_12_eff))\n",
    "print((63430.485-900*v*(1-v**(100))/(1-v) ) /(v**(101)))"
   ]
  },
  {
   "cell_type": "markdown",
   "metadata": {},
   "source": [
    "Его способ"
   ]
  },
  {
   "cell_type": "code",
   "execution_count": 2,
   "metadata": {},
   "outputs": [
    {
     "name": "stdout",
     "output_type": "stream",
     "text": [
      "0.07720836132004116\n",
      "1.036157206709608\n",
      "63180.477546312024\n"
     ]
    }
   ],
   "source": [
    "i=8/100\n",
    "p=12\n",
    "i_p_nom=p*((1+i)**(1/p)-1)\n",
    "chisl=1-(1+i)**(-86/12)\n",
    "print(i_p_nom)\n",
    "print(i/i_p_nom)\n",
    "P= 958.8602175554016\n",
    "L=12*P*chisl/i_p_nom\n",
    "print(L)"
   ]
  },
  {
   "cell_type": "code",
   "execution_count": 6,
   "metadata": {},
   "outputs": [
    {
     "name": "stdout",
     "output_type": "stream",
     "text": [
      "63180.53800220399\n"
     ]
    }
   ],
   "source": [
    "print(958.86*  (1-(1.006434)**(-86))  /0.006434)"
   ]
  },
  {
   "cell_type": "markdown",
   "metadata": {},
   "source": [
    "# Задача 7(из 2007)"
   ]
  },
  {
   "cell_type": "code",
   "execution_count": 193,
   "metadata": {},
   "outputs": [
    {
     "name": "stdout",
     "output_type": "stream",
     "text": [
      "f_31= 0.055023923444976086\n",
      "0.9615384615384615 0.9223390518354546 0.8826211022348849 0.8365887091478047\n",
      "pv_left=  0.9446813288905028\n",
      "pv_right= 0.9446655799705647\n",
      "otvet: y_4= 0.045439999999999994\n"
     ]
    }
   ],
   "source": [
    "f_01=4/100\n",
    "f_11=4.25/100\n",
    "f_21=4.5/100\n",
    "f_22=5/100\n",
    "f_31=((1+f_22)**2)/(1+f_21) - 1\n",
    "print(\"f_31=\",f_31)\n",
    "\n",
    "P_0=1\n",
    "P_1=P_0/(1+f_01)\n",
    "P_2=P_1/(1+f_11)\n",
    "P_3=P_2/(1+f_21)\n",
    "P_4=P_3/(1+f_31)\n",
    "print(P_1,P_2,P_3,P_4)\n",
    "\n",
    "y_4=4.544/100\n",
    "\n",
    "pv_left=0.03*(P_1 +P_2 + P_3) +1.03*P_4 \n",
    "pv_right=0.03*(1-(1+y_4)**(-4))/y_4 + (1+y_4)**(-4)\n",
    "\n",
    "print(\"pv_left= \",pv_left)\n",
    "print(\"pv_right=\",pv_right)\n",
    "\n",
    "print(\"otvet: y_4=\",y_4)\n",
    "\n"
   ]
  },
  {
   "cell_type": "markdown",
   "metadata": {},
   "source": [
    "# Задача 7( моя и из 2019_S)"
   ]
  },
  {
   "cell_type": "code",
   "execution_count": 197,
   "metadata": {},
   "outputs": [
    {
     "name": "stdout",
     "output_type": "stream",
     "text": [
      "0.9615384615384615 0.9157509157509156 0.8639159582555808 0.8073980918276455\n",
      "pv_left=  0.9493422289225497\n",
      "pv_right= 0.9493201943397027\n",
      "otvet: y_4= 0.05444\n"
     ]
    }
   ],
   "source": [
    "f_01=4/100\n",
    "f_11=5/100\n",
    "f_21=6/100\n",
    "f_31=7/100\n",
    "\n",
    "P_0=1\n",
    "P_1=P_0/(1+f_01)\n",
    "P_2=P_1/(1+f_11)\n",
    "P_3=P_2/(1+f_21)\n",
    "P_4=P_3/(1+f_31)\n",
    "print(P_1,P_2,P_3,P_4)\n",
    "\n",
    "y_4=5.444/100\n",
    "\n",
    "pv_left=0.04*(P_1 +P_2 + P_3) +1.04*P_4 \n",
    "pv_right=0.04*(1-(1+y_4)**(-4))/y_4 + (1+y_4)**(-4)\n",
    "\n",
    "print(\"pv_left= \",pv_left)\n",
    "print(\"pv_right=\",pv_right)\n",
    "\n",
    "print(\"otvet: y_4=\",y_4)\n",
    "\n"
   ]
  },
  {
   "cell_type": "markdown",
   "metadata": {},
   "source": [
    "# Задача 8"
   ]
  },
  {
   "cell_type": "markdown",
   "metadata": {},
   "source": [
    "Задача 4.8"
   ]
  },
  {
   "cell_type": "code",
   "execution_count": 226,
   "metadata": {},
   "outputs": [
    {
     "name": "stdout",
     "output_type": "stream",
     "text": [
      "1.1666666666666667 1.7647058823529411\n",
      "TWRR= 0.33489666848585675\n",
      "0.008268893595186455\n",
      "MWRR= 1.3887\n"
     ]
    }
   ],
   "source": [
    "k1_eff=140/120\n",
    "k2_eff=600/340\n",
    "print(k1_eff,k2_eff)\n",
    "T=2.5\n",
    "TWRR=(k1_eff*k2_eff)**(1/T)-1\n",
    "print(\"TWRR=\",TWRR)\n",
    "\n",
    "mwrr=1.3887\n",
    "pv=120*(mwrr)**(2.5) + 200*(mwrr)**(1.5) -600\n",
    "print(pv)\n",
    "print(\"MWRR=\",mwrr)"
   ]
  },
  {
   "cell_type": "code",
   "execution_count": 228,
   "metadata": {},
   "outputs": [
    {
     "name": "stdout",
     "output_type": "stream",
     "text": [
      "0.64 3.375\n",
      "TWRR= 0.24611526047940835\n",
      "0.0007149279322220536\n",
      "MWRR= 1.293965\n"
     ]
    }
   ],
   "source": [
    "k1_eff=64/100\n",
    "k2_eff=270/80\n",
    "print(k1_eff,k2_eff)\n",
    "T=3.5\n",
    "TWRR=(k1_eff*k2_eff)**(1/T)-1\n",
    "print(\"TWRR=\",TWRR)\n",
    "\n",
    "MWRR=1.293965\n",
    "\n",
    "pv=100*(MWRR)**(3.5) + 16*(MWRR)**(1.5) -270\n",
    "print(pv)\n",
    "print(\"MWRR=\",MWRR)\n"
   ]
  },
  {
   "cell_type": "code",
   "execution_count": 2,
   "metadata": {},
   "outputs": [
    {
     "name": "stdout",
     "output_type": "stream",
     "text": [
      "0.11201469863590319\n"
     ]
    }
   ],
   "source": [
    "MWRR=1.29412537\n",
    "\n",
    "pv=100*(MWRR)**(3.5) + 16*(MWRR)**(1.5) -270\n",
    "print(pv)\n",
    "\n",
    "\n"
   ]
  },
  {
   "cell_type": "markdown",
   "metadata": {},
   "source": [
    "# Задача 9"
   ]
  },
  {
   "cell_type": "markdown",
   "metadata": {},
   "source": [
    "Задача 9.1"
   ]
  },
  {
   "cell_type": "code",
   "execution_count": 12,
   "metadata": {},
   "outputs": [
    {
     "name": "stdout",
     "output_type": "stream",
     "text": [
      "E_S10= 12953.549983636729\n",
      "a= 0.07486496072541073\n",
      "sigma2= 0.004192160821435326\n"
     ]
    }
   ],
   "source": [
    "E_i_k=8/100\n",
    "Var_i_k=(7/100)**2\n",
    "E_S10 = (1+E_i_k)**10\n",
    "print(\"E_S10=\", 6000*E_S10)\n",
    "\n",
    "E_eta=1+E_i_k\n",
    "Var_eta=Var_i_k\n",
    "sigma2=np.log(1+Var_eta/(E_eta**2))\n",
    "a=np.log(E_eta)-0.5*sigma2\n",
    "print(\"a=\",a)\n",
    "print(\"sigma2=\",sigma2)\n",
    "\n"
   ]
  },
  {
   "cell_type": "code",
   "execution_count": null,
   "metadata": {},
   "outputs": [],
   "source": []
  },
  {
   "cell_type": "code",
   "execution_count": 242,
   "metadata": {},
   "outputs": [
    {
     "name": "stdout",
     "output_type": "stream",
     "text": [
      "0.9995165758576163\n",
      "0.9975229250012259\n"
     ]
    }
   ],
   "source": [
    "def f3(x):\n",
    "    return np.exp(-0.5*x*x)\n",
    "\n",
    "ress=(integrate.quad(f3,-np.infty,3.3)[0])/(np.sqrt(2*np.pi))\n",
    "print(ress)\n",
    "\n",
    "def FF(x):\n",
    "    return (integrate.quad(f3,-np.infty,x)[0])/(np.sqrt(2*np.pi))\n",
    "\n",
    "print(FF(2.81))"
   ]
  },
  {
   "cell_type": "code",
   "execution_count": 2,
   "metadata": {},
   "outputs": [
    {
     "name": "stdout",
     "output_type": "stream",
     "text": [
      "1.959963984540054\n",
      "-1.959963984540054\n",
      "3.2905267314919255\n"
     ]
    }
   ],
   "source": [
    "import scipy.stats\n",
    "\n",
    "print(scipy.stats.norm.ppf(0.975))\n",
    "print(scipy.stats.norm.ppf(1-0.975))\n",
    "print(scipy.stats.norm.ppf(0.9995))"
   ]
  },
  {
   "cell_type": "markdown",
   "metadata": {},
   "source": [
    "Задача 9.2"
   ]
  },
  {
   "cell_type": "code",
   "execution_count": 15,
   "metadata": {},
   "outputs": [
    {
     "name": "stdout",
     "output_type": "stream",
     "text": [
      "S= 8491.872551489456\n",
      "8491.809931667494\n"
     ]
    }
   ],
   "source": [
    "import numpy as np\n",
    "n=10\n",
    "z_0_025=scipy.stats.norm.ppf(1-0.975)\n",
    "S=np.exp(n*a + z_0_025*np.sqrt(n*sigma2))\n",
    "print(\"S=\",6000*S)\n",
    "a=0.074865\n",
    "sigma2=0.0041922\n",
    "print(6000*np.exp(n*a + (-1.96)*np.sqrt(n*sigma2)))"
   ]
  },
  {
   "cell_type": "code",
   "execution_count": null,
   "metadata": {},
   "outputs": [],
   "source": [
    "Ответы\n",
    "Задача 1: 1) i_2_nom= 0.061064\n",
    "          2) i_2_nom= 0.064949\n",
    "          3) i_2_nom= 0.060450\n",
    "            \n",
    "Задача 2: 1) ex-dividend\n",
    "          2) 28600\n",
    "Задача 3: 1a) 7.097313717226707\n",
    "          1b) 7.278235277463554\n",
    "          2) будет прибыль для страховой\n",
    "            \n",
    "Задача 4: 1) 19381.14\n",
    "          2) 107.5\n",
    "        \n",
    "Задача 5: 1) pv= 7.06\n",
    "          2) i=7.11\n",
    "        \n",
    "Задача 6: 1) P= 958.8602175554016 \n",
    "          2)63180.47754631179     \n",
    "          3a) 1 апреля 2027\n",
    "          3b) размер последней выплаты= 581.3227741652179  \n",
    "        \n",
    "Задача 7: 1)YTM=0.05444\n",
    "          2) почему YTM < f_3_1\n",
    "          3) объяснить почему однолетние форфардные ставки могут расти\n",
    "            \n",
    "Задача 8: 1) опр TWRR и когда использовать\n",
    "          2) TWRR= 0.24611526047940835\n",
    "          3) опр MWRR и когда использовать\n",
    "          4a) почему MWRR существует\n",
    "          4b) 29% < MWRR < 30%\n",
    "          4c) MWRR= 0.293965 то есть 29.3965%\n",
    "        \n",
    "Задача 9: 1) E_S10= 12953.549983636729\n",
    "          2) S_10 это LogN(10a,10sigma^2) где  a= 0.07486496072541073\n",
    "                                               sigma2= 0.004192160821435326\n",
    "          3) S= 18948.165791786516\n",
    "    "
   ]
  },
  {
   "cell_type": "code",
   "execution_count": 31,
   "metadata": {},
   "outputs": [],
   "source": [
    "import numpy as np\n",
    "angles=np.linspace(0, 2*np.pi, 1000)\n",
    "angles=np.exp(angles* 1j)"
   ]
  },
  {
   "cell_type": "code",
   "execution_count": 32,
   "metadata": {},
   "outputs": [
    {
     "name": "stdout",
     "output_type": "stream",
     "text": [
      "[1.        +0.j         0.99998022+0.00628943j 0.99992089+0.01257862j\n",
      " 0.999822  +0.0188673j  0.99968356+0.02515525j 0.99950557+0.03144219j\n",
      " 0.99928805+0.03772789j 0.999031  +0.0440121j  0.99873443+0.05029457j\n",
      " 0.99839835+0.05657505j]\n"
     ]
    }
   ],
   "source": [
    "print(angles[0:10])"
   ]
  },
  {
   "cell_type": "code",
   "execution_count": 33,
   "metadata": {},
   "outputs": [
    {
     "name": "stdout",
     "output_type": "stream",
     "text": [
      "[(-1.8418176412695313+3.141592653589793j), (-1.8418136677151864-3.123354606103455j), (-1.8418017476885404-3.105116458229863j), (-1.8417818830986479-3.086878109598j), (-1.841754077126922-3.0686394598693147j), (-1.8417183342266135-3.0504004087539505j), (-1.8416746601220704-3.0321608560269624j), (-1.841623061807811-3.013920701544527j), (-1.8415635475473653-2.9956798452601356j), (-1.8414961268719265-2.977438187240774j)]\n"
     ]
    }
   ],
   "source": [
    "func=list(map(lambda x: np.log(np.sin(x)-x),angles))\n",
    "print(func[0:10])"
   ]
  },
  {
   "cell_type": "code",
   "execution_count": 34,
   "metadata": {},
   "outputs": [
    {
     "data": {
      "image/png": "[encoded data removed]",
      "text/plain": [
       "<Figure size 432x288 with 1 Axes>"
      ]
     },
     "metadata": {
      "needs_background": "light"
     },
     "output_type": "display_data"
    }
   ],
   "source": [
    "import matplotlib.pyplot as plt\n",
    "\n",
    "x=list(map(lambda x: x.real,func))\n",
    "y=list(map(lambda x: x.imag,func))\n",
    "\n",
    "\n",
    "plt.plot(x,y)\n",
    "plt.show()"
   ]
  },
  {
   "cell_type": "code",
   "execution_count": null,
   "metadata": {},
   "outputs": [],
   "source": [
    "i=0.29412537\n",
    "v=1/(1+i)\n",
    "print(100*v**(3.5)+16*v**(1.5)-270)"
   ]
  },
  {
   "cell_type": "code",
   "execution_count": 13,
   "metadata": {},
   "outputs": [],
   "source": [
    "\n",
    "x=np.linspace(0,1,100)\n",
    "y=100*x**(7/2) + 16*x**(3/2)-270"
   ]
  },
  {
   "cell_type": "code",
   "execution_count": 16,
   "metadata": {},
   "outputs": [
    {
     "data": {
      "image/png": "[encoded data removed]",
      "text/plain": [
       "<Figure size 432x288 with 1 Axes>"
      ]
     },
     "metadata": {
      "needs_background": "light"
     },
     "output_type": "display_data"
    }
   ],
   "source": [
    "import matplotlib.pyplot as plt\n",
    "plt.axis()\n",
    "plt.plot(x,y)\n",
    "plt.show()"
   ]
  },
  {
   "cell_type": "code",
   "execution_count": null,
   "metadata": {},
   "outputs": [],
   "source": []
  }
 ],
 "metadata": {
  "kernelspec": {
   "display_name": "Python 3",
   "language": "python",
   "name": "python3"
  },
  "language_info": {
   "codemirror_mode": {
    "name": "ipython",
    "version": 3
   },
   "file_extension": ".py",
   "mimetype": "text/x-python",
   "name": "python",
   "nbconvert_exporter": "python",
   "pygments_lexer": "ipython3",
   "version": "3.7.3"
  }
 },
 "nbformat": 4,
 "nbformat_minor": 2
}
