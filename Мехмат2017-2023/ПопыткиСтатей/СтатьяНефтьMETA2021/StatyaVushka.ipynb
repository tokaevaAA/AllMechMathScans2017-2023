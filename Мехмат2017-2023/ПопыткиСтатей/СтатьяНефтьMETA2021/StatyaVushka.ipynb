{
 "cells": [
  {
   "cell_type": "code",
   "execution_count": 1,
   "metadata": {},
   "outputs": [],
   "source": [
    "import numpy as np\n",
    "import pandas as pd\n",
    "import matplotlib.pyplot as plt\n",
    "import scipy\n",
    "from scipy import stats"
   ]
  },
  {
   "cell_type": "code",
   "execution_count": 9,
   "metadata": {},
   "outputs": [
    {
     "data": {
      "text/html": [
       "<div>\n",
       "<style scoped>\n",
       "    .dataframe tbody tr th:only-of-type {\n",
       "        vertical-align: middle;\n",
       "    }\n",
       "\n",
       "    .dataframe tbody tr th {\n",
       "        vertical-align: top;\n",
       "    }\n",
       "\n",
       "    .dataframe thead th {\n",
       "        text-align: right;\n",
       "    }\n",
       "</style>\n",
       "<table border=\"1\" class=\"dataframe\">\n",
       "  <thead>\n",
       "    <tr style=\"text-align: right;\">\n",
       "      <th></th>\n",
       "      <th>mu</th>\n",
       "      <th>sigma</th>\n",
       "    </tr>\n",
       "  </thead>\n",
       "  <tbody>\n",
       "    <tr>\n",
       "      <th>S</th>\n",
       "      <td>400</td>\n",
       "      <td>18</td>\n",
       "    </tr>\n",
       "    <tr>\n",
       "      <th>h</th>\n",
       "      <td>12.6</td>\n",
       "      <td>2.58</td>\n",
       "    </tr>\n",
       "    <tr>\n",
       "      <th>k</th>\n",
       "      <td>9.5</td>\n",
       "      <td>5.24</td>\n",
       "    </tr>\n",
       "    <tr>\n",
       "      <th>S0</th>\n",
       "      <td>12.6</td>\n",
       "      <td>2.58</td>\n",
       "    </tr>\n",
       "  </tbody>\n",
       "</table>\n",
       "</div>"
      ],
      "text/plain": [
       "      mu sigma\n",
       "S    400    18\n",
       "h   12.6  2.58\n",
       "k    9.5  5.24\n",
       "S0  12.6  2.58"
      ]
     },
     "execution_count": 9,
     "metadata": {},
     "output_type": "execute_result"
    }
   ],
   "source": [
    "df1=pd.DataFrame(columns=['mu','sigma'])\n",
    "df1 = df1.append({'mu':400,'sigma':18}, ignore_index=True)\n",
    "df1 = df1.append({'mu':12.6,'sigma':2.58}, ignore_index=True)\n",
    "df1 = df1.append({'mu':9.5,'sigma':5.24}, ignore_index=True)\n",
    "df1 = df1.append({'mu':12.6,'sigma':2.58}, ignore_index=True)\n",
    "df1.index=['S','h','k','S0']\n",
    "df1"
   ]
  },
  {
   "cell_type": "code",
   "execution_count": 11,
   "metadata": {},
   "outputs": [
    {
     "data": {
      "image/png": "[encoded data removed]",
      "text/plain": [
       "<Figure size 432x288 with 1 Axes>"
      ]
     },
     "metadata": {
      "needs_background": "light"
     },
     "output_type": "display_data"
    }
   ],
   "source": [
    "N=10000\n",
    "mas=[]\n",
    "for i in range(N):\n",
    "    tek=1\n",
    "    for j in range(len(df1)):\n",
    "        x=stats.lognorm.rvs(loc=0, scale=np.exp(df1.iloc[j,0]), s=df1.iloc[j,1], size=1)[0]\n",
    "        tek*=x\n",
    "    mas.append(tek)\n",
    "\n",
    "mas=np.array(mas)\n",
    "#mas=mas[mas>0]\n",
    "plt.hist(mas,bins=100,density=True)\n",
    "plt.show()"
   ]
  },
  {
   "cell_type": "code",
   "execution_count": 2,
   "metadata": {},
   "outputs": [],
   "source": [
    "def cal_CTE(mas,beta):\n",
    "    var=np.quantile(mas,beta)\n",
    "    print(var)\n",
    "    hist,bin_edges=np.histogram(mas,bins=100,density=True)\n",
    "    bins_edges=bin_edges[:-1]\n",
    "    hist=hist/len(hist)\n",
    "    mask=(bins_edges>=var)\n",
    "    otv=(hist[mask])*(bins_edges[mask])\n",
    "    return np.sum(otv)/(1-beta)\n"
   ]
  },
  {
   "cell_type": "code",
   "execution_count": 3,
   "metadata": {},
   "outputs": [
    {
     "name": "stdout",
     "output_type": "stream",
     "text": [
      "0.35783006038732357\n"
     ]
    },
    {
     "data": {
      "text/plain": [
       "0.14221139427286691"
      ]
     },
     "execution_count": 3,
     "metadata": {},
     "output_type": "execute_result"
    }
   ],
   "source": [
    "u=stats.norm.rvs(loc=0, scale=0.2793, size=100)\n",
    "cal_CTE(u,0.9)"
   ]
  },
  {
   "cell_type": "code",
   "execution_count": 138,
   "metadata": {},
   "outputs": [
    {
     "name": "stdout",
     "output_type": "stream",
     "text": [
      "0.21523875080870797\n"
     ]
    },
    {
     "data": {
      "text/plain": [
       "0.17646635323715912"
      ]
     },
     "execution_count": 138,
     "metadata": {},
     "output_type": "execute_result"
    }
   ],
   "source": [
    "u=stats.norm.rvs(loc=0, scale=0.1675, size=100000)\n",
    "cal_CTE(u,0.9)"
   ]
  },
  {
   "cell_type": "code",
   "execution_count": 133,
   "metadata": {},
   "outputs": [
    {
     "data": {
      "image/png": "[encoded data removed]",
      "text/plain": [
       "<Figure size 432x288 with 1 Axes>"
      ]
     },
     "metadata": {
      "needs_background": "light"
     },
     "output_type": "display_data"
    }
   ],
   "source": [
    "u=stats.norm.rvs(loc=0, scale=0.2793, size=10000)\n",
    "hist,bin_edges=np.histogram(u,bins=100)\n",
    "bins_edges=bin_edges[:-1]\n",
    "hist=hist/len(hist)\n",
    "plt.plot(bins_edges,hist)\n",
    "plt.show()"
   ]
  },
  {
   "cell_type": "code",
   "execution_count": 131,
   "metadata": {},
   "outputs": [
    {
     "data": {
      "text/plain": [
       "array([0.01, 0.  , 0.  , 0.02, 0.02, 0.04, 0.03, 0.01, 0.06, 0.05, 0.04,\n",
       "       0.12, 0.03, 0.11, 0.2 , 0.19, 0.21, 0.19, 0.23, 0.2 , 0.4 , 0.5 ,\n",
       "       0.45, 0.65, 0.63, 0.71, 0.85, 0.84, 1.05, 1.05, 1.36, 1.4 , 1.21,\n",
       "       1.69, 1.52, 1.67, 1.99, 2.01, 2.29, 2.16, 2.38, 2.44, 2.67, 2.52,\n",
       "       2.67, 2.87, 2.75, 2.88, 2.68, 3.04, 2.92, 2.47, 2.64, 2.75, 2.55,\n",
       "       2.62, 2.59, 2.06, 2.56, 2.  , 2.23, 1.69, 1.69, 1.76, 1.5 , 1.64,\n",
       "       1.23, 1.15, 1.02, 0.96, 0.93, 0.77, 0.72, 0.57, 0.52, 0.38, 0.41,\n",
       "       0.39, 0.34, 0.23, 0.31, 0.3 , 0.2 , 0.18, 0.1 , 0.11, 0.15, 0.04,\n",
       "       0.06, 0.05, 0.03, 0.01, 0.02, 0.02, 0.  , 0.01, 0.  , 0.  , 0.01,\n",
       "       0.02])"
      ]
     },
     "execution_count": 131,
     "metadata": {},
     "output_type": "execute_result"
    }
   ],
   "source": [
    "hist/len(hist)"
   ]
  },
  {
   "cell_type": "code",
   "execution_count": 129,
   "metadata": {},
   "outputs": [
    {
     "data": {
      "text/plain": [
       "10000"
      ]
     },
     "execution_count": 129,
     "metadata": {},
     "output_type": "execute_result"
    }
   ],
   "source": [
    "np.sum(hist)"
   ]
  },
  {
   "cell_type": "code",
   "execution_count": 113,
   "metadata": {},
   "outputs": [
    {
     "data": {
      "text/plain": [
       "(-0.0016839123904877973, 0.28141119835438777)"
      ]
     },
     "execution_count": 113,
     "metadata": {},
     "output_type": "execute_result"
    }
   ],
   "source": [
    "stats.norm.fit(u)"
   ]
  },
  {
   "cell_type": "code",
   "execution_count": 111,
   "metadata": {},
   "outputs": [
    {
     "data": {
      "text/plain": [
       "0.19748147725984921"
      ]
     },
     "execution_count": 111,
     "metadata": {},
     "output_type": "execute_result"
    }
   ],
   "source": [
    "np.sum(bins_edges*hist)"
   ]
  },
  {
   "cell_type": "code",
   "execution_count": 105,
   "metadata": {},
   "outputs": [
    {
     "data": {
      "text/plain": [
       "51.28663294372133"
      ]
     },
     "execution_count": 105,
     "metadata": {},
     "output_type": "execute_result"
    }
   ],
   "source": [
    "hist.sum()"
   ]
  },
  {
   "cell_type": "code",
   "execution_count": 93,
   "metadata": {},
   "outputs": [
    {
     "name": "stdout",
     "output_type": "stream",
     "text": [
      "0.36319514753830834\n",
      "[0.48168179 0.53520199 0.53520199 0.3211212  0.58872219 0.3746414\n",
      " 0.1070404  0.1605606  0.3746414  0.2140808  0.3746414  0.1605606\n",
      " 0.1070404  0.3211212  0.0535202  0.1605606  0.0535202  0.0535202\n",
      " 0.0535202  0.         0.         0.         0.         0.0535202\n",
      " 0.         0.         0.         0.         0.         0.1070404 ]\n",
      "[0.37140245 0.39008698 0.40877152 0.42745605 0.44614058 0.46482512\n",
      " 0.48350965 0.50219419 0.52087872 0.53956326 0.55824779 0.57693232\n",
      " 0.59561686 0.61430139 0.63298593 0.65167046 0.670355   0.68903953\n",
      " 0.70772406 0.7264086  0.74509313 0.76377767 0.7824622  0.80114674\n",
      " 0.81983127 0.8385158  0.85720034 0.87588487 0.89456941 0.91325394]\n"
     ]
    },
    {
     "data": {
      "text/plain": [
       "25.76120701698601"
      ]
     },
     "execution_count": 93,
     "metadata": {},
     "output_type": "execute_result"
    }
   ],
   "source": [
    "u=stats.norm.rvs(loc=0, scale=0.2793, size=1000)\n",
    "cal_CTE(u,0.9)"
   ]
  },
  {
   "cell_type": "code",
   "execution_count": 77,
   "metadata": {},
   "outputs": [
    {
     "data": {
      "text/plain": [
       "3.848132094995337"
      ]
     },
     "execution_count": 77,
     "metadata": {},
     "output_type": "execute_result"
    }
   ],
   "source": [
    "cal_CTE(mas,0.9)"
   ]
  },
  {
   "cell_type": "code",
   "execution_count": 73,
   "metadata": {},
   "outputs": [],
   "source": [
    "q=np.quantile(mas,0.9)"
   ]
  },
  {
   "cell_type": "code",
   "execution_count": 68,
   "metadata": {},
   "outputs": [
    {
     "data": {
      "text/plain": [
       "array([3.29434772e-07, 3.54775908e-07, 5.06822726e-07, 5.19493295e-07,\n",
       "       5.76510851e-07, 6.96881249e-07, 7.95078152e-07, 8.20419288e-07,\n",
       "       1.03898659e-06, 9.91471958e-07, 1.01998074e-06, 1.10867471e-06,\n",
       "       1.06432773e-06, 1.15302170e-06, 1.17202755e-06, 1.23221275e-06,\n",
       "       1.18786576e-06, 1.10867471e-06, 1.18786576e-06, 1.06749537e-06,\n",
       "       1.06432773e-06, 8.83772129e-07, 8.39425141e-07, 8.99610339e-07,\n",
       "       8.90107413e-07, 7.88742868e-07, 6.58869544e-07, 6.17690198e-07,\n",
       "       6.74707754e-07, 5.89181419e-07, 4.59308096e-07, 4.81481590e-07,\n",
       "       3.70614119e-07, 3.61111193e-07, 3.73781761e-07, 3.00925994e-07,\n",
       "       2.62914289e-07, 2.02729091e-07, 2.43908437e-07, 2.18567301e-07,\n",
       "       1.55214460e-07, 1.93226164e-07, 1.29873324e-07, 1.17202755e-07,\n",
       "       1.01364545e-07, 7.91910510e-08, 8.23586930e-08, 1.07699829e-07,\n",
       "       8.86939771e-08, 4.43469886e-08, 5.38499147e-08, 5.06822726e-08,\n",
       "       6.33528408e-08, 2.53411363e-08, 3.80117045e-08, 1.58382102e-08,\n",
       "       2.21734943e-08, 1.58382102e-08, 9.50292612e-09, 1.90058522e-08,\n",
       "       1.26705682e-08, 2.53411363e-08, 9.50292612e-09, 6.33528408e-09,\n",
       "       3.16764204e-09, 0.00000000e+00, 3.16764204e-09, 6.33528408e-09,\n",
       "       0.00000000e+00, 0.00000000e+00, 6.33528408e-09, 6.33528408e-09,\n",
       "       9.50292612e-09, 6.33528408e-09, 3.16764204e-09, 0.00000000e+00,\n",
       "       3.16764204e-09, 3.16764204e-09, 0.00000000e+00, 0.00000000e+00,\n",
       "       0.00000000e+00, 0.00000000e+00, 0.00000000e+00, 0.00000000e+00,\n",
       "       6.33528408e-09, 0.00000000e+00, 0.00000000e+00, 3.16764204e-09,\n",
       "       0.00000000e+00, 0.00000000e+00, 0.00000000e+00, 0.00000000e+00,\n",
       "       0.00000000e+00, 0.00000000e+00, 0.00000000e+00, 0.00000000e+00,\n",
       "       0.00000000e+00, 0.00000000e+00, 0.00000000e+00, 3.16764204e-09])"
      ]
     },
     "execution_count": 68,
     "metadata": {},
     "output_type": "execute_result"
    }
   ],
   "source": [
    "\n",
    "hist,bin_edges=np.histogram(mas,bins=100,density=True)\n",
    "\n",
    "hist\n",
    "# plt.bar(bin_edges[:-1], hist,width=50)\n",
    "# plt.show()"
   ]
  },
  {
   "cell_type": "code",
   "execution_count": 75,
   "metadata": {},
   "outputs": [
    {
     "data": {
      "text/plain": [
       "101"
      ]
     },
     "execution_count": 75,
     "metadata": {},
     "output_type": "execute_result"
    }
   ],
   "source": [
    "len(bin_edges)"
   ]
  },
  {
   "cell_type": "code",
   "execution_count": 70,
   "metadata": {},
   "outputs": [
    {
     "data": {
      "text/plain": [
       "[<matplotlib.lines.Line2D at 0x7fca1f982dd8>]"
      ]
     },
     "execution_count": 70,
     "metadata": {},
     "output_type": "execute_result"
    },
    {
     "data": {
      "image/png": "[encoded data removed]",
      "text/plain": [
       "<Figure size 432x288 with 1 Axes>"
      ]
     },
     "metadata": {
      "needs_background": "light"
     },
     "output_type": "display_data"
    }
   ],
   "source": [
    "plt.plot(np.arange(len(hist)),hist)"
   ]
  },
  {
   "cell_type": "code",
   "execution_count": 63,
   "metadata": {},
   "outputs": [
    {
     "name": "stdout",
     "output_type": "stream",
     "text": [
      "[6.62987479e-07 1.13021468e-06 7.90643453e-07 3.27534187e-07\n",
      " 1.09917179e-07 3.13596562e-08 6.65204828e-09 3.80117045e-09\n",
      " 9.50292612e-10 3.16764204e-10]\n"
     ]
    }
   ],
   "source": [
    "print(a)"
   ]
  },
  {
   "cell_type": "code",
   "execution_count": 29,
   "metadata": {},
   "outputs": [
    {
     "data": {
      "text/plain": [
       "(0.1642135171049114, -1750298.2578572235, 2321969.855002314)"
      ]
     },
     "execution_count": 29,
     "metadata": {},
     "output_type": "execute_result"
    }
   ],
   "source": [
    "a,b,c=scipy.stats.lognorm.fit(mas)\n",
    "a,b,c"
   ]
  },
  {
   "cell_type": "code",
   "execution_count": 46,
   "metadata": {},
   "outputs": [
    {
     "data": {
      "text/plain": [
       "(10.907090506409983, 405.7547273366481, 16.064315581807165)"
      ]
     },
     "execution_count": 46,
     "metadata": {},
     "output_type": "execute_result"
    }
   ],
   "source": [
    "a,b,c=scipy.stats.lognorm.fit(mas)\n",
    "a,b,c"
   ]
  },
  {
   "cell_type": "code",
   "execution_count": 51,
   "metadata": {},
   "outputs": [
    {
     "data": {
      "image/png": "[encoded data removed]",
      "text/plain": [
       "<Figure size 432x288 with 1 Axes>"
      ]
     },
     "metadata": {
      "needs_background": "light"
     },
     "output_type": "display_data"
    }
   ],
   "source": [
    "otv=stats.lognorm.rvs(a,b,c,size=10000)\n",
    "plt.plot(otv)\n",
    "plt.show()"
   ]
  },
  {
   "cell_type": "code",
   "execution_count": 31,
   "metadata": {},
   "outputs": [
    {
     "data": {
      "image/png": "[encoded data removed]",
      "text/plain": [
       "<Figure size 432x288 with 1 Axes>"
      ]
     },
     "metadata": {
      "needs_background": "light"
     },
     "output_type": "display_data"
    }
   ],
   "source": [
    "otv=stats.lognorm.rvs(a,b,c,size=10000)\n",
    "plt.hist(otv,bins=100,density=True)\n",
    "plt.show()"
   ]
  },
  {
   "cell_type": "code",
   "execution_count": 28,
   "metadata": {},
   "outputs": [
    {
     "data": {
      "image/png": "[encoded data removed]",
      "text/plain": [
       "<Figure size 432x288 with 1 Axes>"
      ]
     },
     "metadata": {
      "needs_background": "light"
     },
     "output_type": "display_data"
    }
   ],
   "source": [
    "a,b,c=scipy.stats.lognorm.fit(mas)\n",
    "mu=np.log(c)\n",
    "sigma=a\n",
    "otv=stats.norm.rvs(loc=mu,scale=sigma,size=1000)\n",
    "otv=np.exp(otv)\n",
    "plt.hist(otv,bins=100,density=True)\n",
    "plt.show()"
   ]
  },
  {
   "cell_type": "code",
   "execution_count": 27,
   "metadata": {},
   "outputs": [
    {
     "name": "stdout",
     "output_type": "stream",
     "text": [
      "3.0481976397202954 0.3844005595419854 10.048672815589768\n"
     ]
    }
   ],
   "source": [
    "otv=stats.norm.rvs(loc=10,scale=3,size=1000)\n",
    "otv=np.exp(otv)\n",
    "a,b,c=scipy.stats.lognorm.fit(otv)\n",
    "print(a,b,np.log(c))"
   ]
  },
  {
   "cell_type": "code",
   "execution_count": 149,
   "metadata": {},
   "outputs": [
    {
     "data": {
      "image/png": "[encoded data removed]",
      "text/plain": [
       "<Figure size 432x288 with 1 Axes>"
      ]
     },
     "metadata": {
      "needs_background": "light"
     },
     "output_type": "display_data"
    }
   ],
   "source": [
    "x=stats.lognorm.rvs(s=0.1,size=10000)\n",
    "plt.hist(x,bins=100,density=True)\n",
    "plt.show()"
   ]
  },
  {
   "cell_type": "code",
   "execution_count": 4,
   "metadata": {},
   "outputs": [],
   "source": [
    "\n",
    "from statsmodels.nonparametric.kde import KDEUnivariate\n",
    "\n",
    "\n",
    "\n",
    "def kde_statsmodels_u(x, x_grid, bandwidth=0.2, **kwargs):\n",
    "    \"\"\"Univariate Kernel Density Estimation with Statsmodels\"\"\"\n",
    "    kde = KDEUnivariate(x)\n",
    "    kde.fit(bw=bandwidth, **kwargs)\n",
    "    return kde.evaluate(x_grid)"
   ]
  },
  {
   "cell_type": "code",
   "execution_count": 6,
   "metadata": {},
   "outputs": [
    {
     "data": {
      "text/plain": [
       "[<matplotlib.lines.Line2D at 0x7fa91d8136a0>]"
      ]
     },
     "execution_count": 6,
     "metadata": {},
     "output_type": "execute_result"
    },
    {
     "data": {
      "image/png": "[encoded data removed]",
      "text/plain": [
       "<Figure size 432x288 with 1 Axes>"
      ]
     },
     "metadata": {
      "needs_background": "light"
     },
     "output_type": "display_data"
    }
   ],
   "source": [
    "v=stats.norm.rvs(loc=0, scale=0.2793, size=100)\n",
    "x_grid = np.linspace(-4.5, 3.5, 1000)\n",
    "pdf = kde_statsmodels_u(v, x_grid, bandwidth=0.2)\n",
    "plt.plot(x_grid, pdf, color='blue', alpha=0.5, lw=3)"
   ]
  },
  {
   "cell_type": "code",
   "execution_count": 8,
   "metadata": {},
   "outputs": [
    {
     "data": {
      "text/plain": [
       "array([1.00376455e-78, 2.12441663e-78, 4.48901719e-78, 9.47036202e-78,\n",
       "       1.99473694e-77, 4.19477255e-77, 8.80714084e-77, 1.84614242e-76,\n",
       "       3.86366266e-76, 8.07303686e-76, 1.68414084e-75, 3.50770948e-75,\n",
       "       7.29411425e-75, 1.51434645e-74, 3.13893024e-74, 6.49593726e-74,\n",
       "       1.34216440e-73, 2.76868372e-73, 5.70222978e-73, 1.17251881e-72,\n",
       "       2.40712510e-72, 4.93379659e-72, 1.00964234e-71, 2.06280231e-71,\n",
       "       4.20776425e-71, 8.56937061e-71, 1.74240934e-70, 3.53716396e-70,\n",
       "       7.16908829e-70, 1.45069597e-69, 2.93084341e-69, 5.91170243e-69,\n",
       "       1.19051878e-68, 2.39366668e-68, 4.80501596e-68, 9.63007638e-68,\n",
       "       1.92694077e-67, 3.84955684e-67, 7.67815447e-67, 1.52899720e-66,\n",
       "       3.03990683e-66, 6.03417070e-66, 1.19585534e-65, 2.36615637e-65,\n",
       "       4.67425038e-65, 9.21900900e-65, 1.81534947e-64, 3.56894606e-64,\n",
       "       7.00524717e-64, 1.37281077e-63, 2.68597293e-63, 5.24682187e-63,\n",
       "       1.02328062e-62, 1.99249349e-62, 3.87349332e-62, 7.51817532e-62,\n",
       "       1.45688685e-61, 2.81866158e-61, 5.44457248e-61, 1.04999775e-60,\n",
       "       2.02169991e-60, 3.88641123e-60, 7.45906771e-60, 1.42930227e-59,\n",
       "       2.73443343e-59, 5.22293189e-59, 9.96013231e-59, 1.89635478e-58,\n",
       "       3.60477207e-58, 6.84131781e-58, 1.29629981e-57, 2.45230729e-57,\n",
       "       4.63178143e-57, 8.73423679e-57, 1.64439294e-56, 3.09093578e-56,\n",
       "       5.80066918e-56, 1.08685085e-55, 2.03313184e-55, 3.79721221e-55,\n",
       "       7.08056530e-55, 1.31818005e-54, 2.45010825e-54, 4.54673401e-54,\n",
       "       8.42398453e-54, 1.55825780e-53, 2.87782776e-53, 5.30632714e-53,\n",
       "       9.76847980e-53, 1.79541017e-52, 3.29461079e-52, 6.03598691e-52,\n",
       "       1.10406896e-51, 2.01626609e-51, 3.67623470e-51, 6.69209892e-51,\n",
       "       1.21625660e-50, 2.20694650e-50, 3.99817813e-50, 7.23163019e-50,\n",
       "       1.30591231e-49, 2.35448301e-49, 4.23819410e-49, 7.61675282e-49,\n",
       "       1.36666672e-48, 2.44826888e-48, 4.37884269e-48, 7.81921782e-48,\n",
       "       1.39402646e-47, 2.48131819e-47, 4.40958420e-47, 7.82377870e-47,\n",
       "       1.38592335e-46, 2.45112582e-46, 4.32808453e-46, 7.63008896e-46,\n",
       "       1.34297277e-45, 2.35998123e-45, 4.14050799e-45, 7.25274560e-45,\n",
       "       1.26839639e-44, 2.21468157e-44, 3.86074680e-44, 6.71947105e-44,\n",
       "       1.16762287e-43, 2.02569396e-43, 3.50872082e-43, 6.06774794e-43,\n",
       "       1.04763497e-42, 1.80591032e-42, 3.10803650e-42, 5.34047368e-42,\n",
       "       9.16172359e-42, 1.56920011e-41, 2.68338638e-41, 4.58133269e-41,\n",
       "       7.80915763e-41, 1.32898563e-40, 2.25808413e-40, 3.83057254e-40,\n",
       "       6.48770361e-40, 1.09703895e-39, 1.85206761e-39, 3.12173016e-39,\n",
       "       5.25336557e-39, 8.82640039e-39, 1.48058507e-38, 2.47962978e-38,\n",
       "       4.14614093e-38, 6.92157637e-38, 1.15363841e-37, 1.91972112e-37,\n",
       "       3.18940972e-37, 5.29037216e-37, 8.76124598e-37, 1.44860261e-36,\n",
       "       2.39131281e-36, 3.94118896e-36, 6.48517744e-36, 1.06541844e-35,\n",
       "       1.74752056e-35, 2.86172646e-35, 4.67883450e-35, 7.63749586e-35,\n",
       "       1.24470958e-34, 2.02529745e-34, 3.29013214e-34, 5.33631682e-34,\n",
       "       8.64119114e-34, 1.39704166e-33, 2.25501193e-33, 3.63405982e-33,\n",
       "       5.84708007e-33, 9.39268485e-33, 1.50641351e-32, 2.41213936e-32,\n",
       "       3.85624244e-32, 6.15502764e-32, 9.80842841e-32, 1.56053167e-31,\n",
       "       2.47884569e-31, 3.93124526e-31, 6.22464417e-31, 9.84017141e-31,\n",
       "       1.55308255e-30, 2.44731664e-30, 3.85025531e-30, 6.04773340e-30,\n",
       "       9.48417357e-30, 1.48494406e-29, 2.32126348e-29, 3.62278475e-29,\n",
       "       5.64500549e-29, 8.78192964e-29, 1.36401544e-28, 2.11520451e-28,\n",
       "       3.27483325e-28, 5.06208889e-28, 7.81221327e-28, 1.20371082e-27,\n",
       "       1.85171433e-27, 2.84399980e-27, 4.36102812e-27, 6.67654782e-27,\n",
       "       1.02051359e-26, 1.55736128e-26, 2.37281407e-26, 3.60945638e-26,\n",
       "       5.48180576e-26, 8.31207096e-26, 1.25834173e-25, 1.90191767e-25,\n",
       "       2.87004419e-25, 4.32403515e-25, 6.50419579e-25, 9.76791244e-25,\n",
       "       1.46458193e-24, 2.19244824e-24, 3.27679136e-24, 4.88958495e-24,\n",
       "       7.28448694e-24, 1.08350198e-23, 1.60903029e-23, 2.38562677e-23,\n",
       "       3.53138080e-23, 5.21903702e-23, 7.70087330e-23, 1.13447089e-22,\n",
       "       1.66859336e-22, 2.45025591e-22, 3.59232948e-22, 5.25829156e-22,\n",
       "       7.68452362e-22, 1.12122565e-21, 1.63332605e-21, 2.37550827e-21,\n",
       "       3.44940348e-21, 5.00075119e-21, 7.23819527e-21, 1.04599389e-20,\n",
       "       1.50914790e-20, 2.17389352e-20, 3.12642881e-20, 4.48913468e-20,\n",
       "       6.43547405e-20, 9.21090438e-20, 1.31621801e-19, 1.87783407e-19,\n",
       "       2.67479456e-19, 3.80388593e-19, 5.40092791e-19, 7.65619740e-19,\n",
       "       1.08358183e-18, 1.53113739e-18, 2.16008316e-18, 3.04250042e-18,\n",
       "       4.27853111e-18, 6.00706898e-18, 8.42043306e-18, 1.17844720e-17,\n",
       "       1.64660611e-17, 2.29706468e-17, 3.19934177e-17, 4.44889307e-17,\n",
       "       6.17656799e-17, 8.56143218e-17, 1.18481231e-16, 1.63703005e-16,\n",
       "       2.25822757e-16, 3.11016002e-16, 4.27663067e-16, 5.87117130e-16,\n",
       "       8.04732912e-16, 1.10124207e-15, 1.50458890e-15, 2.05237613e-15,\n",
       "       2.79511779e-15, 3.80055784e-15, 5.15939362e-15, 6.99284788e-15,\n",
       "       9.46266831e-15, 1.27843099e-14, 1.72442818e-14, 2.32229351e-14,\n",
       "       3.12243419e-14, 4.19154073e-14, 5.61769712e-14, 7.51704596e-14,\n",
       "       1.00424660e-13, 1.33948494e-13, 1.78377317e-13, 2.37162367e-13,\n",
       "       3.14815645e-13, 4.17225891e-13, 5.52065536e-13, 7.29313911e-13,\n",
       "       9.61928664e-13, 1.26670586e-12, 1.66537972e-12, 2.18602630e-12,\n",
       "       2.86485175e-12, 3.74846641e-12, 4.89677152e-12, 6.38661664e-12,\n",
       "       8.31642539e-12, 1.08120348e-11, 1.40340531e-11, 1.81871143e-11,\n",
       "       2.35314957e-11, 3.03976765e-11, 3.92045459e-11, 5.04821351e-11,\n",
       "       6.48999438e-11, 8.33021709e-11, 1.06751451e-10, 1.36583050e-10,\n",
       "       1.74471887e-10, 2.22515277e-10, 2.83334869e-10, 3.60202008e-10,\n",
       "       4.57191606e-10, 5.79370648e-10, 7.33028674e-10, 9.25959066e-10,\n",
       "       1.16780166e-09, 1.47045923e-09, 1.84860290e-09, 2.32028402e-09,\n",
       "       2.90767389e-09, 3.63795590e-09, 4.54439958e-09, 5.66765116e-09,\n",
       "       7.05728104e-09, 8.77363577e-09, 1.08900500e-08, 1.34954834e-08,\n",
       "       1.66976566e-08, 2.06267757e-08, 2.54399437e-08, 3.13263776e-08,\n",
       "       3.85135637e-08, 4.72745068e-08, 5.79362487e-08, 7.08898578e-08,\n",
       "       8.66021208e-08, 1.05629196e-07, 1.28632527e-07, 1.56397345e-07,\n",
       "       1.89854146e-07, 2.30103563e-07, 2.78445096e-07, 3.36410256e-07,\n",
       "       4.05800686e-07, 4.88731936e-07, 5.87683600e-07, 7.05556638e-07,\n",
       "       8.45738741e-07, 1.01217872e-06, 1.20947096e-06, 1.44295112e-06,\n",
       "       1.71880427e-06, 2.04418683e-06, 2.42736384e-06, 2.87786292e-06,\n",
       "       3.40664684e-06, 4.02630616e-06, 4.75127408e-06, 5.59806527e-06,\n",
       "       6.58554085e-06, 7.73520155e-06, 9.07151139e-06, 1.06222541e-05,\n",
       "       1.24189246e-05, 1.44971581e-05, 1.68971988e-05, 1.96644114e-05,\n",
       "       2.28498368e-05, 2.65107950e-05, 3.07115380e-05, 3.55239535e-05,\n",
       "       4.10283226e-05, 4.73141337e-05, 5.44809533e-05, 6.26393561e-05,\n",
       "       7.19119161e-05, 8.24342593e-05, 9.43561787e-05, 1.07842813e-04,\n",
       "       1.23075890e-04, 1.40255031e-04, 1.59599124e-04, 1.81347754e-04,\n",
       "       2.05762702e-04, 2.33129502e-04, 2.63759058e-04, 2.97989322e-04,\n",
       "       3.36187034e-04, 3.78749510e-04, 4.26106491e-04, 4.78722045e-04,\n",
       "       5.37096526e-04, 6.01768574e-04, 6.73317182e-04, 7.52363805e-04,\n",
       "       8.39574526e-04, 9.35662276e-04, 1.04138911e-03, 1.15756856e-03,\n",
       "       1.28506800e-03, 1.42481118e-03, 1.57778070e-03, 1.74502072e-03,\n",
       "       1.92763962e-03, 2.12681288e-03, 2.34378596e-03, 2.57987741e-03,\n",
       "       2.83648203e-03, 3.11507422e-03, 3.41721144e-03, 3.74453790e-03,\n",
       "       4.09878836e-03, 4.48179217e-03, 4.89547741e-03, 5.34187533e-03,\n",
       "       5.82312490e-03, 6.34147760e-03, 6.89930231e-03, 7.49909047e-03,\n",
       "       8.14346133e-03, 8.83516726e-03, 9.57709929e-03, 1.03722925e-02,\n",
       "       1.12239318e-02, 1.21353568e-02, 1.31100678e-02, 1.41517304e-02,\n",
       "       1.52641805e-02, 1.64514287e-02, 1.77176643e-02, 1.90672588e-02,\n",
       "       2.05047680e-02, 2.20349345e-02, 2.36626883e-02, 2.53931463e-02,\n",
       "       2.72316114e-02, 2.91835692e-02, 3.12546841e-02, 3.34507931e-02,\n",
       "       3.57778985e-02, 3.82421582e-02, 4.08498745e-02, 4.36074804e-02,\n",
       "       4.65215244e-02, 4.95986529e-02, 5.28455900e-02, 5.62691159e-02,\n",
       "       5.98760426e-02, 6.36731877e-02, 6.76673462e-02, 7.18652601e-02,\n",
       "       7.62735868e-02, 8.08988655e-02, 8.57474818e-02, 9.08256320e-02,\n",
       "       9.61392856e-02, 1.01694148e-01, 1.07495622e-01, 1.13548771e-01,\n",
       "       1.19858276e-01, 1.26428408e-01, 1.33262982e-01, 1.40365327e-01,\n",
       "       1.47738254e-01, 1.55384022e-01, 1.63304311e-01, 1.71500195e-01,\n",
       "       1.79972122e-01, 1.88719892e-01, 1.97742641e-01, 2.07038831e-01,\n",
       "       2.16606240e-01, 2.26441959e-01, 2.36542390e-01, 2.46903251e-01,\n",
       "       2.57519588e-01, 2.68385778e-01, 2.79495555e-01, 2.90842021e-01,\n",
       "       3.02417675e-01, 3.14214435e-01, 3.26223671e-01, 3.38436231e-01,\n",
       "       3.50842479e-01, 3.63432326e-01, 3.76195269e-01, 3.89120427e-01,\n",
       "       4.02196578e-01, 4.15412196e-01, 4.28755488e-01, 4.42214427e-01,\n",
       "       4.55776790e-01, 4.69430190e-01, 4.83162102e-01, 4.96959899e-01,\n",
       "       5.10810868e-01, 5.24702244e-01, 5.38621222e-01, 5.52554979e-01,\n",
       "       5.66490689e-01, 5.80415536e-01, 5.94316719e-01, 6.08181467e-01,\n",
       "       6.21997042e-01, 6.35750741e-01, 6.49429900e-01, 6.63021895e-01,\n",
       "       6.76514146e-01, 6.89894113e-01, 7.03149299e-01, 7.16267251e-01,\n",
       "       7.29235561e-01, 7.42041872e-01, 7.54673880e-01, 7.67119343e-01,\n",
       "       7.79366092e-01, 7.91402038e-01, 8.03215191e-01, 8.14793675e-01,\n",
       "       8.26125752e-01, 8.37199841e-01, 8.48004545e-01, 8.58528682e-01,\n",
       "       8.68761316e-01, 8.78691790e-01, 8.88309761e-01, 8.97605241e-01,\n",
       "       9.06568631e-01, 9.15190766e-01, 9.23462951e-01, 9.31377005e-01,\n",
       "       9.38925296e-01, 9.46100784e-01, 9.52897055e-01, 9.59308356e-01,\n",
       "       9.65329630e-01, 9.70956539e-01, 9.76185495e-01, 9.81013679e-01,\n",
       "       9.85439056e-01, 9.89460392e-01, 9.93077257e-01, 9.96290028e-01,\n",
       "       9.99099885e-01, 1.00150881e+00, 1.00351954e+00, 1.00513562e+00,\n",
       "       1.00636128e+00, 1.00720147e+00, 1.00766183e+00, 1.00774860e+00,\n",
       "       1.00746861e+00, 1.00682921e+00, 1.00583826e+00, 1.00450399e+00,\n",
       "       1.00283504e+00, 1.00084033e+00, 9.98528993e-01, 9.95910364e-01,\n",
       "       9.92993865e-01, 9.89788957e-01, 9.86305074e-01, 9.82551556e-01,\n",
       "       9.78537590e-01, 9.74272147e-01, 9.69763924e-01, 9.65021294e-01,\n",
       "       9.60052254e-01, 9.54864377e-01, 9.49464777e-01, 9.43860071e-01,\n",
       "       9.38056349e-01, 9.32059154e-01, 9.25873461e-01, 9.19503671e-01,\n",
       "       9.12953603e-01, 9.06226500e-01, 8.99325038e-01, 8.92251343e-01,\n",
       "       8.85007013e-01, 8.77593146e-01, 8.70010379e-01, 8.62258927e-01,\n",
       "       8.54338631e-01, 8.46249006e-01, 8.37989302e-01, 8.29558560e-01,\n",
       "       8.20955677e-01, 8.12179471e-01, 8.03228749e-01, 7.94102372e-01,\n",
       "       7.84799332e-01, 7.75318813e-01, 7.65660261e-01, 7.55823454e-01,\n",
       "       7.45808557e-01, 7.35616191e-01, 7.25247483e-01, 7.14704119e-01,\n",
       "       7.03988390e-01, 6.93103235e-01, 6.82052271e-01, 6.70839826e-01,\n",
       "       6.59470954e-01, 6.47951454e-01, 6.36287872e-01, 6.24487504e-01,\n",
       "       6.12558384e-01, 6.00509270e-01, 5.88349622e-01, 5.76089570e-01,\n",
       "       5.63739879e-01, 5.51311904e-01, 5.38817548e-01, 5.26269201e-01,\n",
       "       5.13679686e-01, 5.01062199e-01, 4.88430238e-01, 4.75797541e-01,\n",
       "       4.63178012e-01, 4.50585654e-01, 4.38034493e-01, 4.25538510e-01,\n",
       "       4.13111571e-01, 4.00767357e-01, 3.88519298e-01, 3.76380508e-01,\n",
       "       3.64363728e-01, 3.52481265e-01, 3.40744946e-01, 3.29166062e-01,\n",
       "       3.17755332e-01, 3.06522863e-01, 2.95478116e-01, 2.84629884e-01,\n",
       "       2.73986263e-01, 2.63554643e-01, 2.53341693e-01, 2.43353357e-01,\n",
       "       2.33594853e-01, 2.24070678e-01, 2.14784614e-01, 2.05739746e-01,\n",
       "       1.96938474e-01, 1.88382535e-01, 1.80073027e-01, 1.72010435e-01,\n",
       "       1.64194656e-01, 1.56625036e-01, 1.49300395e-01, 1.42219064e-01,\n",
       "       1.35378917e-01, 1.28777406e-01, 1.22411596e-01, 1.16278197e-01,\n",
       "       1.10373597e-01, 1.04693899e-01, 9.92349489e-02, 9.39923668e-02,\n",
       "       8.89615779e-02, 8.41378395e-02, 7.95162674e-02, 7.50918610e-02,\n",
       "       7.08595264e-02, 6.68140978e-02, 6.29503579e-02, 5.92630556e-02,\n",
       "       5.57469228e-02, 5.23966897e-02, 4.92070984e-02, 4.61729148e-02,\n",
       "       4.32889403e-02, 4.05500206e-02, 3.79510550e-02, 3.54870038e-02,\n",
       "       3.31528949e-02, 3.09438297e-02, 2.88549882e-02, 2.68816334e-02,\n",
       "       2.50191152e-02, 2.32628738e-02, 2.16084426e-02, 2.00514508e-02,\n",
       "       1.85876255e-02, 1.72127938e-02, 1.59228848e-02, 1.47139303e-02,\n",
       "       1.35820669e-02, 1.25235370e-02, 1.15346896e-02, 1.06119809e-02,\n",
       "       9.75197587e-03, 8.95134791e-03, 8.20687972e-03, 7.51546346e-03,\n",
       "       6.87410084e-03, 6.27990302e-03, 5.73009043e-03, 5.22199230e-03,\n",
       "       4.75304609e-03, 4.32079667e-03, 3.92289534e-03, 3.55709868e-03,\n",
       "       3.22126714e-03, 2.91336348e-03, 2.63145104e-03, 2.37369178e-03,\n",
       "       2.13834420e-03, 1.92376101e-03, 1.72838679e-03, 1.55075532e-03,\n",
       "       1.38948697e-03, 1.24328582e-03, 1.11093680e-03, 9.91302658e-04,\n",
       "       8.83320934e-04, 7.86000832e-04, 6.98420088e-04, 6.19721804e-04,\n",
       "       5.49111292e-04, 4.85852923e-04, 4.29267008e-04, 3.78726714e-04,\n",
       "       3.33655036e-04, 2.93521836e-04, 2.57840943e-04, 2.26167354e-04,\n",
       "       1.98094508e-04, 1.73251668e-04, 1.51301401e-04, 1.31937163e-04,\n",
       "       1.14881000e-04, 9.98813529e-05, 8.67109812e-05, 7.51649995e-05,\n",
       "       6.50590244e-05, 5.62274358e-05, 4.85217463e-05, 4.18090794e-05,\n",
       "       3.59707504e-05, 3.09009497e-05, 2.65055222e-05, 2.27008400e-05,\n",
       "       1.94127642e-05, 1.65756904e-05, 1.41316741e-05, 1.20296315e-05,\n",
       "       1.02246108e-05, 8.67712905e-06, 7.35257105e-06, 6.22064524e-06,\n",
       "       5.25489245e-06, 4.43224352e-06, 3.73262191e-06, 3.13858753e-06,\n",
       "       2.63501822e-06, 2.20882566e-06, 1.84870248e-06, 1.54489771e-06,\n",
       "       1.28901786e-06, 1.07385104e-06, 8.93211840e-07, 7.41804843e-07,\n",
       "       6.15104755e-07, 5.09251379e-07, 4.20957791e-07, 3.47430241e-07,\n",
       "       2.86298415e-07, 2.35554868e-07, 1.93502511e-07, 1.58709194e-07,\n",
       "       1.29968506e-07, 1.06266001e-07, 8.67501705e-08, 7.07075465e-08,\n",
       "       5.75413803e-08, 4.67534348e-08, 3.79284574e-08, 3.07209704e-08,\n",
       "       2.48440542e-08, 2.00598415e-08, 1.61714785e-08, 1.30163401e-08,\n",
       "       1.04603136e-08, 8.39299417e-09, 6.72365289e-09, 5.37786073e-09,\n",
       "       4.29466691e-09, 3.42424524e-09, 2.72593473e-09, 2.16661152e-09,\n",
       "       1.71933870e-09, 1.36224877e-09, 1.07762041e-09, 8.51117262e-10,\n",
       "       6.71161468e-10, 5.28419063e-10, 4.15378114e-10, 3.26003489e-10,\n",
       "       2.55454893e-10, 1.99857009e-10, 1.56112460e-10, 1.21749904e-10,\n",
       "       9.48008906e-11, 7.37002218e-11, 5.72054784e-11, 4.43321469e-11,\n",
       "       3.43014193e-11, 2.64982670e-11, 2.04378302e-11, 1.57385208e-11,\n",
       "       1.21005394e-11, 9.28874682e-12, 7.11903270e-12, 5.44748706e-12,\n",
       "       4.16181409e-12, 3.17453625e-12, 2.41762507e-12, 1.83826685e-12,\n",
       "       1.39552945e-12, 1.05774313e-12, 8.00446076e-13, 6.04775958e-13,\n",
       "       4.56212771e-13, 3.43598100e-13, 2.58371366e-13, 1.93976106e-13,\n",
       "       1.45399275e-13, 1.08814385e-13, 8.13055842e-14, 6.06546850e-14,\n",
       "       4.51770812e-14, 3.35955498e-14, 2.49433645e-14, 1.84900437e-14,\n",
       "       1.36845462e-14, 1.01118903e-14, 7.46008410e-15, 5.49495897e-15,\n",
       "       4.04105237e-15, 2.96711060e-15, 2.17511469e-15, 1.59198766e-15,\n",
       "       1.16333898e-15, 8.48754044e-16, 6.18253191e-16, 4.49634631e-16,\n",
       "       3.26484045e-16, 2.36686201e-16, 1.71313911e-16, 1.23800096e-16,\n",
       "       8.93218975e-17, 6.43433187e-17, 4.62761778e-17, 3.32292059e-17,\n",
       "       2.38226929e-17, 1.70517950e-17, 1.21859016e-17, 8.69467784e-18,\n",
       "       6.19380522e-18, 4.40524195e-18, 3.12816836e-18, 2.21778048e-18,\n",
       "       1.56983872e-18, 1.10942900e-18, 7.82802037e-19, 5.51457815e-19,\n",
       "       3.87864933e-19, 2.72368306e-19, 1.90959124e-19, 1.33669404e-19,\n",
       "       9.34181625e-20, 6.51835943e-20, 4.54101486e-20, 3.15845825e-20,\n",
       "       2.19333474e-20, 1.52069535e-20, 1.05265730e-20, 7.27510464e-21,\n",
       "       5.01994430e-21, 3.45832602e-21, 2.37870350e-21, 1.63351077e-21,\n",
       "       1.11998181e-21, 7.66667719e-22, 5.23975037e-22, 3.57537166e-22,\n",
       "       2.43578490e-22, 1.65677597e-22, 1.12511190e-22, 7.62842183e-23,\n",
       "       5.16393419e-23, 3.49006636e-23, 2.35501472e-23, 1.58657459e-23,\n",
       "       1.06717160e-23, 7.16662842e-24, 4.80509916e-24, 3.21659683e-24,\n",
       "       2.14979815e-24, 1.43451631e-24, 9.55696549e-25, 6.35683943e-25,\n",
       "       4.22152273e-25, 2.79900493e-25, 1.85286939e-25, 1.22459516e-25,\n",
       "       8.08065990e-26, 5.32362741e-26, 3.50166814e-26, 2.29958146e-26,\n",
       "       1.50774907e-26, 9.86996856e-27, 6.45073018e-27, 4.20928533e-27,\n",
       "       2.74229525e-27, 1.78371880e-27, 1.15836353e-27, 7.51051379e-28,\n",
       "       4.86184020e-28, 3.14222985e-28, 2.02759604e-28, 1.30626446e-28,\n",
       "       8.40208277e-29, 5.39571430e-29, 3.45952968e-29, 2.21457951e-29,\n",
       "       1.41537517e-29, 9.03145926e-30, 5.75374113e-30, 3.65972728e-30,\n",
       "       2.32409097e-30, 1.47354532e-30, 9.32781281e-31, 5.89524799e-31,\n",
       "       3.71989128e-31, 2.34349649e-31, 1.47402293e-31, 9.25656852e-32,\n",
       "       5.80365562e-32, 3.63294699e-32, 2.27050404e-32, 1.41674364e-32,\n",
       "       8.82604262e-33, 5.48967336e-33, 3.40904478e-33, 2.11360879e-33,\n",
       "       1.30834472e-33, 8.08584536e-34, 4.98923913e-34, 3.07361053e-34,\n",
       "       1.89046639e-34, 1.16089964e-34, 7.11747528e-35, 4.35675177e-35,\n",
       "       2.66259557e-35, 1.62462494e-35, 9.89706758e-36, 6.01956967e-36,\n",
       "       3.65535725e-36, 2.21615263e-36, 1.34145142e-36, 8.10691571e-37,\n",
       "       4.89149681e-37, 2.94668211e-37, 1.77227118e-37, 1.06422248e-37,\n",
       "       6.38028426e-38, 3.81902904e-38, 2.28229202e-38, 1.36174179e-38,\n",
       "       8.11191902e-39, 4.82456010e-39, 2.86481838e-39, 1.69840678e-39,\n",
       "       1.00529046e-39, 5.94082320e-40, 3.50515232e-40, 2.06477319e-40,\n",
       "       1.21434750e-40, 7.13048018e-41, 4.18022557e-41, 2.44672857e-41,\n",
       "       1.42980559e-41, 8.34205972e-42, 4.85931100e-42, 2.82605870e-42,\n",
       "       1.64094011e-42, 9.51282133e-43, 5.50593391e-43, 3.18168866e-43])"
      ]
     },
     "execution_count": 8,
     "metadata": {},
     "output_type": "execute_result"
    }
   ],
   "source": [
    "pdf"
   ]
  },
  {
   "cell_type": "code",
   "execution_count": null,
   "metadata": {},
   "outputs": [],
   "source": []
  },
  {
   "cell_type": "code",
   "execution_count": 23,
   "metadata": {},
   "outputs": [
    {
     "data": {
      "text/html": [
       "<div>\n",
       "<style scoped>\n",
       "    .dataframe tbody tr th:only-of-type {\n",
       "        vertical-align: middle;\n",
       "    }\n",
       "\n",
       "    .dataframe tbody tr th {\n",
       "        vertical-align: top;\n",
       "    }\n",
       "\n",
       "    .dataframe thead th {\n",
       "        text-align: right;\n",
       "    }\n",
       "</style>\n",
       "<table border=\"1\" class=\"dataframe\">\n",
       "  <thead>\n",
       "    <tr style=\"text-align: right;\">\n",
       "      <th></th>\n",
       "      <th>P10</th>\n",
       "      <th>P50</th>\n",
       "      <th>P90</th>\n",
       "      <th>type</th>\n",
       "    </tr>\n",
       "  </thead>\n",
       "  <tbody>\n",
       "    <tr>\n",
       "      <th>k</th>\n",
       "      <td>2.8</td>\n",
       "      <td>9.5</td>\n",
       "      <td>16.2</td>\n",
       "      <td>lognorm</td>\n",
       "    </tr>\n",
       "    <tr>\n",
       "      <th>h</th>\n",
       "      <td>9.3</td>\n",
       "      <td>12.6</td>\n",
       "      <td>15.9</td>\n",
       "      <td>norm</td>\n",
       "    </tr>\n",
       "    <tr>\n",
       "      <th>so</th>\n",
       "      <td>9.3</td>\n",
       "      <td>12.6</td>\n",
       "      <td>15.9</td>\n",
       "      <td>norm</td>\n",
       "    </tr>\n",
       "    <tr>\n",
       "      <th>s</th>\n",
       "      <td>440.0</td>\n",
       "      <td>460.0</td>\n",
       "      <td>480.0</td>\n",
       "      <td>norm</td>\n",
       "    </tr>\n",
       "  </tbody>\n",
       "</table>\n",
       "</div>"
      ],
      "text/plain": [
       "      P10    P50    P90     type\n",
       "k     2.8    9.5   16.2  lognorm\n",
       "h     9.3   12.6   15.9     norm\n",
       "so    9.3   12.6   15.9     norm\n",
       "s   440.0  460.0  480.0     norm"
      ]
     },
     "execution_count": 23,
     "metadata": {},
     "output_type": "execute_result"
    }
   ],
   "source": [
    "df1=pd.DataFrame(columns=['P10','P90','mytype'])\n",
    "df1 = df1.append({'P10':2.8,'P90':16.2,'type':'lognorm'}, ignore_index=True)\n",
    "df1 = df1.append({'P10':9.3,'P90':15.9,'type':'norm'}, ignore_index=True)\n",
    "df1 = df1.append({'P10':9.3,'P90':15.9,'type':'norm'}, ignore_index=True)\n",
    "df1 = df1.append({'P10':440.0,'P90':480.0,'type':'norm'}, ignore_index=True)\n",
    "df1['P50']=(df1['P90']+df1['P10'])/2\n",
    "df1=df1[['P10','P50','P90','type']]\n",
    "df1.index=['k','h','so','s']\n",
    "df1"
   ]
  },
  {
   "cell_type": "code",
   "execution_count": 19,
   "metadata": {},
   "outputs": [],
   "source": [
    "def find_mu_sigma(p10,p90,mytype):\n",
    "    if (mytype=='norm'):\n",
    "        return (p90+p10)/2,(p90-p10)/(scipy.stats.norm.ppf(0.9,loc=0,scale=1)-scipy.stats.norm.ppf(0.1,loc=0,scale=1))\n",
    "    elif (mytype=='lognorm'): \n",
    "        return (np.log(p90)+np.log(p10))/2,(np.log(p90)-np.log(p10))/(scipy.stats.norm.ppf(0.9,loc=0,scale=1)-scipy.stats.norm.ppf(0.1,loc=0,scale=1))\n",
    "    else:\n",
    "        print(\"bad mytype\")"
   ]
  },
  {
   "cell_type": "code",
   "execution_count": 24,
   "metadata": {},
   "outputs": [
    {
     "data": {
      "text/html": [
       "<div>\n",
       "<style scoped>\n",
       "    .dataframe tbody tr th:only-of-type {\n",
       "        vertical-align: middle;\n",
       "    }\n",
       "\n",
       "    .dataframe tbody tr th {\n",
       "        vertical-align: top;\n",
       "    }\n",
       "\n",
       "    .dataframe thead th {\n",
       "        text-align: right;\n",
       "    }\n",
       "</style>\n",
       "<table border=\"1\" class=\"dataframe\">\n",
       "  <thead>\n",
       "    <tr style=\"text-align: right;\">\n",
       "      <th></th>\n",
       "      <th>mu</th>\n",
       "      <th>sigma</th>\n",
       "      <th>mytype</th>\n",
       "    </tr>\n",
       "  </thead>\n",
       "  <tbody>\n",
       "    <tr>\n",
       "      <th>0</th>\n",
       "      <td>1.907315</td>\n",
       "      <td>0.684870</td>\n",
       "      <td>lognorm</td>\n",
       "    </tr>\n",
       "    <tr>\n",
       "      <th>1</th>\n",
       "      <td>12.600000</td>\n",
       "      <td>2.575004</td>\n",
       "      <td>norm</td>\n",
       "    </tr>\n",
       "    <tr>\n",
       "      <th>2</th>\n",
       "      <td>12.600000</td>\n",
       "      <td>2.575004</td>\n",
       "      <td>norm</td>\n",
       "    </tr>\n",
       "    <tr>\n",
       "      <th>3</th>\n",
       "      <td>460.000000</td>\n",
       "      <td>15.606083</td>\n",
       "      <td>norm</td>\n",
       "    </tr>\n",
       "  </tbody>\n",
       "</table>\n",
       "</div>"
      ],
      "text/plain": [
       "           mu      sigma   mytype\n",
       "0    1.907315   0.684870  lognorm\n",
       "1   12.600000   2.575004     norm\n",
       "2   12.600000   2.575004     norm\n",
       "3  460.000000  15.606083     norm"
      ]
     },
     "execution_count": 24,
     "metadata": {},
     "output_type": "execute_result"
    }
   ],
   "source": [
    "dfMuSigma=pd.DataFrame(columns=['mu','sigma','mytype'])\n",
    "for i in range(len(df1)):\n",
    "    tek_mu,tek_sigma=find_mu_sigma(df1.iloc[i,0],df1.iloc[i,2],df1.iloc[i,3])\n",
    "    #print(i,tek_sigma)\n",
    "    dfMuSigma=dfMuSigma.append({'mu':tek_mu,'sigma':tek_sigma,'mytype':df1.iloc[i,3]}, ignore_index=True)\n",
    "dfMuSigma"
   ]
  },
  {
   "cell_type": "code",
   "execution_count": 48,
   "metadata": {},
   "outputs": [
    {
     "data": {
      "image/png": "[encoded data removed]",
      "text/plain": [
       "<Figure size 432x288 with 1 Axes>"
      ]
     },
     "metadata": {
      "needs_background": "light"
     },
     "output_type": "display_data"
    }
   ],
   "source": [
    "N=10000\n",
    "mas=[]\n",
    "for i in range(N):\n",
    "    tek=1\n",
    "    for j in range(len(dfMuSigma)):\n",
    "        if (dfMuSigma['mytype'][j]=='lognorm'):\n",
    "            x=stats.norm.rvs(loc=dfMuSigma.iloc[j,0], scale=dfMuSigma.iloc[j,1], size=1)[0]\n",
    "            x=np.exp(x)\n",
    "        if (dfMuSigma['mytype'][j]=='norm'):\n",
    "            x=stats.norm.rvs(loc=dfMuSigma.iloc[j,0], scale=dfMuSigma.iloc[j,1], size=1)[0]\n",
    "        #x=stats.lognorm.rvs(loc=0, scale=np.exp(dfMuSigma.iloc[j,0]), s=dfMuSigma.iloc[j,1], size=1)[0]\n",
    "        tek*=x\n",
    "    mas.append(tek)\n",
    "\n",
    "mas=np.array(mas)\n",
    "#mas=mas[mas>0]\n",
    "plt.hist(mas/1000,bins=100,density=True)\n",
    "plt.show()"
   ]
  },
  {
   "cell_type": "code",
   "execution_count": 49,
   "metadata": {},
   "outputs": [
    {
     "data": {
      "text/plain": [
       "611906.5121249944"
      ]
     },
     "execution_count": 49,
     "metadata": {},
     "output_type": "execute_result"
    }
   ],
   "source": [
    "np.mean(mas)"
   ]
  },
  {
   "cell_type": "code",
   "execution_count": 108,
   "metadata": {},
   "outputs": [],
   "source": [
    "import scipy.integrate as integrator\n",
    "def calc_cte_norm(eps,mu,sigma, isUpperCTE):\n",
    "    if (isUpperCTE):\n",
    "        z_beta=scipy.stats.norm.ppf(1-eps,mu,sigma)\n",
    "        a=z_beta\n",
    "        b=np.inf\n",
    "    else:\n",
    "        z_beta=scipy.stats.norm.ppf(eps,mu,sigma)\n",
    "        a=-np.inf\n",
    "        b=z_beta\n",
    "    return integrator.quad(lambda x: x*scipy.stats.norm.pdf(x,mu,sigma), a,b)[0]/(eps)\n",
    "\n",
    "def calc_cte_lognorm(eps,mu,sigma, isUpperCTE):\n",
    "    #print(mu,sigma)\n",
    "    if (isUpperCTE):\n",
    "        mas=stats.norm.rvs(loc=mu, scale=sigma, size=100000)\n",
    "        mas=np.exp(mas)\n",
    "        a,b,c=stats.lognorm.fit(mas)\n",
    "        z_beta=scipy.stats.lognorm.ppf(1-eps,a,b,c)\n",
    "        A=z_beta\n",
    "        B=np.inf\n",
    "    else:\n",
    "        mas=stats.norm.rvs(loc=mu, scale=sigma, size=100000)\n",
    "        mas=np.exp(mas)\n",
    "        a,b,c=stats.lognorm.fit(mas)\n",
    "        z_beta=scipy.stats.lognorm.ppf(eps,a,b,c)\n",
    "        A=-np.inf\n",
    "        B=z_beta\n",
    "    return integrator.quad(lambda x: x*scipy.stats.lognorm.pdf(x,a,b,c), A,B)[0]/(eps)"
   ]
  },
  {
   "cell_type": "code",
   "execution_count": 105,
   "metadata": {},
   "outputs": [
    {
     "name": "stdout",
     "output_type": "stream",
     "text": [
      "1.907315 0.68487\n"
     ]
    },
    {
     "data": {
      "text/plain": [
       "23.49794812190343"
      ]
     },
     "execution_count": 105,
     "metadata": {},
     "output_type": "execute_result"
    }
   ],
   "source": [
    "calc_cte_lognorm(0.1,1.907315,0.684870,1)"
   ]
  },
  {
   "cell_type": "code",
   "execution_count": 106,
   "metadata": {},
   "outputs": [
    {
     "name": "stdout",
     "output_type": "stream",
     "text": [
      "1.907315 0.68487\n"
     ]
    },
    {
     "data": {
      "text/plain": [
       "0.4355173830955618"
      ]
     },
     "execution_count": 106,
     "metadata": {},
     "output_type": "execute_result"
    }
   ],
   "source": [
    "calc_cte_lognorm(0.1,1.907315,0.684870,0)"
   ]
  },
  {
   "cell_type": "code",
   "execution_count": 103,
   "metadata": {},
   "outputs": [
    {
     "data": {
      "image/png": "[encoded data removed]",
      "text/plain": [
       "<Figure size 432x288 with 1 Axes>"
      ]
     },
     "metadata": {
      "needs_background": "light"
     },
     "output_type": "display_data"
    }
   ],
   "source": [
    "plt.hist(gg,bins=100,density=True)\n",
    "plt.show()"
   ]
  },
  {
   "cell_type": "code",
   "execution_count": null,
   "metadata": {},
   "outputs": [],
   "source": [
    "a,b,c=stats.lognorm.fit(mas)\n",
    "g="
   ]
  },
  {
   "cell_type": "code",
   "execution_count": 39,
   "metadata": {},
   "outputs": [
    {
     "data": {
      "text/plain": [
       "621852.8330243967"
      ]
     },
     "execution_count": 39,
     "metadata": {},
     "output_type": "execute_result"
    }
   ],
   "source": [
    "init_reserv=1\n",
    "for j in range(len(dfMuSigma)):\n",
    "    if (dfMuSigma['mytype'][j]=='norm'):\n",
    "        init_reserv*=dfMuSigma['mu'][j]\n",
    "    else:\n",
    "        init_reserv*=np.exp(dfMuSigma['mu'][j]+0.5*dfMuSigma['sigma'][j]**2)\n",
    "init_reserv"
   ]
  },
  {
   "cell_type": "code",
   "execution_count": 112,
   "metadata": {},
   "outputs": [
    {
     "data": {
      "image/png": "[encoded data removed]",
      "text/plain": [
       "<Figure size 432x288 with 1 Axes>"
      ]
     },
     "metadata": {
      "needs_background": "light"
     },
     "output_type": "display_data"
    }
   ],
   "source": [
    "dfOTV=pd.DataFrame(columns=['upper','lower'])\n",
    "N=10000\n",
    "for i in range(len(dfMuSigma)):\n",
    "    init_reserv=1\n",
    "    for j in range(len(dfMuSigma)):\n",
    "        if (j!=i):\n",
    "            if (dfMuSigma['mytype'][j]=='norm'):\n",
    "                init_reserv*=dfMuSigma['mu'][j]\n",
    "            else:\n",
    "                init_reserv*=np.exp(dfMuSigma['mu'][j]+0.5*dfMuSigma['sigma'][j]**2)\n",
    "                \n",
    "    if (dfMuSigma['mytype'][i]=='norm'):\n",
    "        tek_mas=stats.norm.rvs(loc=dfMuSigma.iloc[i,0], scale=dfMuSigma.iloc[i,1], size=N)\n",
    "        lower=init_reserv*calc_cte_norm(0.1,dfMuSigma.iloc[i,0], dfMuSigma.iloc[i,1],0)\n",
    "        upper=init_reserv*calc_cte_norm(0.1,dfMuSigma.iloc[i,0], dfMuSigma.iloc[i,1],1)\n",
    "        dfOTV=dfOTV.append({'upper':upper,'lower':lower}, ignore_index=True)\n",
    "    else:\n",
    "        tek_mas=stats.norm.rvs(loc=dfMuSigma.iloc[i,0], scale=dfMuSigma.iloc[i,1], size=N)\n",
    "        tek_mas=np.exp(tek_mas)\n",
    "        lower=init_reserv*calc_cte_lognorm(0.1,dfMuSigma.iloc[i,0], dfMuSigma.iloc[i,1],0)\n",
    "        upper=init_reserv*calc_cte_lognorm(0.1,dfMuSigma.iloc[i,0], dfMuSigma.iloc[i,1],1)\n",
    "        dfOTV=dfOTV.append({'upper':upper,'lower':lower}, ignore_index=True)\n",
    "    tek_mas*=init_reserv\n",
    "    plt.hist(tek_mas/1000,bins=100,density=True,label=i)\n",
    "plt.legend()\n",
    "plt.show()"
   ]
  },
  {
   "cell_type": "code",
   "execution_count": 116,
   "metadata": {},
   "outputs": [
    {
     "data": {
      "text/html": [
       "<div>\n",
       "<style scoped>\n",
       "    .dataframe tbody tr th:only-of-type {\n",
       "        vertical-align: middle;\n",
       "    }\n",
       "\n",
       "    .dataframe tbody tr th {\n",
       "        vertical-align: top;\n",
       "    }\n",
       "\n",
       "    .dataframe thead th {\n",
       "        text-align: right;\n",
       "    }\n",
       "</style>\n",
       "<table border=\"1\" class=\"dataframe\">\n",
       "  <thead>\n",
       "    <tr style=\"text-align: right;\">\n",
       "      <th></th>\n",
       "      <th>upper</th>\n",
       "      <th>lower</th>\n",
       "      <th>diff</th>\n",
       "    </tr>\n",
       "  </thead>\n",
       "  <tbody>\n",
       "    <tr>\n",
       "      <th>k</th>\n",
       "      <td>1.705004e+06</td>\n",
       "      <td>153499.018865</td>\n",
       "      <td>1.551505e+06</td>\n",
       "    </tr>\n",
       "    <tr>\n",
       "      <th>h</th>\n",
       "      <td>8.448852e+05</td>\n",
       "      <td>398820.452697</td>\n",
       "      <td>4.460648e+05</td>\n",
       "    </tr>\n",
       "    <tr>\n",
       "      <th>so</th>\n",
       "      <td>8.448852e+05</td>\n",
       "      <td>398820.452697</td>\n",
       "      <td>4.460648e+05</td>\n",
       "    </tr>\n",
       "    <tr>\n",
       "      <th>s</th>\n",
       "      <td>6.588780e+05</td>\n",
       "      <td>584827.694788</td>\n",
       "      <td>7.405028e+04</td>\n",
       "    </tr>\n",
       "  </tbody>\n",
       "</table>\n",
       "</div>"
      ],
      "text/plain": [
       "           upper          lower          diff\n",
       "k   1.705004e+06  153499.018865  1.551505e+06\n",
       "h   8.448852e+05  398820.452697  4.460648e+05\n",
       "so  8.448852e+05  398820.452697  4.460648e+05\n",
       "s   6.588780e+05  584827.694788  7.405028e+04"
      ]
     },
     "execution_count": 116,
     "metadata": {},
     "output_type": "execute_result"
    }
   ],
   "source": [
    "dfOTV['diff']=dfOTV['upper']-dfOTV['lower']\n",
    "dfOTV.index=df1.index\n",
    "dfOTV"
   ]
  },
  {
   "cell_type": "code",
   "execution_count": 115,
   "metadata": {},
   "outputs": [
    {
     "data": {
      "text/plain": [
       "RangeIndex(start=0, stop=4, step=1)"
      ]
     },
     "execution_count": 115,
     "metadata": {},
     "output_type": "execute_result"
    }
   ],
   "source": [
    "dfMuSigma.index"
   ]
  },
  {
   "cell_type": "code",
   "execution_count": 92,
   "metadata": {},
   "outputs": [
    {
     "name": "stdout",
     "output_type": "stream",
     "text": [
      "0.6792319915915597 -0.0446585715635751 6.771293311408705\n"
     ]
    },
    {
     "data": {
      "image/png": "[encoded data removed]",
      "text/plain": [
       "<Figure size 432x288 with 1 Axes>"
      ]
     },
     "metadata": {
      "needs_background": "light"
     },
     "output_type": "display_data"
    }
   ],
   "source": [
    "mas=stats.norm.rvs(loc=1.907315,scale=0.684870, size=100000)\n",
    "mas=np.exp(mas)\n",
    "a,b,c=stats.lognorm.fit(mas)\n",
    "print(a,b,c)\n",
    "plt.hist(mas,bins=100,density=True)\n",
    "plt.show()"
   ]
  },
  {
   "cell_type": "code",
   "execution_count": 93,
   "metadata": {},
   "outputs": [
    {
     "data": {
      "image/png": "[encoded data removed]",
      "text/plain": [
       "<Figure size 432x288 with 1 Axes>"
      ]
     },
     "metadata": {
      "needs_background": "light"
     },
     "output_type": "display_data"
    }
   ],
   "source": [
    "gg=stats.lognorm.rvs(a,b,c, size=100000)\n",
    "plt.hist(gg,bins=100,density=True)\n",
    "plt.show()"
   ]
  },
  {
   "cell_type": "code",
   "execution_count": 89,
   "metadata": {},
   "outputs": [
    {
     "data": {
      "image/png": "[encoded data removed]",
      "text/plain": [
       "<Figure size 432x288 with 1 Axes>"
      ]
     },
     "metadata": {
      "needs_background": "light"
     },
     "output_type": "display_data"
    }
   ],
   "source": [
    "mas=stats.lognorm.rvs(loc=0, scale=np.exp(1.907315),s=0.684870, size=100000)\n",
    "mas=np.exp(mas)\n",
    "plt.hist(mas,bins=100,density=True)\n",
    "plt.show()"
   ]
  },
  {
   "cell_type": "code",
   "execution_count": 91,
   "metadata": {},
   "outputs": [
    {
     "data": {
      "text/plain": [
       "(0.5716468086144324, -1.422535410748803, 8.823967763616453)"
      ]
     },
     "execution_count": 91,
     "metadata": {},
     "output_type": "execute_result"
    }
   ],
   "source": [
    "a,b,c=stats.lognorm.fit(mas)\n",
    "a,b,c"
   ]
  },
  {
   "cell_type": "code",
   "execution_count": null,
   "metadata": {},
   "outputs": [],
   "source": []
  }
 ],
 "metadata": {
  "kernelspec": {
   "display_name": "Python 3",
   "language": "python",
   "name": "python3"
  },
  "language_info": {
   "codemirror_mode": {
    "name": "ipython",
    "version": 3
   },
   "file_extension": ".py",
   "mimetype": "text/x-python",
   "name": "python",
   "nbconvert_exporter": "python",
   "pygments_lexer": "ipython3",
   "version": "3.7.3"
  }
 },
 "nbformat": 4,
 "nbformat_minor": 2
}
