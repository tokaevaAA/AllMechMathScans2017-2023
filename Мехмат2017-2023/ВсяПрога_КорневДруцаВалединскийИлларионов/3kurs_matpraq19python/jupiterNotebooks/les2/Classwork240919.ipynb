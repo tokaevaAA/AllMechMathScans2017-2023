{
 "cells": [
  {
   "cell_type": "code",
   "execution_count": 11,
   "metadata": {},
   "outputs": [
    {
     "name": "stdout",
     "output_type": "stream",
     "text": [
      "[1 2 3 4 5]\n"
     ]
    },
    {
     "data": {
      "text/plain": [
       "array([1, 0, 0, 0, 2, 0, 0, 0, 3, 0, 0, 0, 4, 0, 0, 0, 5])"
      ]
     },
     "execution_count": 11,
     "metadata": {},
     "output_type": "execute_result"
    }
   ],
   "source": [
    "#task1\n",
    "import numpy as np\n",
    "a=np.arange(1,6)\n",
    "print(a)\n",
    "np.insert(np.arange(1,6),np.repeat(np.arange(1,5),3),0)\n",
    "#np.insert(np.arange(1,6),[1,2],0)\n",
    "#np.repeat(np.arange(1,5),3)"
   ]
  },
  {
   "cell_type": "code",
   "execution_count": 29,
   "metadata": {},
   "outputs": [
    {
     "name": "stdout",
     "output_type": "stream",
     "text": [
      "[[0. 1. 0. 1. 0. 1. 0. 0.]\n",
      " [1. 0. 1. 0. 1. 0. 1. 0.]\n",
      " [0. 1. 0. 1. 0. 1. 0. 0.]\n",
      " [1. 0. 1. 0. 1. 0. 1. 0.]\n",
      " [0. 1. 0. 1. 0. 1. 0. 0.]\n",
      " [1. 0. 1. 0. 1. 0. 1. 0.]\n",
      " [0. 1. 0. 1. 0. 1. 0. 0.]\n",
      " [0. 0. 0. 0. 0. 0. 0. 0.]]\n"
     ]
    },
    {
     "data": {
      "text/plain": [
       "array([[ 0,  1,  2,  3,  4,  5,  6,  7],\n",
       "       [ 1,  2,  3,  4,  5,  6,  7,  8],\n",
       "       [ 2,  3,  4,  5,  6,  7,  8,  9],\n",
       "       [ 3,  4,  5,  6,  7,  8,  9, 10],\n",
       "       [ 4,  5,  6,  7,  8,  9, 10, 11],\n",
       "       [ 5,  6,  7,  8,  9, 10, 11, 12],\n",
       "       [ 6,  7,  8,  9, 10, 11, 12, 13],\n",
       "       [ 7,  8,  9, 10, 11, 12, 13, 14]])"
      ]
     },
     "execution_count": 29,
     "metadata": {},
     "output_type": "execute_result"
    }
   ],
   "source": [
    "#task2\n",
    "#1-sposob\n",
    "a=np.zeros((8,8))\n",
    "a[0:-1:2,1:-1:2]=1\n",
    "a[1:-1:2,0:-1:2]=1\n",
    "print(a)\n",
    "\n",
    "#2-sposob\n",
    "np.indices((8,8)).sum(axis=0)\n"
   ]
  },
  {
   "cell_type": "code",
   "execution_count": 36,
   "metadata": {},
   "outputs": [
    {
     "name": "stdout",
     "output_type": "stream",
     "text": [
      "[[0.57369563 0.50528403 0.65959718 0.83709018 0.73715661]\n",
      " [0.85524384 0.48965802 0.2469346  0.99823355 0.57380167]\n",
      " [0.97191758 0.39991683 0.24086396 0.36590111 0.43772825]\n",
      " [0.03079238 0.28922307 0.59421168 0.10025818 0.81741454]\n",
      " [0.0160171  0.74997408 0.15297984 0.25938346 0.09601938]]\n",
      "[-2.22044605e-17  4.44089210e-17 -4.44089210e-17 -4.44089210e-17\n",
      "  4.44089210e-17]\n"
     ]
    }
   ],
   "source": [
    "#task3\n",
    "a=np.random.random((5,5))\n",
    "print(a)\n",
    "b=(a-a.mean(axis=1).reshape((-1,1))).mean(axis=1) #iz matrix vuchli ctolbik srednih po strokam\n",
    "print(b)"
   ]
  },
  {
   "cell_type": "code",
   "execution_count": 47,
   "metadata": {},
   "outputs": [
    {
     "name": "stdout",
     "output_type": "stream",
     "text": [
      "[[ 0.  1.  2.  3.  4.]\n",
      " [10. 11. 12. 13. 14.]\n",
      " [20. 21. 22. 23. 24.]\n",
      " [30. 31. 32. 33. 34.]]\n"
     ]
    }
   ],
   "source": [
    "#task4\n",
    "a=np.zeros((4,5))+np.arange(0,40,10).reshape((-1,1))+np.arange(5)\n",
    "\n",
    "print(a)\n"
   ]
  },
  {
   "cell_type": "code",
   "execution_count": null,
   "metadata": {},
   "outputs": [],
   "source": []
  }
 ],
 "metadata": {
  "kernelspec": {
   "display_name": "Python 3",
   "language": "python",
   "name": "python3"
  },
  "language_info": {
   "codemirror_mode": {
    "name": "ipython",
    "version": 3
   },
   "file_extension": ".py",
   "mimetype": "text/x-python",
   "name": "python",
   "nbconvert_exporter": "python",
   "pygments_lexer": "ipython3",
   "version": "3.7.3"
  }
 },
 "nbformat": 4,
 "nbformat_minor": 2
}
