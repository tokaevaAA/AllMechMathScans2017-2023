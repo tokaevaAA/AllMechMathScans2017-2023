{
 "cells": [
  {
   "cell_type": "code",
   "execution_count": 4,
   "metadata": {},
   "outputs": [
    {
     "name": "stdout",
     "output_type": "stream",
     "text": [
      "new_a:\n",
      " [[0.35793705 0.39384203 0.37585087]\n",
      " [0.42452591 0.40314269 0.3593535 ]\n",
      " [0.46548206 0.07471692 0.00936193]\n",
      " [0.03668159 0.31181069 0.38064056]\n",
      " [0.33460662 0.42743565 0.48600202]\n",
      " [0.37228485 0.19635133 0.17012688]\n",
      " [0.42551154 0.25888624 0.25680404]\n",
      " [0.23060658 0.11009023 0.29716575]\n",
      " [0.29252519 0.01424518 0.28903565]\n",
      " [0.08491839 0.0513191  0.14147549]]\n",
      "otv: [0.35793705 0.3593535  0.00936193 0.03668159 0.33460662 0.17012688\n",
      " 0.25680404 0.11009023 0.01424518 0.0513191 ]\n"
     ]
    }
   ],
   "source": [
    "#task1\n",
    "import numpy as np\n",
    "a=np.random.random((10,3))\n",
    "new_a=(np.abs(a-0.5))\n",
    "otv=new_a.min(axis=1)\n",
    "print(\"new_a:\\n\", new_a)\n",
    "print(\"otv:\",otv)"
   ]
  },
  {
   "cell_type": "code",
   "execution_count": 59,
   "metadata": {},
   "outputs": [
    {
     "name": "stdout",
     "output_type": "stream",
     "text": [
      "a=:\n",
      " [[0.14068319 0.16095673 0.34844166 0.56112448 0.16692104 0.07454645]\n",
      " [0.93397639 0.98145513 0.70207941 0.84172686 0.189166   0.67916564]\n",
      " [0.51906004 0.79942507 0.71936915 0.4112135  0.30005189 0.29014075]\n",
      " [0.93950341 0.76130391 0.37644476 0.38343818 0.46526461 0.7021958 ]\n",
      " [0.03930958 0.00681042 0.670829   0.82055768 0.0381733  0.95660038]\n",
      " [0.90761891 0.79320274 0.30614607 0.06668681 0.31627853 0.65623154]]\n",
      "sum_po_stroke= [1.45267353 4.32756944 3.03926041 3.62815067 2.53228037 3.04616461]\n",
      "min_v_stolbike: [0.03930958 0.00681042 0.30614607 0.06668681 0.0381733  0.07454645]\n",
      "otv= [ 36.95469467 635.43314822   9.92748454  54.4058184   66.33642063\n",
      "  40.86263786]\n"
     ]
    }
   ],
   "source": [
    "#task2\n",
    "import numpy as np\n",
    "a=np.random.random((6,6))\n",
    "sum_po_stroke=np.sum(a,axis=1)\n",
    "min_v_stolbike=np.min(a,axis=0)\n",
    "otv=sum_po_stroke/min_v_stolbike\n",
    "print(\"a=:\\n\",a)\n",
    "print(\"sum_po_stroke=\",sum_po_stroke)\n",
    "print(\"min_v_stolbike:\",min_v_stolbike)\n",
    "print(\"otv=\",otv)\n",
    "\n"
   ]
  },
  {
   "cell_type": "code",
   "execution_count": 31,
   "metadata": {},
   "outputs": [
    {
     "name": "stdout",
     "output_type": "stream",
     "text": [
      "a=: [6 2 0 3 0 0 5 7 0]\n",
      "mask=: [False False  True False  True  True False False  True]\n",
      "new_a=: [2 0 3 0 0 5 7 0]\n",
      "new_mask=: [False False  True False  True  True False False]\n",
      "fitting: [3 0 5]\n",
      "5\n"
     ]
    }
   ],
   "source": [
    "#task3\n",
    "import numpy as np\n",
    "a=np.array([6,2,0,3,0,0,5,7,0])\n",
    "mask= (a==0)\n",
    "new_a=a[1:len(a):1] #cut off the first\n",
    "new_mask=mask[0:-1:1] #cut off the last\n",
    "fitting=new_a[new_mask]\n",
    "print(\"a=:\",a)\n",
    "print(\"mask=:\",mask)\n",
    "print(\"new_a=:\",new_a)\n",
    "print(\"new_mask=:\",new_mask)\n",
    "print(\"fitting:\", fitting)\n",
    "print(np.max(fitting))"
   ]
  },
  {
   "cell_type": "code",
   "execution_count": 40,
   "metadata": {},
   "outputs": [
    {
     "name": "stdout",
     "output_type": "stream",
     "text": [
      "x=: [1. 1. 1. 1. 1. 1. 1. 1. 1. 1.]\n",
      "i=: [0 1 2 3 5 5 5 8]\n",
      "otv=: [2. 2. 2. 2. 1. 4. 1. 1. 2. 1.]\n"
     ]
    }
   ],
   "source": [
    "#task4\n",
    "import numpy as np\n",
    "x=np.ones(10)\n",
    "i=np.array([0,1,2,3,5,5,5,8])\n",
    "print(\"x=:\",x)\n",
    "print(\"i=:\",i)\n",
    "np.add.at(x,i,1)\n",
    "print(\"otv=:\",x)"
   ]
  },
  {
   "cell_type": "code",
   "execution_count": 58,
   "metadata": {},
   "outputs": [
    {
     "name": "stdout",
     "output_type": "stream",
     "text": [
      "a=:\n",
      " [[ 0  1  2  3]\n",
      " [ 4  5  6  7]\n",
      " [ 8  9 10 11]\n",
      " [12 13 14 15]]\n",
      "{0: [0], 1: [4, 1], 2: [8, 5, 2], 4: [13, 10, 7], 5: [14, 11], 6: [15]}\n"
     ]
    }
   ],
   "source": [
    "#task5\n",
    "import numpy as np\n",
    "a=np.arange(16).reshape(4,4)\n",
    "print(\"a=:\\n\",a)\n",
    "d=dict()\n",
    "for i in range(0,4-1,1):\n",
    "    tek_stroka=i\n",
    "    tek_diag=[]\n",
    "    for j in range(0,tek_stroka+1,1):\n",
    "        tek_diag.append(a[tek_stroka,j])\n",
    "        tek_stroka=tek_stroka-1\n",
    "    d.update({i:tek_diag})\n",
    "    \n",
    "for j in range(1,4,1):\n",
    "    tek_stolb=j\n",
    "    tek_diag=[]\n",
    "    for i in range(4-1,j-1,-1):\n",
    "        tek_diag.append(a[i,tek_stolb])\n",
    "        tek_stolb=tek_stolb+1\n",
    "    d.update({(4-1+j):tek_diag})\n",
    "print(d)\n",
    "    \n"
   ]
  },
  {
   "cell_type": "code",
   "execution_count": null,
   "metadata": {},
   "outputs": [],
   "source": []
  }
 ],
 "metadata": {
  "kernelspec": {
   "display_name": "Python 3",
   "language": "python",
   "name": "python3"
  },
  "language_info": {
   "codemirror_mode": {
    "name": "ipython",
    "version": 3
   },
   "file_extension": ".py",
   "mimetype": "text/x-python",
   "name": "python",
   "nbconvert_exporter": "python",
   "pygments_lexer": "ipython3",
   "version": "3.7.3"
  }
 },
 "nbformat": 4,
 "nbformat_minor": 2
}
