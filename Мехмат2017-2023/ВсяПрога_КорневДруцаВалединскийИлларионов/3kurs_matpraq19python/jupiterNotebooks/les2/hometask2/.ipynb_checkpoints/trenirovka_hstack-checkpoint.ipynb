{
 "cells": [
  {
   "cell_type": "code",
   "execution_count": 18,
   "metadata": {},
   "outputs": [
    {
     "name": "stdout",
     "output_type": "stream",
     "text": [
      "b= [2.23606798 5.         8.24621125]\n",
      "c= [6.32455532 4.12310563 3.16227766]\n",
      "good d1: [[2.23606798 6.32455532]\n",
      " [5.         4.12310563]\n",
      " [8.24621125 3.16227766]]\n",
      "good d2: [[2.23606798 6.32455532]\n",
      " [5.         4.12310563]\n",
      " [8.24621125 3.16227766]]\n",
      "bad d: [2.23606798 5.         8.24621125 6.32455532 4.12310563 3.16227766]\n"
     ]
    }
   ],
   "source": [
    "import numpy as np\n",
    "data = np.loadtxt('http://www.stat.cmu.edu/~larry/all-of-statistics/=data/faithful.dat', skiprows=26)[:, 1:]\n",
    "a=data[1:4:1]\n",
    "a[0][0]=1\n",
    "a[0][1]=2\n",
    "a[1][0]=3\n",
    "a[1][1]=4\n",
    "a[2][0]=2\n",
    "a[2][1]=8\n",
    "#print(a)\n",
    "b=np.linalg.norm(a,axis=1)\n",
    "print(\"b=\",b)\n",
    "a[0][0]=6\n",
    "a[0][1]=2\n",
    "a[1][0]=1\n",
    "a[1][1]=4\n",
    "a[2][0]=1\n",
    "a[2][1]=3\n",
    "c=np.linalg.norm(a,axis=1)\n",
    "print(\"c=\",c)\n",
    "d = np.hstack([b.reshape(3,1),c.reshape(3,1)])\n",
    "print(\"good d1:\",d)\n",
    "d = np.hstack((b.reshape(3,1),c.reshape(3,1)))\n",
    "print(\"good d2:\",d)\n",
    "d = np.hstack((b,c))\n",
    "print(\"bad d:\",d)"
   ]
  },
  {
   "cell_type": "code",
   "execution_count": null,
   "metadata": {},
   "outputs": [],
   "source": []
  }
 ],
 "metadata": {
  "kernelspec": {
   "display_name": "Python 3",
   "language": "python",
   "name": "python3"
  },
  "language_info": {
   "codemirror_mode": {
    "name": "ipython",
    "version": 3
   },
   "file_extension": ".py",
   "mimetype": "text/x-python",
   "name": "python",
   "nbconvert_exporter": "python",
   "pygments_lexer": "ipython3",
   "version": "3.7.3"
  }
 },
 "nbformat": 4,
 "nbformat_minor": 2
}
