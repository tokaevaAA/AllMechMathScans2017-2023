{
 "cells": [
  {
   "cell_type": "code",
   "execution_count": 2,
   "metadata": {},
   "outputs": [],
   "source": [
    "import numpy as np\n",
    "from sklearn.datasets import fetch_20newsgroups\n",
    "\n",
    "newsgroups_train = fetch_20newsgroups(subset='train', remove=('headers', 'footers', 'quotes'))"
   ]
  },
  {
   "cell_type": "code",
   "execution_count": 3,
   "metadata": {},
   "outputs": [
    {
     "data": {
      "text/plain": [
       "(11314, 101322)"
      ]
     },
     "execution_count": 3,
     "metadata": {},
     "output_type": "execute_result"
    }
   ],
   "source": [
    "from sklearn.feature_extraction.text import CountVectorizer\n",
    "from sklearn.feature_extraction.stop_words import ENGLISH_STOP_WORDS\n",
    "\n",
    "vectorizer = CountVectorizer(lowercase=True, stop_words=ENGLISH_STOP_WORDS,analyzer='word', binary=True)\n",
    "X_train = vectorizer.fit_transform(newsgroups_train.data)\n",
    "\n",
    "X_train.toarray()\n",
    "X_train.shape"
   ]
  },
  {
   "cell_type": "code",
   "execution_count": 6,
   "metadata": {},
   "outputs": [
    {
     "name": "stdout",
     "output_type": "stream",
     "text": [
      "Hello\n",
      "34.0\n",
      "[    0     0     0 ... 11313 11313 11313]\n",
      "[ 9843 11174 16806 ... 90381 96205 96408]\n"
     ]
    }
   ],
   "source": [
    "M=11314 #amount of texts\n",
    "W=101322 #amount of different words\n",
    "K=20 #amount of tags\n",
    "n_dk=np.zeros(M*K).reshape(M,K) #amount of words in document d assigned to tag k\n",
    "n_kw=np.zeros(K*W).reshape(K,W)\n",
    "n_k=np.zeros(K) #total amount of words assigned to tag k\n",
    "tags_to_words=[np.random.choice(K) for i in range(W)] #randomly assign tags to words\n",
    "texts_to_words=X_train.toarray()\n",
    "\n",
    "#filling n_dk, only the 1 stroka, because too long\n",
    "for i in range(1): #text number i\n",
    "    for j in range(W): #word number j\n",
    "        if(texts_to_words[i][j] >0):\n",
    "            tek_k=tags_to_words[j]\n",
    "            n_dk[i][tek_k]+=texts_to_words[i][j]\n",
    "\n",
    "print(\"Hello\")\n",
    "print(n_dk[0].sum()) #we filled 1 stroka of n_dk and checked that there are exactly 34 words\n",
    "    \n",
    "mas_nonzero_strok_in_X,mas_nonzero_stolbov_in_X=texts_to_words.nonzero()\n",
    "print(mas_nonzero_strok_in_X)\n",
    "print(mas_nonzero_stolbov_in_X)\n",
    "\n",
    "        \n",
    "\n"
   ]
  },
  {
   "cell_type": "code",
   "execution_count": 20,
   "metadata": {},
   "outputs": [
    {
     "name": "stdout",
     "output_type": "stream",
     "text": [
      "Hello\n",
      "17424352.0\n"
     ]
    }
   ],
   "source": [
    "for doc,z in zip(mas_nonzero_strok_in_X, tags_to_words):\n",
    "    n_dk[doc][z]+=1\n",
    "    \n",
    "print(\"Hello\")\n",
    "print(n_dk[0].sum())\n",
    "    "
   ]
  },
  {
   "cell_type": "code",
   "execution_count": 19,
   "metadata": {},
   "outputs": [
    {
     "name": "stdout",
     "output_type": "stream",
     "text": [
      "755809\n",
      "755809\n",
      "101322\n"
     ]
    }
   ],
   "source": [
    "print(len(mas_nonzero_strok_in_X))\n",
    "print(len(mas_nonzero_stolbov_in_X))\n",
    "print(len(tags_to_words))"
   ]
  },
  {
   "cell_type": "code",
   "execution_count": 27,
   "metadata": {},
   "outputs": [
    {
     "name": "stdout",
     "output_type": "stream",
     "text": [
      "755809\n"
     ]
    }
   ],
   "source": [
    "docs, words=texts_to_words.nonzero()\n",
    "print(len(docs))"
   ]
  },
  {
   "cell_type": "code",
   "execution_count": 28,
   "metadata": {},
   "outputs": [
    {
     "name": "stdout",
     "output_type": "stream",
     "text": [
      "755809\n"
     ]
    }
   ],
   "source": [
    "print(texts_to_words.sum())"
   ]
  },
  {
   "cell_type": "code",
   "execution_count": null,
   "metadata": {},
   "outputs": [],
   "source": []
  }
 ],
 "metadata": {
  "kernelspec": {
   "display_name": "Python 3",
   "language": "python",
   "name": "python3"
  },
  "language_info": {
   "codemirror_mode": {
    "name": "ipython",
    "version": 3
   },
   "file_extension": ".py",
   "mimetype": "text/x-python",
   "name": "python",
   "nbconvert_exporter": "python",
   "pygments_lexer": "ipython3",
   "version": "3.7.3"
  }
 },
 "nbformat": 4,
 "nbformat_minor": 2
}
