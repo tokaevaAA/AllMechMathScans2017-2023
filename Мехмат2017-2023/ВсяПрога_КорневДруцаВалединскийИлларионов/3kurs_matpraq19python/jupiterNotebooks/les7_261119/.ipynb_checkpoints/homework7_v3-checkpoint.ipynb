{
 "cells": [
  {
   "cell_type": "code",
   "execution_count": 1,
   "metadata": {},
   "outputs": [
    {
     "data": {
      "text/plain": [
       "array([[0, 0, 0, ..., 0, 0, 0],\n",
       "       [0, 0, 0, ..., 0, 0, 0],\n",
       "       [0, 0, 0, ..., 0, 0, 0],\n",
       "       ...,\n",
       "       [0, 0, 0, ..., 0, 0, 0],\n",
       "       [0, 0, 0, ..., 0, 0, 0],\n",
       "       [0, 0, 0, ..., 0, 0, 0]])"
      ]
     },
     "execution_count": 1,
     "metadata": {},
     "output_type": "execute_result"
    }
   ],
   "source": [
    "import numpy as np\n",
    "from sklearn.datasets import fetch_20newsgroups\n",
    "from sklearn.feature_extraction.text import CountVectorizer\n",
    "from sklearn.feature_extraction.stop_words import ENGLISH_STOP_WORDS\n",
    "\n",
    "\n",
    "\n",
    "newsgroups_train = fetch_20newsgroups(subset='train', remove=('headers', 'footers', 'quotes'))\n",
    "vectorizer = CountVectorizer(lowercase=True, stop_words=ENGLISH_STOP_WORDS,analyzer='word', binary=True)\n",
    "X_train = vectorizer.fit_transform(newsgroups_train.data)\n",
    "\n",
    "X_train.toarray()\n",
    "# X_train.shape #(11314, 101322)"
   ]
  },
  {
   "cell_type": "code",
   "execution_count": 2,
   "metadata": {},
   "outputs": [],
   "source": [
    "from tqdm import tqdm\n",
    "def lda(n_dk,n_kw,n_k,z,docs,words,alpha,beta,NITER):\n",
    "    for tek_iter in tqdm(range(NITER)):\n",
    "        for i in range(N):\n",
    "            n_dk[docs[i],z[i]]-=1\n",
    "            n_kw[z[i],words[i]]-=1\n",
    "            n_k[z[i]]-=1\n",
    "            p = (n_dk[docs[i], :] + alpha) * (n_kw[:, words[i]] + beta[words[i]]) / (n_k + beta.sum())\n",
    "            z[i] = np.random.choice(np.arange(K), p=p / p.sum())\n",
    "            \n",
    "        \n",
    "            n_dk[docs[i],z[i]]+=1\n",
    "            n_kw[z[i],words[i]]+=1\n",
    "            n_k[z[i]]+=1\n",
    "    return  n_dk, n_kw,n_k,z"
   ]
  },
  {
   "cell_type": "code",
   "execution_count": 4,
   "metadata": {},
   "outputs": [],
   "source": [
    "M=11314 #amount of texts\n",
    "W=101322 #amount of different words\n",
    "N=755809#total amount of words in the corpus\n",
    "K=20 #amount of tags\n",
    "NITER=10\n",
    "\n",
    "alpha=np.ones(K)\n",
    "beta=np.ones(N)\n",
    "\n",
    "n_dk=np.zeros(M*K).reshape(M,K) #amount of words in document d assigned to tag k\n",
    "n_kw=np.zeros(K*W).reshape(K,W)\n",
    "n_k=np.zeros(K) #total amount of words assigned to tag k\n",
    "\n",
    "X=X_train.toarray()\n",
    "docs,words=X.nonzero() #print(len(docs)) #it is N=755809\n",
    "z=[np.random.choice(K) for i in range(N)] #randomly assign tags to words\n",
    "for doc, word, cur_z in zip(docs, words, z):\n",
    "        n_dk[doc, cur_z] += 1\n",
    "        n_kw[cur_z, word] += 1\n",
    "        n_k[cur_z] += 1"
   ]
  },
  {
   "cell_type": "code",
   "execution_count": 5,
   "metadata": {},
   "outputs": [
    {
     "name": "stderr",
     "output_type": "stream",
     "text": [
      "100%|██████████| 10/10 [1:25:58<00:00, 398.59s/it]\n"
     ]
    }
   ],
   "source": [
    "n_dk,n_kw,n_k,z=lda(n_dk,n_kw,n_k,z,docs,words,alpha,beta,NITER)\n",
    "#print(n_kw)"
   ]
  },
  {
   "cell_type": "code",
   "execution_count": null,
   "metadata": {},
   "outputs": [],
   "source": [
    "n_kw_sorted=np.argsort(n_kw, axis=1)\n",
    "#print(vectorizer.vocabulary_.get('car'))\n",
    "#print(type(vectorizer.vocabulary_))\n",
    "\n",
    "my_dict={}\n",
    "for item in vectorizer.vocabulary_:\n",
    "    my_dict[vectorizer.vocabulary_[item]]=item\n",
    "\n",
    "for k in range(K):\n",
    "    print(\"tag=\",k,end=\" \")\n",
    "    for j in range(10):\n",
    "        print(my_dict[n_kw_sorted[k,W-1-j]],end=\" \")\n",
    "    print(\"\\n\")"
   ]
  }
 ],
 "metadata": {
  "kernelspec": {
   "display_name": "Python 3",
   "language": "python",
   "name": "python3"
  },
  "language_info": {
   "codemirror_mode": {
    "name": "ipython",
    "version": 3
   },
   "file_extension": ".py",
   "mimetype": "text/x-python",
   "name": "python",
   "nbconvert_exporter": "python",
   "pygments_lexer": "ipython3",
   "version": "3.7.3"
  }
 },
 "nbformat": 4,
 "nbformat_minor": 2
}
