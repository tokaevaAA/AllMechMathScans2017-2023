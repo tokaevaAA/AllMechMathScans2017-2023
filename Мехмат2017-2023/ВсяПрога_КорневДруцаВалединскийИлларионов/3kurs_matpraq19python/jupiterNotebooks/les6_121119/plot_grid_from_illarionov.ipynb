{
 "cells": [
  {
   "cell_type": "code",
   "execution_count": 4,
   "metadata": {},
   "outputs": [
    {
     "name": "stdout",
     "output_type": "stream",
     "text": [
      "[[ True  True  True]\n",
      " [ True  True  True]\n",
      " [False False  True]]\n"
     ]
    },
    {
     "data": {
      "image/png": "[encoded data removed]",
      "text/plain": [
       "<Figure size 432x288 with 1 Axes>"
      ]
     },
     "metadata": {
      "needs_background": "light"
     },
     "output_type": "display_data"
    }
   ],
   "source": [
    "import numpy as np\n",
    "import matplotlib.pyplot as plt\n",
    "size=3\n",
    "def plot_grid(narr):\n",
    "    if mask.dtype != 'bool':\n",
    "        raise ValueError(\"mask should consist of bool\")\n",
    "    colors=np.empty(mask.shape,dtype='U5')\n",
    "    colors[:]='red'\n",
    "    colors[mask]='blue'\n",
    "    x,y=np.indices(narr.shape)\n",
    "    \n",
    "    plt.scatter(x,y,c=colors.ravel())\n",
    "    plt.show()\n",
    "\n",
    "mask=np.random.choice([0,1],size=size**2).reshape((size,size)).astype('bool')\n",
    "print(mask)\n",
    "plot_grid(mask)"
   ]
  },
  {
   "cell_type": "code",
   "execution_count": null,
   "metadata": {},
   "outputs": [],
   "source": []
  }
 ],
 "metadata": {
  "kernelspec": {
   "display_name": "Python 3",
   "language": "python",
   "name": "python3"
  },
  "language_info": {
   "codemirror_mode": {
    "name": "ipython",
    "version": 3
   },
   "file_extension": ".py",
   "mimetype": "text/x-python",
   "name": "python",
   "nbconvert_exporter": "python",
   "pygments_lexer": "ipython3",
   "version": "3.7.3"
  }
 },
 "nbformat": 4,
 "nbformat_minor": 2
}
