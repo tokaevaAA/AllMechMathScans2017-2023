{
 "cells": [
  {
   "cell_type": "code",
   "execution_count": 1,
   "metadata": {},
   "outputs": [],
   "source": [
    "import numpy as np\n",
    "import matplotlib.pyplot as plt\n",
    "\n",
    "def plot_grid(mask):\n",
    "    if mask.dtype != 'int':\n",
    "        raise ValueError(\"mask should consist of int\")\n",
    "    mas_of_colors=np.empty(mask.shape,dtype='U5')\n",
    "    mas_of_colors[:]='red'\n",
    "    mas_of_colors[mask==1]='blue'\n",
    "    print(mas_of_colors)\n",
    "    x,y=np.indices((N,N))\n",
    "    x=x.ravel()\n",
    "    y=y.ravel()\n",
    "    new_mas_of_colors=np.empty(mask.shape,dtype='U5')\n",
    "    for i in range(N):\n",
    "        new_mas_of_colors[i]=mas_of_colors[-1-i]\n",
    "    new_mas_of_colors=new_mas_of_colors.ravel()\n",
    "    for t in range(N*N):\n",
    "        plt.scatter(y[t],x[t],color=new_mas_of_colors[t])\n",
    "    plt.show()\n",
    "    \n",
    "def get_neighbours(i,j):\n",
    "    otv=[]\n",
    "    \n",
    "    if ((0<= (i-1)<N) and (0<= j <N)):\n",
    "        otv.append([i-1,j])\n",
    "    if ((0<= (i+1)<N) and (0<= j <N)):\n",
    "        otv.append([i+1,j])\n",
    "    if ((0<= i <N) and (0<= (j-1) <N)):\n",
    "        otv.append([i,j-1])\n",
    "    if ((0<= i <N) and (0<= (j+1) <N)):\n",
    "        otv.append([i,j+1])\n",
    "    \n",
    "    return otv\n",
    "    \n",
    "def check_if_fits(mask):\n",
    "    for i in range(0,N):\n",
    "        for j in range(0,N):\n",
    "            if (mask[i,j]==1):\n",
    "                s=0\n",
    "                mas=get_neighbours(i,j)\n",
    "                for t in range(0,len(mas)):\n",
    "                    a,b=mas[t]\n",
    "                    s=s+mask[a,b]\n",
    "                if s!=0:\n",
    "                    #print(\"i=\",i,\"j=\",j,\"a=\",a,\"b=\",b,\"s=\",s)\n",
    "                    return 0\n",
    "            \n",
    "    return 1\n",
    "            \n",
    "def give_fitting_graph():\n",
    "    mask=np.random.choice([0,1],N*N).reshape(N,N)\n",
    "    it_fits=check_if_fits(mask)\n",
    "    while(it_fits!=1):\n",
    "        mask=np.random.choice([0,1],N*N).reshape(N,N)\n",
    "        it_fits=check_if_fits(mask)\n",
    "    return mask\n",
    "        \n",
    "\n",
    "\n",
    "def metropolis(start,niter):\n",
    "    current=start\n",
    "    apost_density=[current]\n",
    "    for i in range(niter):\n",
    "        proposed=give_fitting_graph()\n",
    "        p=0.5\n",
    "        following=current\n",
    "        if np.random.rand() <p:\n",
    "            following=proposed\n",
    "        apost_density.append(following)\n",
    "    return apost_density\n",
    "\n",
    "\n"
   ]
  },
  {
   "cell_type": "code",
   "execution_count": 3,
   "metadata": {},
   "outputs": [
    {
     "name": "stdout",
     "output_type": "stream",
     "text": [
      "[['red' 'red' 'red' 'blue' 'red']\n",
      " ['blue' 'red' 'red' 'red' 'red']\n",
      " ['red' 'red' 'blue' 'red' 'red']\n",
      " ['blue' 'red' 'red' 'red' 'red']\n",
      " ['red' 'blue' 'red' 'red' 'red']]\n"
     ]
    },
    {
     "data": {
      "image/png": "[encoded data removed]",
      "text/plain": [
       "<Figure size 432x288 with 1 Axes>"
      ]
     },
     "metadata": {
      "needs_background": "light"
     },
     "output_type": "display_data"
    },
    {
     "name": "stdout",
     "output_type": "stream",
     "text": [
      "[5 5 5 5 4 5 5 6 5 7 6 5 5 6 5 8 5 5 5 5 6 5 5 5 5 5 7 7 5 5]\n",
      "mean amount of black vertises in 5*5 graph= 5.4\n"
     ]
    }
   ],
   "source": [
    "N=5\n",
    "NITER=30\n",
    "start=give_fitting_graph()\n",
    "plot_grid(start)\n",
    "apost_density=metropolis(start,NITER)\n",
    "#print(apost_density)\n",
    "\n",
    "mas=[]\n",
    "for i in range(NITER):\n",
    "    mas.append(apost_density[i].sum())\n",
    "print(np.array(mas))\n",
    "print(\"mean amount of black vertises in 5*5 graph=\",np.array(mas).mean())\n",
    "\n",
    "\n"
   ]
  },
  {
   "cell_type": "code",
   "execution_count": null,
   "metadata": {},
   "outputs": [],
   "source": []
  }
 ],
 "metadata": {
  "kernelspec": {
   "display_name": "Python 3",
   "language": "python",
   "name": "python3"
  },
  "language_info": {
   "codemirror_mode": {
    "name": "ipython",
    "version": 3
   },
   "file_extension": ".py",
   "mimetype": "text/x-python",
   "name": "python",
   "nbconvert_exporter": "python",
   "pygments_lexer": "ipython3",
   "version": "3.7.3"
  }
 },
 "nbformat": 4,
 "nbformat_minor": 2
}
