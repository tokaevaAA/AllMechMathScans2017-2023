{
 "cells": [
  {
   "cell_type": "code",
   "execution_count": 36,
   "metadata": {},
   "outputs": [
    {
     "name": "stdout",
     "output_type": "stream",
     "text": [
      "len1= 60\n",
      "s1 = 29\n",
      "amount of series= 25\n"
     ]
    }
   ],
   "source": [
    "import numpy as np\n",
    "mas1=np.array([1,1,1,1,0,1,0,1,0,1,0,0,0,1,1,1,0,0,0,1,1,1,0,0,0,0,1,1,1,0,0,0,1,0,1,0,0,0,1,1,1,0,0,0,1,1,1,1,0,0,0,1,1,0,0,0,0,0,1,1])\n",
    "print(\"len1=\",len(mas1))\n",
    "s1=mas1.sum()\n",
    "print(\"s1 =\", s1 )\n",
    "n=60\n",
    "m=mas1.sum() #29\n",
    "k=n-m #31\n",
    "\n",
    "cnt=1\n",
    "for i in range(1,60,1):\n",
    "    if mas1[i] != mas1[i-1]:\n",
    "        cnt=cnt+1\n",
    "print(\"amount of series=\",cnt)\n",
    "        \n"
   ]
  },
  {
   "cell_type": "code",
   "execution_count": 37,
   "metadata": {},
   "outputs": [
    {
     "name": "stdout",
     "output_type": "stream",
     "text": [
      "f= -0.2\n"
     ]
    }
   ],
   "source": [
    "#1: kriteri of signs\n",
    "f= (s1-30)/5\n",
    "print(\"f=\",f)\n",
    "\n",
    "# |f| <= 2 - it is true, so no discrepancy"
   ]
  },
  {
   "cell_type": "code",
   "execution_count": 38,
   "metadata": {},
   "outputs": [
    {
     "name": "stdout",
     "output_type": "stream",
     "text": [
      "M= 30.966666666666665\n",
      "D= 14.712448210922787\n",
      "f= -1.5555690821749186\n"
     ]
    }
   ],
   "source": [
    "#2: kriteri series\n",
    "n=60\n",
    "m=mas1.sum() #29\n",
    "k=n-m #31\n",
    "ser = 25 #amount of series\n",
    "\n",
    "M=(2*k*m)/n + 1\n",
    "D=(2*k*m*(2*k*m-n))/(n*n*(n-1))\n",
    "print(\"M=\",M)\n",
    "print(\"D=\",D)\n",
    "\n",
    "f= (ser-M)/(np.sqrt(D))\n",
    "print(\"f=\",f)\n",
    "\n",
    "# |f| <= 2 - it is true, so no discrepancy"
   ]
  },
  {
   "cell_type": "code",
   "execution_count": 69,
   "metadata": {},
   "outputs": [
    {
     "name": "stdout",
     "output_type": "stream",
     "text": [
      "dividing into 1\n",
      "f= 0.06666666666666667\n",
      "[31. 29.]\n"
     ]
    }
   ],
   "source": [
    "#3: kriterii hi-kvadrat : prostaya gipoteza\n",
    "print(\"dividing into 1\")\n",
    "mu=np.array([31,29])\n",
    "f= (mu-30)*(mu-30)\n",
    "f=f.sum()/30\n",
    "print(\"f=\",f) # it is hi-kvadrat with (2-1)=1 degree of freedom\n",
    "#rvantil for alpha=0.05 is 3.8 , so no discrepancy\n",
    "\n"
   ]
  },
  {
   "cell_type": "code",
   "execution_count": 67,
   "metadata": {},
   "outputs": [
    {
     "name": "stdout",
     "output_type": "stream",
     "text": [
      "dividing into 2\n",
      "[10  6  5  9]\n",
      "f= 2.2666666666666666\n"
     ]
    }
   ],
   "source": [
    "#3: kriterii hi-kvadrat : prostaya gipoteza\n",
    "\n",
    "print(\"dividing into 2\")\n",
    "mu=np.array([0,0,0,0])\n",
    "\n",
    "for i in range(0,60,2):\n",
    "    if (mas1[i]==0):\n",
    "        if (mas1[i+1]==0):\n",
    "            mu[0]=mu[0]+1\n",
    "        else:\n",
    "            mu[1]=mu[1]+1\n",
    "    elif (mas1[i]==1):\n",
    "        if (mas1[i+1]==0):\n",
    "            mu[2]=mu[2]+1\n",
    "        else:\n",
    "            mu[3]=mu[3]+1\n",
    "print(mu)\n",
    "\n",
    "f= (mu-7.5)*(mu-7.5) #n=30 pairs, p_j=0.25\n",
    "f=f.sum()/7.5\n",
    "print(\"f=\",f) # it is hi-kvadrat with (4-1)=3 degrees of freedom\n",
    "#kvantil for alpha=0.05 is 7.8 , so no discrepancy\n",
    "\n"
   ]
  },
  {
   "cell_type": "code",
   "execution_count": 73,
   "metadata": {},
   "outputs": [
    {
     "name": "stdout",
     "output_type": "stream",
     "text": [
      "dividing into 3\n",
      "[2 4 2 3 3 1 3 2]\n",
      "[0.26694444 0.24972222 0.24972222 0.23361111]\n",
      "f= 2.4\n"
     ]
    }
   ],
   "source": [
    "print(\"dividing into 3\") # prostaya gipoteza\n",
    "mu=np.array([0,0,0,0,0,0,0,0])\n",
    "\n",
    "for i in range(0,60,3):\n",
    "    tek=mas1[i:i+3]\n",
    "    \n",
    "    if ((tek==np.array([0,0,0])).all()):\n",
    "        mu[0]=mu[0]+1\n",
    "    if ((tek==np.array([0,0,1])).all()):\n",
    "        mu[1]=mu[1]+1\n",
    "    if ((tek==np.array([0,1,0])).all()):\n",
    "        mu[2]=mu[2]+1\n",
    "    if ((tek==np.array([0,1,1])).all()):\n",
    "        mu[3]=mu[3]+1\n",
    "    if ((tek==np.array([1,0,0])).all()):\n",
    "        mu[4]=mu[4]+1\n",
    "    if ((tek==np.array([1,0,1])).all()):\n",
    "        mu[5]=mu[5]+1\n",
    "    if ((tek==np.array([1,1,0])).all()):\n",
    "        mu[6]=mu[6]+1\n",
    "    if ((tek==np.array([1,1,1])).all()):\n",
    "        mu[7]=mu[7]+1\n",
    "        \n",
    "print(mu) \n",
    "\n",
    "\n",
    "f= (mu-2.5)*(mu-2.5)\n",
    "f=f.sum()/2.5\n",
    "print(\"f=\",f)# it is hi-kvadrat with (8-1)=7 degrees of freedom\n",
    "#rvantil for alpha=0.05 is 14.1 , so no discrepancy\n",
    "\n",
    "\n"
   ]
  },
  {
   "cell_type": "code",
   "execution_count": 89,
   "metadata": {},
   "outputs": [
    {
     "name": "stdout",
     "output_type": "stream",
     "text": [
      "dividing into 2\n",
      "mu= [10  6  5  9]\n",
      "n*p_j= [8.00833333 7.49166667 7.49166667 7.00833333]\n",
      "f= 2.187042579754295\n"
     ]
    }
   ],
   "source": [
    "#3: kriterii hi-kvadrat : slojnaya gipoteza\n",
    "\n",
    "print(\"dividing into 2\")\n",
    "mu=np.array([0,0,0,0])\n",
    "\n",
    "for i in range(0,60,2):\n",
    "    if (mas1[i]==0):\n",
    "        if (mas1[i+1]==0):\n",
    "            mu[0]=mu[0]+1\n",
    "        else:\n",
    "            mu[1]=mu[1]+1\n",
    "    elif (mas1[i]==1):\n",
    "        if (mas1[i+1]==0):\n",
    "            mu[2]=mu[2]+1\n",
    "        else:\n",
    "            mu[3]=mu[3]+1\n",
    "print(\"mu=\",mu)\n",
    "pp=s1/60\n",
    "p=30*np.array([(1-pp)*(1-pp),pp*(1-pp),pp*(1-pp),pp*pp])\n",
    "print(\"n*p_j=\",p)\n",
    "\n",
    "f= (mu-p)*(mu-p)/p\n",
    "f=f.sum()\n",
    "print(\"f=\",f) # it is hi-kvadrat with (4-2)=2 degrees of freedom\n",
    "#rvantil for alpha=0.05 is 6.0 , so no discrepancy"
   ]
  },
  {
   "cell_type": "code",
   "execution_count": 91,
   "metadata": {},
   "outputs": [
    {
     "name": "stdout",
     "output_type": "stream",
     "text": [
      "[0. 0. 0. 1. 1. 1. 1. 1. 1. 1. 0. 0. 1. 0. 0. 1. 0. 0. 1. 0. 0. 1. 0. 0.\n",
      " 0. 1. 0. 0. 1. 0. 0. 1. 1. 1. 1. 0. 0. 1. 0. 0. 1. 0. 0. 1. 0. 0. 0. 1.\n",
      " 0. 0. 1. 0. 1. 0. 0. 0. 0. 1. 0.]\n"
     ]
    }
   ],
   "source": [
    "#kriterii otdelim markova/nesluchainui\n",
    "y=np.zeros(59)\n",
    "for i in range(1,60,1):\n",
    "    if (mas1[i]==mas1[i-1]):\n",
    "        y[i-1]=0\n",
    "    elif (mas1[i] != mas1[i-1]):\n",
    "        y[i-1]=1\n",
    "print(y)"
   ]
  },
  {
   "cell_type": "code",
   "execution_count": null,
   "metadata": {},
   "outputs": [],
   "source": []
  }
 ],
 "metadata": {
  "kernelspec": {
   "display_name": "Python 3",
   "language": "python",
   "name": "python3"
  },
  "language_info": {
   "codemirror_mode": {
    "name": "ipython",
    "version": 3
   },
   "file_extension": ".py",
   "mimetype": "text/x-python",
   "name": "python",
   "nbconvert_exporter": "python",
   "pygments_lexer": "ipython3",
   "version": "3.7.3"
  }
 },
 "nbformat": 4,
 "nbformat_minor": 2
}
