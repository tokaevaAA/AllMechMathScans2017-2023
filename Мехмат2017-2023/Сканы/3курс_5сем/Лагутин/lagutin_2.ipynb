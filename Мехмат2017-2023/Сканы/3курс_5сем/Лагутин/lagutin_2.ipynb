{
 "cells": [
  {
   "cell_type": "code",
   "execution_count": 29,
   "metadata": {},
   "outputs": [],
   "source": [
    "import numpy as np\n",
    "def krit_serii(mas):\n",
    "    n=60\n",
    "    m=mas.sum()\n",
    "    k=n-m\n",
    "    ser=1\n",
    "    for i in range(1,60,1):\n",
    "        if mas1[i] != mas1[i-1]:\n",
    "            ser=ser+1\n",
    "    #print(ser)\n",
    "    M=(2*k*m)/n + 1\n",
    "    D=(2*k*m*(2*k*m-n))/(n*n*(n-1))\n",
    "    f= (ser-M)/(np.sqrt(D)) #it is normal(0,1)\n",
    "    \n",
    "    if (np.absolute(f) <= 2):\n",
    "        return(\"ok\")\n",
    "    else:\n",
    "        return(\"discrepancy\")\n",
    "    \n"
   ]
  },
  {
   "cell_type": "code",
   "execution_count": 32,
   "metadata": {},
   "outputs": [],
   "source": [
    "def krit_hi_kv_simple(mas):\n",
    "    mu=np.array([0,0,0,0])\n",
    "    for i in range(0,60,2):\n",
    "        tek=mas1[i:i+2]\n",
    "        if ((tek==np.array([0,0])).all()):\n",
    "            mu[0]=mu[0]+1\n",
    "        if ((tek==np.array([0,1])).all()):\n",
    "            mu[1]=mu[1]+1\n",
    "        if ((tek==np.array([1,0])).all()):\n",
    "            mu[2]=mu[2]+1\n",
    "        if ((tek==np.array([1,1])).all()):\n",
    "            mu[3]=mu[3]+1\n",
    "    #print(mu)\n",
    "\n",
    "    f= (mu-7.5)*(mu-7.5) #n=30 pairs, p_j=0.25 => n* p_j = 7.5\n",
    "    f=f.sum()/7.5 # it is hi-kvadrat with (4-1)=3 degrees of freedom; \n",
    "                  #kvantil for alpha=0.05 is 7.8 \n",
    "    if (f <= 7.8):\n",
    "        return(\"ok\")\n",
    "    else:\n",
    "        return(\"discrepancy\")"
   ]
  },
  {
   "cell_type": "code",
   "execution_count": 33,
   "metadata": {},
   "outputs": [],
   "source": [
    "def krit_hi_kv_composite(mas):\n",
    "    mu=np.array([0,0,0,0])\n",
    "    for i in range(0,60,2):\n",
    "        tek=mas1[i:i+2]\n",
    "        if ((tek==np.array([0,0])).all()):\n",
    "            mu[0]=mu[0]+1\n",
    "        if ((tek==np.array([0,1])).all()):\n",
    "            mu[1]=mu[1]+1\n",
    "        if ((tek==np.array([1,0])).all()):\n",
    "            mu[2]=mu[2]+1\n",
    "        if ((tek==np.array([1,1])).all()):\n",
    "            mu[3]=mu[3]+1\n",
    "    #print(mu)\n",
    "    \n",
    "    s=mas.sum() #kol-vo ediniz\n",
    "    pp=s/60\n",
    "    p=30*np.array([(1-pp)*(1-pp),pp*(1-pp),pp*(1-pp),pp*pp])\n",
    "    #print(\"n*p_j=\",p)\n",
    "\n",
    "    f= (mu-p)*(mu-p)/p\n",
    "    f=f.sum()\n",
    "    #print(\"f=\",f)\n",
    "                            # it is hi-kvadrat with (4-2)=2 degrees of freedom\n",
    "                            #rvantil for alpha=0.05 is 6.0 \n",
    "    \n",
    "    if (f <= 6.0):\n",
    "        return(\"ok\")\n",
    "    else:\n",
    "        return(\"discrepancy\")"
   ]
  },
  {
   "cell_type": "code",
   "execution_count": 36,
   "metadata": {},
   "outputs": [],
   "source": [
    "def distinguish_markov_from_sin(mas):\n",
    "    y=np.zeros(59)\n",
    "    for i in range(1,60,1):\n",
    "        if (mas1[i]==mas1[i-1]):\n",
    "            y[i-1]=0\n",
    "        elif (mas1[i] != mas1[i-1]):\n",
    "            y[i-1]=1\n",
    "    otv=np.array([krit_serii(mas),krit_hi_kv_simple(mas),krit_hi_kv_composite(mas)])\n",
    "    return(otv)"
   ]
  },
  {
   "cell_type": "code",
   "execution_count": 39,
   "metadata": {},
   "outputs": [
    {
     "name": "stdout",
     "output_type": "stream",
     "text": [
      "60\n",
      "ok\n",
      "ok\n",
      "ok\n",
      "['ok' 'ok' 'ok']\n"
     ]
    }
   ],
   "source": [
    "mas1=np.array([1,1,1,1,0,1,0,1,0,1,0,0,0,1,1,1,0,0,0,1,1,1,0,0,0,0,1,1,1,0,0,0,1,0,1,0,0,0,1,1,1,0,0,0,1,1,1,1,0,0,0,1,1,0,0,0,0,0,1,1])\n",
    "print(len(mas1))\n",
    "print(krit_serii(mas1))\n",
    "print(krit_hi_kv_simple(mas1))\n",
    "print(krit_hi_kv_composite(mas1))\n",
    "print(distinguish_markov_from_sin(mas1))"
   ]
  },
  {
   "cell_type": "code",
   "execution_count": 41,
   "metadata": {},
   "outputs": [
    {
     "name": "stdout",
     "output_type": "stream",
     "text": [
      "60\n",
      "ok\n",
      "ok\n",
      "discrepancy\n",
      "['ok' 'ok' 'discrepancy']\n"
     ]
    }
   ],
   "source": [
    "mas2=np.array([1,1,0,1,1,1,0,1,1,1,0,0,0,1,1,1,1,1,0,1,1,1,1,1,1,1,0,0,1,1,0,0,0,0,1,1,1,0,1,1,1,1,1,1,1,0,1,0,1,1,0,1,1,1,0,1,1,0,1,0])\n",
    "print(len(mas2))\n",
    "print(krit_serii(mas2))\n",
    "print(krit_hi_kv_simple(mas2))\n",
    "print(krit_hi_kv_composite(mas2))\n",
    "print(distinguish_markov_from_sin(mas2))"
   ]
  },
  {
   "cell_type": "code",
   "execution_count": 43,
   "metadata": {},
   "outputs": [
    {
     "name": "stdout",
     "output_type": "stream",
     "text": [
      "60\n",
      "ok\n",
      "ok\n",
      "ok\n",
      "['ok' 'ok' 'ok']\n"
     ]
    }
   ],
   "source": [
    "mas3=np.array([1,1,0,0,0,0,1,1,0,0,1,1,1,1,1,0,0,1,0,1,0,0,0,0,1,1,1,1,0,1,0,0,0,1,1,0,0,1,0,0,0,0,0,1,0,1,1,1,1,1,1,0,1,0,0,1,0,1,1,0])\n",
    "print(len(mas3))\n",
    "print(krit_serii(mas3))\n",
    "print(krit_hi_kv_simple(mas3))\n",
    "print(krit_hi_kv_composite(mas3))\n",
    "print(distinguish_markov_from_sin(mas3))"
   ]
  },
  {
   "cell_type": "code",
   "execution_count": 45,
   "metadata": {},
   "outputs": [
    {
     "name": "stdout",
     "output_type": "stream",
     "text": [
      "60\n",
      "ok\n",
      "ok\n",
      "ok\n",
      "['ok' 'ok' 'ok']\n"
     ]
    }
   ],
   "source": [
    "mas4=np.array([1,0,0,1,0,1,1,0,0,1,0,1,1,0,1,0,1,0,1,0,1,0,1,0,1,0,0,1,0,1,0,0,1,1,0,1,0,1,0,1,1,0,1,0,1,0,0,1,0,1,0,1,0,0,1,0,1,0,1,1])\n",
    "print(len(mas4))\n",
    "print(krit_serii(mas4))\n",
    "print(krit_hi_kv_simple(mas4))\n",
    "print(krit_hi_kv_composite(mas4))\n",
    "print(distinguish_markov_from_sin(mas4))"
   ]
  },
  {
   "cell_type": "code",
   "execution_count": null,
   "metadata": {},
   "outputs": [],
   "source": []
  }
 ],
 "metadata": {
  "kernelspec": {
   "display_name": "Python 3",
   "language": "python",
   "name": "python3"
  },
  "language_info": {
   "codemirror_mode": {
    "name": "ipython",
    "version": 3
   },
   "file_extension": ".py",
   "mimetype": "text/x-python",
   "name": "python",
   "nbconvert_exporter": "python",
   "pygments_lexer": "ipython3",
   "version": "3.7.3"
  }
 },
 "nbformat": 4,
 "nbformat_minor": 2
}
