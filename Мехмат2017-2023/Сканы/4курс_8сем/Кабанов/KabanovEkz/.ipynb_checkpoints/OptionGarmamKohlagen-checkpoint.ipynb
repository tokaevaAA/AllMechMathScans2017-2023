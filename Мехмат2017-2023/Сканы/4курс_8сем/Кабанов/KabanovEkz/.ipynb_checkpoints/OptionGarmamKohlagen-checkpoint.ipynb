{
 "cells": [
  {
   "cell_type": "code",
   "execution_count": 1,
   "metadata": {},
   "outputs": [],
   "source": [
    "import numpy as np\n",
    "import pandas as pd\n",
    "import scipy\n",
    "from scipy import special\n",
    "from scipy.special import erf"
   ]
  },
  {
   "cell_type": "code",
   "execution_count": 2,
   "metadata": {},
   "outputs": [
    {
     "data": {
      "text/plain": [
       "0.45956819386863046"
      ]
     },
     "execution_count": 2,
     "metadata": {},
     "output_type": "execute_result"
    }
   ],
   "source": [
    "#Black-Scholes model\n",
    "r=0.02\n",
    "sigm=0.11\n",
    "tau=180/365\n",
    "S=95\n",
    "K=105\n",
    "\n",
    "def Phi(x):\n",
    "    return 0.5*(1+scipy.special.erf(x/np.sqrt(2)))\n",
    "\n",
    "def N1():\n",
    "    a=np.log(S/K) + (r+sigm*sigm/2)*tau\n",
    "    a=a/(sigm*np.sqrt(tau))\n",
    "    return Phi(a)\n",
    "\n",
    "\n",
    "def N2():\n",
    "    a=np.log(S/K) + (r-sigm*sigm/2)*tau\n",
    "    a=a/(sigm*np.sqrt(tau))\n",
    "    return Phi(a)\n",
    "\n",
    "def price():\n",
    "    return S*N1()-K*N2()*np.exp(-r*tau)\n",
    "\n",
    "price()"
   ]
  },
  {
   "cell_type": "code",
   "execution_count": 3,
   "metadata": {},
   "outputs": [
    {
     "data": {
      "text/plain": [
       "0.003709975524818875"
      ]
     },
     "execution_count": 3,
     "metadata": {},
     "output_type": "execute_result"
    }
   ],
   "source": [
    "#оцениваем sigm\n",
    "df=pd.read_csv(\"USD_EUR_year.csv\")\n",
    "otv=0\n",
    "for i in range(len(df)-2, -1, -1):\n",
    "    otv+=(float(df['Цена'].values[i][2:])/float(df['Цена'].values[i+1][2:])-1)**2\n",
    "otv"
   ]
  },
  {
   "cell_type": "code",
   "execution_count": 4,
   "metadata": {},
   "outputs": [
    {
     "name": "stdout",
     "output_type": "stream",
     "text": [
      "Option1 price= 0.07783715105526257\n",
      "Option2 price= 3.864938626070972e-183\n"
     ]
    }
   ],
   "source": [
    "#Garmam and Kolhagen model for usd/euro\n",
    "import scipy\n",
    "from scipy.stats import norm as normal_distrib\n",
    "\n",
    "def MyPhi(x):\n",
    "    return normal_distrib.cdf(x,0,1)\n",
    "def myphi(x):\n",
    "        return normal_distrib.pdf(x,0,1)\n",
    "    \n",
    "class FXPricer():\n",
    "    def __init__(self,r_d,r_f,sigm,T,S0,K):\n",
    "        self.r_d=r_d\n",
    "        self.r_f=r_f\n",
    "        self.sigm=sigm\n",
    "        self.T=T\n",
    "        self.S0=S0\n",
    "        self.K=K\n",
    "    def d1(self):\n",
    "        return (np.log(self.S0/self.K) + ((self.r_d-self.r_f)+self.sigm*self.sigm/2)*self.T)/(self.sigm*np.sqrt(self.T))\n",
    "    def d2(self):\n",
    "        return self.d1()-self.sigm*np.sqrt(self.T)\n",
    "    def get_price(self):\n",
    "        return self.S0*np.exp(-self.r_f*self.T)*MyPhi(self.d1())-self.K*np.exp(-self.r_d*self.T)*MyPhi(self.d2())\n",
    "    def get_delta(self):\n",
    "        return np.exp(-self.r_f*self.T)*MyPhi(self.d1())\n",
    "    def get_gamma(self):\n",
    "        return np.exp(-self.r_f*self.T)*myphi(self.d1())/(self.S0*self.sigm*np.sqrt(self.T))\n",
    "    def get_theta(self):\n",
    "        return -(self.S0*self.sigm*myphi(self.d1()))/(2*np.sqrt(self.T))\n",
    "    \n",
    "    \n",
    "MyPricer=FXPricer(r_d=1.24/100, r_f=2.29/100, sigm=0.00371, T=365/365, S0=0.88,K=0.9*0.88)\n",
    "print(\"Option1 price=\",MyPricer.get_price())\n",
    "MyPricer=FXPricer(r_d=1.24/100, r_f=2.29/100, sigm=0.00371, T=365/365, S0=0.88,K=1.1*0.88)\n",
    "print(\"Option2 price=\",MyPricer.get_price())"
   ]
  },
  {
   "cell_type": "code",
   "execution_count": 5,
   "metadata": {},
   "outputs": [
    {
     "name": "stdout",
     "output_type": "stream",
     "text": [
      "Option1 delta= 0.9773602149081297\n",
      "Option1 gamma= 1.238112321907723e-140\n",
      "Option1 theta= 1.238112321907723e-140\n",
      "Option2 delta= 3.384779460491882e-179\n",
      "Option2 gamma= 2.960270852744988e-175\n",
      "Option2 theta= -1.6142097291553116e-180\n"
     ]
    }
   ],
   "source": [
    "MyPricer=FXPricer(r_d=1.24/100, r_f=2.29/100, sigm=0.00371, T=365/365, S0=0.88,K=0.9*0.88)\n",
    "print(\"Option1 delta=\",MyPricer.get_delta())\n",
    "print(\"Option1 gamma=\",MyPricer.get_gamma())\n",
    "print(\"Option1 theta=\",MyPricer.get_gamma())\n",
    "MyPricer=FXPricer(r_d=1.24/100, r_f=2.29/100, sigm=0.00371, T=365/365, S0=0.88,K=1.1*0.88)\n",
    "print(\"Option2 delta=\",MyPricer.get_delta())\n",
    "print(\"Option2 gamma=\",MyPricer.get_gamma())\n",
    "print(\"Option2 theta=\",MyPricer.get_theta())"
   ]
  },
  {
   "cell_type": "code",
   "execution_count": null,
   "metadata": {},
   "outputs": [],
   "source": []
  }
 ],
 "metadata": {
  "kernelspec": {
   "display_name": "Python 3",
   "language": "python",
   "name": "python3"
  },
  "language_info": {
   "codemirror_mode": {
    "name": "ipython",
    "version": 3
   },
   "file_extension": ".py",
   "mimetype": "text/x-python",
   "name": "python",
   "nbconvert_exporter": "python",
   "pygments_lexer": "ipython3",
   "version": "3.7.3"
  }
 },
 "nbformat": 4,
 "nbformat_minor": 2
}
