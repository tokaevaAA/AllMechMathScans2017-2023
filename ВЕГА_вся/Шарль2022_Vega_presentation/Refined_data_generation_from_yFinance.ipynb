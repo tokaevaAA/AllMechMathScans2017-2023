{
 "cells": [
  {
   "cell_type": "markdown",
   "metadata": {},
   "source": [
    "## Data Analysis"
   ]
  },
  {
   "cell_type": "code",
   "execution_count": null,
   "metadata": {},
   "outputs": [],
   "source": [
    "from datetime import datetime\n",
    "import pandas as pd\n",
    "import json\n",
    "\n",
    "from Equity_data_generation_from_yFinance import yFinance_generate_refined_implied_volatility_surface_dictionnary, yFinance_raw_to_refined_data_sanity_check,  yFinance_Equity_IV_graph\n",
    "\n",
    "data_date = \"2022-10-31\"\n",
    "\n",
    "raw_data_folder = \"DATA\\\\raw_data_\" + data_date + \"\\\\\"\n",
    "refined_data_folder = \"DATA\\\\refined_data_\" + data_date + \"\\\\\"\n",
    "\n",
    "SOFR_daycountfractions = [0.025, 0.044444444444444446, 0.06388888888888888, 0.08888888888888889, 0.17777777777777778, 0.2611111111111111, 0.3388888888888889, 0.42777777777777776, 0.5083333333333333, 0.5944444444444444, 0.6805555555555556, 0.7638888888888888, 0.8583333333333333, 0.9333333333333333, 1.0194444444444444, 1.275, 1.525, 1.7805555555555554, 2.0416666666666665, 3.0527777777777776, 4.063888888888889, 5.0777777777777775, 6.094444444444444, 7.108333333333333, 8.127777777777778, 9.13888888888889, 10.152777777777779, 11.166666666666666, 12.180555555555555, 15.225, 20.3, 25.375, 30.45, 40.58888888888889, 50.736111111111114]\n",
    "SOFR_dfs = [0.99908377, 0.99834724, 0.99761118, 0.99666563, 0.99299067, 0.9893521, 0.98568173, 0.98146704, 0.97759009, 0.9734431, 0.96932935, 0.96538615, 0.96099668, 0.95754721, 0.95364084, 0.94251165, 0.93228499, 0.92250253, 0.91307201, 0.87999494, 0.84928716, 0.81983717, 0.79122344, 0.76392464, 0.73751515, 0.71183102, 0.68629207, 0.66149736, 0.63743818, 0.5707853, 0.4832476, 0.4235979, 0.3760151, 0.31293885, 0.27311336]\n",
    "\n",
    "expiry_date_list =None"
   ]
  },
  {
   "cell_type": "code",
   "execution_count": null,
   "metadata": {},
   "outputs": [],
   "source": [
    "# Analysis of all the stocks\n",
    "#---------------------------\n",
    "underlying_list =[{'ticker': '^SPX', 'shortName': 'S&P 500 INDEX', 'sector': 'index', 'dividendYield': 0.017}, {'ticker': 'AAPL', 'shortName': 'Apple Inc.', 'sector': 'Technology', 'dividendYield': 0.006297056547336187}, {'ticker': 'MSFT', 'shortName': 'Microsoft Corporation', 'sector': 'Technology', 'dividendYield': 0.010928961534217014}, {'ticker': 'NVDA', 'shortName': 'NVIDIA Corporation', 'sector': 'Technology', 'dividendYield': 0.0012151591267944317}, {'ticker': 'AVGO', 'shortName': 'Broadcom Inc.', 'sector': 'Technology', 'dividendYield': 0.03417663589512423}, {'ticker': 'ORCL', 'shortName': 'Oracle Corporation', 'sector': 'Technology', 'dividendYield': 0.01948546129438382}, {'ticker': 'CSCO', 'shortName': 'Cisco Systems, Inc.', 'sector': 'Technology', 'dividendYield': 0.03634624608063113}, {'ticker': 'CRM', 'shortName': 'Salesforce, Inc.', 'sector': 'Technology', 'dividendYield': 0}, {'ticker': 'TXN', 'shortName': 'Texas Instruments Incorporated', 'sector': 'Technology', 'dividendYield': 0.03003330416777924}, {'ticker': 'ADBE', 'shortName': 'Adobe Inc.', 'sector': 'Technology', 'dividendYield': 0}, {'ticker': 'QCOM', 'shortName': 'QUALCOMM Incorporated', 'sector': 'Technology', 'dividendYield': 0.0245158121489361}, {'ticker': 'INTC', 'shortName': 'Intel Corporation', 'sector': 'Technology', 'dividendYield': 0.05270757977571509}, {'ticker': 'IBM', 'shortName': 'International Business Machines', 'sector': 'Technology', 'dividendYield': 0.052589641434262945}, {'ticker': 'AMZN', 'shortName': 'Amazon.com, Inc.', 'sector': 'Consumer Cyclical', 'dividendYield': 0}, {'ticker': 'TSLA', 'shortName': 'Tesla, Inc.', 'sector': 'Consumer Cyclical', 'dividendYield': 0}, {'ticker': 'HD', 'shortName': 'Home Depot, Inc. (The)', 'sector': 'Consumer Cyclical', 'dividendYield': 0.026246719381402488}, {'ticker': 'MCD', 'shortName': \"McDonald's Corporation\", 'sector': 'Consumer Cyclical', 'dividendYield': 0.023144654088050314}, {'ticker': 'NKE', 'shortName': 'Nike, Inc.', 'sector': 'Consumer Cyclical', 'dividendYield': 0.013763538000909261}, {'ticker': 'LOW', 'shortName': \"Lowe's Companies, Inc.\", 'sector': 'Consumer Cyclical', 'dividendYield': 0.02127444047692566}, {'ticker': 'GOOG', 'shortName': 'Alphabet Inc.', 'sector': 'Communication Services', 'dividendYield': 0}, {'ticker': 'META', 'shortName': 'Meta Platforms, Inc.', 'sector': 'Communication Services', 'dividendYield': 0}, {'ticker': 'TMUS', 'shortName': 'T-Mobile US, Inc.', 'sector': 'Communication Services', 'dividendYield': 0}, {'ticker': 'DIS', 'shortName': 'Walt Disney Company (The)', 'sector': 'Communication Services', 'dividendYield': 0}, {'ticker': 'NFLX', 'shortName': 'Netflix, Inc.', 'sector': 'Communication Services', 'dividendYield': 0}, {'ticker': 'VZ', 'shortName': 'Verizon Communications Inc.', 'sector': 'Communication Services', 'dividendYield': 0.06556141446784974}, {'ticker': 'CMCSA', 'shortName': 'Comcast Corporation', 'sector': 'Communication Services', 'dividendYield': 0.03484995185467961}, {'ticker': 'T', 'shortName': 'AT&T Inc.', 'sector': 'Communication Services', 'dividendYield': 0.06898694776093395}, {'ticker': 'XOM', 'shortName': 'Exxon Mobil Corporation', 'sector': 'Energy', 'dividendYield': 0.03694762384833337}, {'ticker': 'CVX', 'shortName': 'Chevron Corporation', 'sector': 'Energy', 'dividendYield': 0.03603374880450397}, {'ticker': 'COP', 'shortName': 'ConocoPhillips', 'sector': 'Energy', 'dividendYield': 0.01660612311356098}, {'ticker': 'BRK-B', 'shortName': 'Berkshire Hathaway Inc. New', 'sector': 'Financial Services', 'dividendYield': 0}, {'ticker': 'V', 'shortName': 'Visa Inc.', 'sector': 'Financial Services', 'dividendYield': 0.008079720168675994}, {'ticker': 'JPM', 'shortName': 'JP Morgan Chase & Co.', 'sector': 'Financial Services', 'dividendYield': 0.03547042758776155}, {'ticker': 'MA', 'shortName': 'Mastercard Incorporated', 'sector': 'Financial Services', 'dividendYield': 0.006505792383824376}, {'ticker': 'BAC', 'shortName': 'Bank of America Corporation', 'sector': 'Financial Services', 'dividendYield': 0.02717726902321016}, {'ticker': 'WFC', 'shortName': 'Wells Fargo & Company', 'sector': 'Financial Services', 'dividendYield': 0.027560862994195596}, {'ticker': 'SCHW', 'shortName': 'Charles Schwab Corporation (The', 'sector': 'Financial Services', 'dividendYield': 0.011545525923725274}, {'ticker': 'MS', 'shortName': 'Morgan Stanley', 'sector': 'Financial Services', 'dividendYield': 0.03691794634910263}, {'ticker': 'UNH', 'shortName': 'UnitedHealth Group Incorporated', 'sector': 'Healthcare', 'dividendYield': 0.01261540267139794}, {'ticker': 'JNJ', 'shortName': 'Johnson & Johnson', 'sector': 'Healthcare', 'dividendYield': 0.02729139073335795}, {'ticker': 'PFE', 'shortName': 'Pfizer, Inc.', 'sector': 'Healthcare', 'dividendYield': 0.03598740514951537}, {'ticker': 'ABBV', 'shortName': 'AbbVie Inc.', 'sector': 'Healthcare', 'dividendYield': 0.039721105583530175}, {'ticker': 'MRK', 'shortName': 'Merck & Company, Inc.', 'sector': 'Healthcare', 'dividendYield': 0.03122525194092523}, {'ticker': 'TMO', 'shortName': 'Thermo Fisher Scientific Inc', 'sector': 'Healthcare', 'dividendYield': 0.0022225103555611877}, {'ticker': 'ABT', 'shortName': 'Abbott Laboratories', 'sector': 'Healthcare', 'dividendYield': 0.018238261220457373}, {'ticker': 'BMY', 'shortName': 'Bristol-Myers Squibb Company', 'sector': 'Healthcare', 'dividendYield': 0.030332818814359293}, {'ticker': 'CVS', 'shortName': 'CVS Health Corporation', 'sector': 'Healthcare', 'dividendYield': 0.021886192533530593}, {'ticker': 'WMT', 'shortName': 'Walmart Inc.', 'sector': 'Consumer Defensive', 'dividendYield': 0.016685288640595906}, {'ticker': 'PG', 'shortName': 'Procter & Gamble Company (The)', 'sector': 'Consumer Defensive', 'dividendYield': 0.028055340728391925}, {'ticker': 'KO', 'shortName': 'Coca-Cola Company (The)', 'sector': 'Consumer Defensive', 'dividendYield': 0.03099683053606777}, {'ticker': 'PEP', 'shortName': 'Pepsico, Inc.', 'sector': 'Consumer Defensive', 'dividendYield': 0.02752677866793721}, {'ticker': 'COST', 'shortName': 'Costco Wholesale Corporation', 'sector': 'Consumer Defensive', 'dividendYield': 0.00740542645761564}, {'ticker': 'PM', 'shortName': 'Philip Morris International Inc', 'sector': 'Consumer Defensive', 'dividendYield': 0.05839080459770115}, {'ticker': 'UPS', 'shortName': 'United Parcel Service, Inc.', 'sector': 'Industrials', 'dividendYield': 0.03599976328955244}, {'ticker': 'RTX', 'shortName': 'Raytheon Technologies Corporati', 'sector': 'Industrials', 'dividendYield': 0.02572196926691089}, {'ticker': 'HON', 'shortName': 'Honeywell International Inc.', 'sector': 'Industrials', 'dividendYield': 0.02199898954089191}, {'ticker': 'NEE', 'shortName': 'NextEra Energy, Inc.', 'sector': 'Utilities', 'dividendYield': 0.02004346783526661}]\n",
    "#expiry_date_list=['2022-10-14', '2022-10-28', '2022-11-18', '2022-12-16', '2022-12-30', '2023-01-20', '2023-02-17', '2023-03-17', '2023-03-31', '2023-04-21', '2023-05-19', '2023-06-16', '2023-06-30', '2023-07-21', '2023-08-18', '2023-09-15', '2023-09-29', '2023-10-20', '2023-12-15', '2024-01-19', '2024-06-21', '2024-12-20']\n",
    "\n",
    "for und in underlying_list:\n",
    "    #data loading from raw import\n",
    "    import_file = raw_data_folder + und[\"ticker\"] + \" - yFinance raw data - \" + data_date +\" @ close.json\"\n",
    "    options = pd.read_json(import_file)\n",
    "    options[\"lastTradeDate\"] = pd.to_datetime(options[\"lastTradeDate\"], unit='ms') #required format adjustment\n",
    "    #data analysis\n",
    "    equity_IV_dict = yFinance_generate_refined_implied_volatility_surface_dictionnary(options, SOFR_daycountfractions, SOFR_dfs,expiry_date_list)\n",
    "    yFinance_Equity_IV_graph.lines_3D(und[\"shortName\"]+\" (\"+und[\"sector\"]+\")\", equity_IV_dict)"
   ]
  },
  {
   "cell_type": "code",
   "execution_count": null,
   "metadata": {},
   "outputs": [],
   "source": [
    "#SANITY CHECKS (clean data perfectly in line with raw prices)\n",
    "#------------------------------------------------------------\n",
    "test_date = \"2022-10-31\"\n",
    "underlying_list = [{'ticker': '^SPX', 'shortName': 'S&P 500 INDEX', 'sector': 'index', 'dividendYield': 0.017}, \n",
    "                    {'ticker': 'AAPL', 'shortName': 'Apple Inc.', 'sector': 'Technology', 'dividendYield': 0.006247029084741036}, {'ticker': 'MSFT', 'shortName': 'Microsoft Corporation', 'sector': 'Technology', 'dividendYield': 0.01123409902054353}, {'ticker': 'NVDA', 'shortName': 'NVIDIA Corporation', 'sector': 'Technology', 'dividendYield': 0.0012834910580756889}, {'ticker': 'AVGO', 'shortName': 'Broadcom Inc.', 'sector': 'Technology', 'dividendYield': 0.036466323348162244}, {'ticker': 'ORCL', 'shortName': 'Oracle Corporation', 'sector': 'Technology', 'dividendYield': 0.0176066032150081}, {'ticker': 'CSCO', 'shortName': 'Cisco Systems, Inc.', 'sector': 'Technology', 'dividendYield': 0.03551401932465062}, {'ticker': 'CRM', 'shortName': 'Salesforce, Inc.', 'sector': 'Technology', 'dividendYield': 0}, {'ticker': 'TXN', 'shortName': 'Texas Instruments Incorporated', 'sector': 'Technology', 'dividendYield': 0.031054344866590686}, {'ticker': 'ADBE', 'shortName': 'Adobe Inc.', 'sector': 'Technology', 'dividendYield': 0}, {'ticker': 'QCOM', 'shortName': 'QUALCOMM Incorporated', 'sector': 'Technology', 'dividendYield': 0.025920166367474073}, {'ticker': 'INTC', 'shortName': 'Intel Corporation', 'sector': 'Technology', 'dividendYield': 0.05413422458921105}, {'ticker': 'IBM', 'shortName': 'International Business Machines', 'sector': 'Technology', 'dividendYield': 0.05080831647505276}, {'ticker': 'AMZN', 'shortName': 'Amazon.com, Inc.', 'sector': 'Consumer Cyclical', 'dividendYield': 0}, {'ticker': 'TSLA', 'shortName': 'Tesla, Inc.', 'sector': 'Consumer Cyclical', 'dividendYield': 0}, {'ticker': 'HD', 'shortName': 'Home Depot, Inc. (The)', 'sector': 'Consumer Cyclical', 'dividendYield': 0.027583203403153567}, {'ticker': 'MCD', 'shortName': \"McDonald's Corporation\", 'sector': 'Consumer Cyclical', 'dividendYield': 0.023885287476361764}, {'ticker': 'NKE', 'shortName': 'Nike, Inc.', 'sector': 'Consumer Cyclical', 'dividendYield': 0.013785310734463277}, {'ticker': 'LOW', 'shortName': \"Lowe's Companies, Inc.\", 'sector': 'Consumer Cyclical', 'dividendYield': 0.023030104252079187}, {'ticker': 'GOOG', 'shortName': 'Alphabet Inc.', 'sector': 'Communication Services', 'dividendYield': 0}, {'ticker': 'META', 'shortName': 'Meta Platforms, Inc.', 'sector': 'Communication Services', 'dividendYield': 0}, {'ticker': 'TMUS', 'shortName': 'T-Mobile US, Inc.', 'sector': 'Communication Services', 'dividendYield': 0}, {'ticker': 'DIS', 'shortName': 'Walt Disney Company (The)', 'sector': 'Communication Services', 'dividendYield': 0}, {'ticker': 'NFLX', 'shortName': 'Netflix, Inc.', 'sector': 'Communication Services', 'dividendYield': 0}, {'ticker': 'VZ', 'shortName': 'Verizon Communications Inc.', 'sector': 'Communication Services', 'dividendYield': 0.07241867356441659}, {'ticker': 'CMCSA', 'shortName': 'Comcast Corporation', 'sector': 'Communication Services', 'dividendYield': 0.035433071398293076}, {'ticker': 'T', 'shortName': 'AT&T Inc.', 'sector': 'Communication Services', 'dividendYield': 0.06491227925368016}, {'ticker': 'XOM', 'shortName': 'Exxon Mobil Corporation', 'sector': 'Energy', 'dividendYield': 0.033251464006281095}, {'ticker': 'CVX', 'shortName': 'Chevron Corporation', 'sector': 'Energy', 'dividendYield': 0.0327963503662497}, {'ticker': 'COP', 'shortName': 'ConocoPhillips', 'sector': 'Energy', 'dividendYield': 0.01542292580084283}, {'ticker': 'BRK-B', 'shortName': 'Berkshire Hathaway Inc. New', 'sector': 'Financial Services', 'dividendYield': 0}, {'ticker': 'V', 'shortName': 'Visa Inc.', 'sector': 'Financial Services', 'dividendYield': 0.007879392963563579}, {'ticker': 'JPM', 'shortName': 'JP Morgan Chase & Co.', 'sector': 'Financial Services', 'dividendYield': 0.03272518931640115}, {'ticker': 'MA', 'shortName': 'Mastercard Incorporated', 'sector': 'Financial Services', 'dividendYield': 0.006482124654069515}, {'ticker': 'BAC', 'shortName': 'Bank of America Corporation', 'sector': 'Financial Services', 'dividendYield': 0.025178826345925037}, {'ticker': 'WFC', 'shortName': 'Wells Fargo & Company', 'sector': 'Financial Services', 'dividendYield': 0.02676778833340878}, {'ticker': 'SCHW', 'shortName': 'Charles Schwab Corporation (The', 'sector': 'Financial Services', 'dividendYield': 0.012514220759656386}, {'ticker': 'MS', 'shortName': 'Morgan Stanley', 'sector': 'Financial Services', 'dividendYield': 0.039131531838323866}, {'ticker': 'UNH', 'shortName': 'UnitedHealth Group Incorporated', 'sector': 'Healthcare', 'dividendYield': 0.012365803386580476}, {'ticker': 'JNJ', 'shortName': 'Johnson & Johnson', 'sector': 'Healthcare', 'dividendYield': 0.02679153470526462}, {'ticker': 'PFE', 'shortName': 'Pfizer, Inc.', 'sector': 'Healthcare', 'dividendYield': 0.03559510506881179}, {'ticker': 'ABBV', 'shortName': 'AbbVie Inc.', 'sector': 'Healthcare', 'dividendYield': 0.03835169382314745}, {'ticker': 'MRK', 'shortName': 'Merck & Company, Inc.', 'sector': 'Healthcare', 'dividendYield': 0.02884916957065336}, {'ticker': 'TMO', 'shortName': 'Thermo Fisher Scientific Inc', 'sector': 'Healthcare', 'dividendYield': 0.002415750742020606}, {'ticker': 'ABT', 'shortName': 'Abbott Laboratories', 'sector': 'Healthcare', 'dividendYield': 0.019776983466059866}, {'ticker': 'BMY', 'shortName': 'Bristol-Myers Squibb Company', 'sector': 'Healthcare', 'dividendYield': 0.029912754845394615}, {'ticker': 'CVS', 'shortName': 'CVS Health Corporation', 'sector': 'Healthcare', 'dividendYield': 0.023727350852415324}, {'ticker': 'WMT', 'shortName': 'Walmart Inc.', 'sector': 'Consumer Defensive', 'dividendYield': 0.016374268640567968}, {'ticker': 'PG', 'shortName': 'Procter & Gamble Company (The)', 'sector': 'Consumer Defensive', 'dividendYield': 0.028386996018213234}, {'ticker': 'KO', 'shortName': 'Coca-Cola Company (The)', 'sector': 'Consumer Defensive', 'dividendYield': 0.03145103696916162}, {'ticker': 'PEP', 'shortName': 'Pepsico, Inc.', 'sector': 'Consumer Defensive', 'dividendYield': 0.026580377122925568}, {'ticker': 'COST', 'shortName': 'Costco Wholesale Corporation', 'sector': 'Consumer Defensive', 'dividendYield': 0.00752854585122907}, {'ticker': 'PM', 'shortName': 'Philip Morris International Inc', 'sector': 'Consumer Defensive', 'dividendYield': 0.05779678507146858}, {'ticker': 'UPS', 'shortName': 'United Parcel Service, Inc.', 'sector': 'Industrials', 'dividendYield': 0.03672606395603109}, {'ticker': 'RTX', 'shortName': 'Raytheon Technologies Corporati', 'sector': 'Industrials', 'dividendYield': 0.024847526284745996}, {'ticker': 'HON', 'shortName': 'Honeywell International Inc.', 'sector': 'Industrials', 'dividendYield': 0.021443028567097774}, {'ticker': 'NEE', 'shortName': 'NextEra Energy, Inc.', 'sector': 'Utilities', 'dividendYield': 0.022609908799721107}]\n",
    "\n",
    "\n",
    "for und in underlying_list: \n",
    "    ticker = und[\"ticker\"] \n",
    "    raw_data_path_and_filename = \"raw_data_\" + test_date + \"\\\\\" + ticker + \" - yFinance raw data - \" + test_date +\" @ close.json\"\n",
    "    options = pd.read_json(raw_data_path_and_filename)\n",
    "    options[\"lastTradeDate\"] = pd.to_datetime(options[\"lastTradeDate\"], unit='ms') #required format adjustment\n",
    "    refined_data_path_and_filename = \"refined_data_\" + test_date + \"\\\\\" + ticker + \" - yFinance refined data - \" + test_date +\" @ close.json\"\n",
    "    equity_IV_dict = json.load(open(refined_data_path_and_filename))\n",
    "    yFinance_raw_to_refined_data_sanity_check(options, equity_IV_dict, reference_precision = 1e-14, log = False)\n",
    "\n",
    "print (\"Sanity ckecks completed.\") "
   ]
  }
 ],
 "metadata": {
  "kernelspec": {
   "display_name": "Python 3",
   "language": "python",
   "name": "python3"
  },
  "language_info": {
   "codemirror_mode": {
    "name": "ipython",
    "version": 3
   },
   "file_extension": ".py",
   "mimetype": "text/x-python",
   "name": "python",
   "nbconvert_exporter": "python",
   "pygments_lexer": "ipython3",
   "version": "3.8.10"
  },
  "orig_nbformat": 4,
  "vscode": {
   "interpreter": {
    "hash": "3395fdf9df810ff403a1c27ba46bd32902461ea0cf5063b25d91b8bc5efd39c2"
   }
  }
 },
 "nbformat": 4,
 "nbformat_minor": 2
}
