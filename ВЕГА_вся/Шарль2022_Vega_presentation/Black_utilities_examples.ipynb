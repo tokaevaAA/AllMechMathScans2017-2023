{
 "cells": [
  {
   "cell_type": "code",
   "execution_count": 1,
   "metadata": {},
   "outputs": [],
   "source": [
    "from Equity_data_generation_from_yFinance.Black_utilities import *\n",
    "\n",
    "from Equity_data_generation_from_yFinance.Black_utilities.Black_utilities_self_contained_using_scipy import black_price_formula as sc_black_price_formula\n",
    "from Equity_data_generation_from_yFinance.Black_utilities.Black_utilities_self_contained_using_scipy import black_implied_vol as sc_black_implied_vol\n",
    "\n",
    "from Equity_data_generation_from_yFinance.Black_utilities.Black_utilities_self_contained_without_scipy import black_price_formula as sc_without_scipy_black_price_formula\n",
    "from Equity_data_generation_from_yFinance.Black_utilities.Black_utilities_self_contained_without_scipy import black_implied_vol as sc_without_scipy_black_implied_vol"
   ]
  },
  {
   "cell_type": "code",
   "execution_count": 2,
   "metadata": {},
   "outputs": [],
   "source": [
    "F = 100\n",
    "K = 75\n",
    "T = 0.5\n",
    "sigma = 0.35\n",
    "isCall = False\n",
    "price = black_price_formula(F,K,T,sigma,isCall)"
   ]
  },
  {
   "cell_type": "markdown",
   "metadata": {},
   "source": [
    "## Black Formula performance check"
   ]
  },
  {
   "cell_type": "code",
   "execution_count": 3,
   "metadata": {},
   "outputs": [
    {
     "name": "stdout",
     "output_type": "stream",
     "text": [
      "1.2915267149082563\n",
      "134 ns ± 1.4 ns per loop (mean ± std. dev. of 7 runs, 10,000,000 loops each)\n"
     ]
    }
   ],
   "source": [
    "# Cython\n",
    "#-------\n",
    "print(price)\n",
    "%timeit black_price_formula(F,K,T,sigma,isCall)"
   ]
  },
  {
   "cell_type": "code",
   "execution_count": 4,
   "metadata": {},
   "outputs": [
    {
     "name": "stdout",
     "output_type": "stream",
     "text": [
      "1.291526714908251\n",
      "127 µs ± 1.32 µs per loop (mean ± std. dev. of 7 runs, 10,000 loops each)\n"
     ]
    }
   ],
   "source": [
    "# Python using SciPy\n",
    "#-------------------\n",
    "print(sc_black_price_formula(F,K,T,sigma,isCall))\n",
    "%timeit sc_black_price_formula(F,K,T,sigma,isCall)"
   ]
  },
  {
   "cell_type": "code",
   "execution_count": 5,
   "metadata": {},
   "outputs": [
    {
     "name": "stdout",
     "output_type": "stream",
     "text": [
      "1.2915216965340939\n",
      "946 ns ± 11.7 ns per loop (mean ± std. dev. of 7 runs, 1,000,000 loops each)\n"
     ]
    }
   ],
   "source": [
    "# Python only\n",
    "#------------\n",
    "print(sc_without_scipy_black_price_formula(F,K,T,sigma,isCall))\n",
    "%timeit sc_without_scipy_black_price_formula(F,K,T,sigma,isCall)"
   ]
  },
  {
   "cell_type": "markdown",
   "metadata": {},
   "source": [
    "## Black implied volatility performance check"
   ]
  },
  {
   "cell_type": "code",
   "execution_count": 6,
   "metadata": {},
   "outputs": [
    {
     "name": "stdout",
     "output_type": "stream",
     "text": [
      "0.34999999999999987\n",
      "639 ns ± 4.55 ns per loop (mean ± std. dev. of 7 runs, 1,000,000 loops each)\n"
     ]
    }
   ],
   "source": [
    "# Cython\n",
    "#-------\n",
    "print(black_implied_vol(price,F,K,T,isCall))\n",
    "%timeit black_implied_vol(price,F,K,T,isCall)"
   ]
  },
  {
   "cell_type": "code",
   "execution_count": 7,
   "metadata": {},
   "outputs": [
    {
     "name": "stdout",
     "output_type": "stream",
     "text": [
      "0.3500000007334597\n",
      "994 µs ± 16.1 µs per loop (mean ± std. dev. of 7 runs, 1,000 loops each)\n"
     ]
    }
   ],
   "source": [
    "# Python using SciPy\n",
    "#-------------------\n",
    "print(sc_black_implied_vol(price,F,K,T,isCall))\n",
    "%timeit sc_black_implied_vol(price,F,K,T,isCall)"
   ]
  },
  {
   "cell_type": "code",
   "execution_count": 8,
   "metadata": {},
   "outputs": [
    {
     "name": "stdout",
     "output_type": "stream",
     "text": [
      "0.35000040770310126\n",
      "6.26 µs ± 139 ns per loop (mean ± std. dev. of 7 runs, 100,000 loops each)\n"
     ]
    }
   ],
   "source": [
    "# Python only\n",
    "#------------\n",
    "print(sc_without_scipy_black_implied_vol(price,F,K,T,isCall))\n",
    "%timeit sc_without_scipy_black_implied_vol(price,F,K,T,isCall)"
   ]
  }
 ],
 "metadata": {
  "kernelspec": {
   "display_name": "Python 3",
   "language": "python",
   "name": "python3"
  },
  "language_info": {
   "codemirror_mode": {
    "name": "ipython",
    "version": 3
   },
   "file_extension": ".py",
   "mimetype": "text/x-python",
   "name": "python",
   "nbconvert_exporter": "python",
   "pygments_lexer": "ipython3",
   "version": "3.8.10"
  },
  "orig_nbformat": 4,
  "vscode": {
   "interpreter": {
    "hash": "3395fdf9df810ff403a1c27ba46bd32902461ea0cf5063b25d91b8bc5efd39c2"
   }
  }
 },
 "nbformat": 4,
 "nbformat_minor": 2
}
