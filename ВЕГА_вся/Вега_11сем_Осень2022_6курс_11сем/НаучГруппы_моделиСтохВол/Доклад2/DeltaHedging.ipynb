{
 "cells": [
  {
   "cell_type": "code",
   "execution_count": 1,
   "metadata": {},
   "outputs": [],
   "source": [
    "import numpy as np\n",
    "import matplotlib.pyplot as plt\n",
    "import vol\n",
    "import scipy.stats as sps\n",
    "\n",
    "from ipywidgets import interact\n",
    "from ipywidgets import widgets\n",
    "from tqdm.auto import tqdm\n",
    "\n",
    "from dataclasses import dataclass\n",
    "from typing import Union, Callable, Optional\n",
    "from copy import deepcopy\n",
    "from scipy.optimize import root_scalar, brentq\n",
    "from dataclasses import dataclass\n",
    "\n",
    "from scipy.interpolate import RectBivariateSpline\n",
    "\n",
    "import warnings\n",
    "from  scipy.stats import norm\n",
    "warnings.filterwarnings(\"ignore\")\n",
    "from scipy.interpolate import CubicSpline\n",
    "from tqdm import tqdm\n",
    "\n",
    "#about super().__init__() https://habr.com/ru/company/skillfactory/blog/683744/\n",
    "\n",
    "@dataclass\n",
    "class StockOption: #общий класс для опционов\n",
    "    strike_price: Union[float, np.ndarray]\n",
    "    expiration_time: Union[float, np.ndarray]  # in years\n",
    "    is_call: bool\n",
    "\n",
    "@dataclass\n",
    "class CallStockOption(StockOption): #класс для коллов\n",
    "    def __init__(self, strike_price, expiration_time): \n",
    "        super().__init__(strike_price, expiration_time, True) #вызов метода __init__ из базового класса StockOption, т.е. вызываем колл     \n",
    "        \n",
    "\n",
    "@dataclass\n",
    "class PutStockOption(StockOption):\n",
    "    def __init__(self, strike_price, expiration_time):\n",
    "        super().__init__(strike_price, expiration_time, False)\n",
    "        \n",
    "@dataclass\n",
    "class MarketState:\n",
    "    stock_price: Union[float, np.ndarray]\n",
    "    interest_rate: Union[float, np.ndarray]  # r, assume constant"
   ]
  },
  {
   "cell_type": "code",
   "execution_count": 2,
   "metadata": {},
   "outputs": [],
   "source": [
    "def dt(option: StockOption):\n",
    "    return np.maximum(option.expiration_time, np.finfo(np.float64).eps)\n",
    "\n",
    "def d1(option: StockOption, state: MarketState, vola: float):\n",
    "    return 1 / (vola * np.sqrt(dt(option)))\\\n",
    "                * (np.log(state.stock_price / option.strike_price)\n",
    "                   + (state.interest_rate + vola ** 2) * dt(option))\n",
    "\n",
    "def d2(option: StockOption, state: MarketState, vola: float):\n",
    "    return d1(option, state, vola) - vola * np.sqrt(dt(option))\n",
    "    \n",
    "def price(option: StockOption, state: MarketState, vola: float):\n",
    "    discount_factor = np.exp(-state.interest_rate * (dt(option)))\n",
    "    if option.is_call:\n",
    "        return sps.norm.cdf(d1(option, state, vola)) * state.stock_price\\\n",
    "            - sps.norm.cdf(d2(option, state, vola)) * option.strike_price * discount_factor\n",
    "    \n",
    "    return sps.norm.cdf(-d2(option, state, vola)) * option.strike_price * discount_factor\\\n",
    "        - sps.norm.cdf(-d1(option, state, vola)) * state.stock_price\n",
    "\n",
    "def vega(option: StockOption, state: MarketState, vola: float):\n",
    "    return state.stock_price * sps.norm.pdf(d1(option, state, vola)) * np.sqrt(dt(option))\n",
    "\n",
    "def calc_iv(option: CallStockOption, state: MarketState, option_price: float):\n",
    "    \n",
    "    RTOL = 1e-16\n",
    "    ATOL = 1e-16\n",
    "    VOL_MIN = 0.0\n",
    "    VOL_MAX = 2.0\n",
    "    MAX_ITER = 100\n",
    "    \n",
    "    vola = 0.2\n",
    "    p = price(option, state, vola)\n",
    "\n",
    "    lb = VOL_MIN\n",
    "    rb = VOL_MAX\n",
    "    \n",
    "    for i in range(MAX_ITER):\n",
    "        \n",
    "        resid = price(option, state, vola) - option_price\n",
    "        if abs(resid) < ATOL and abs(resid) / (option_price + 1e-4) < RTOL:\n",
    "            break\n",
    "        \n",
    "        newton_ok = False\n",
    "        \n",
    "        # try Newton\n",
    "        v = vega(option, state, vola)\n",
    "        if abs(v) > 1e-4:\n",
    "            new_vola = vola - (p - option_price) / v\n",
    "            if lb < new_vola < rb:\n",
    "                newton_ok = True\n",
    "        \n",
    "        # if something went wrong, bisect\n",
    "        if not newton_ok:\n",
    "            new_vola = (lb + rb) / 2\n",
    "\n",
    "        new_p = price(option, state, new_vola)\n",
    "        if new_p > option_price:\n",
    "            rb = new_vola\n",
    "        else:\n",
    "            lb = new_vola\n",
    "        \n",
    "        vola = new_vola\n",
    "        p = new_p\n",
    "        \n",
    "    return vola"
   ]
  },
  {
   "cell_type": "code",
   "execution_count": 3,
   "metadata": {},
   "outputs": [
    {
     "data": {
      "text/plain": [
       "(10, 31)"
      ]
     },
     "execution_count": 3,
     "metadata": {},
     "output_type": "execute_result"
    }
   ],
   "source": [
    "MyBSM=vol.BlackScholes(s=100,sigma=0.2, r=0)\n",
    "Ks=np.linspace(70,130,10)\n",
    "Ts=np.linspace(0,10,31)\n",
    "MyCallPrices=MyBSM.call_price(Ts.reshape(1,-1),Ks.reshape(-1,1))\n",
    "MyCallPrices.shape"
   ]
  },
  {
   "cell_type": "code",
   "execution_count": 4,
   "metadata": {},
   "outputs": [],
   "source": [
    "observed_calls = CallStockOption(strike_price=Ks,expiration_time=Ts)\n",
    "observed_call_prices = MyCallPrices\n",
    "observed_market_state = MarketState(stock_price=100,interest_rate=0.0)"
   ]
  },
  {
   "cell_type": "code",
   "execution_count": 5,
   "metadata": {},
   "outputs": [
    {
     "data": {
      "text/plain": [
       "(10, 31)"
      ]
     },
     "execution_count": 5,
     "metadata": {},
     "output_type": "execute_result"
    }
   ],
   "source": [
    "IV = np.empty_like(observed_call_prices) #market implied vol\n",
    "for i in range(len(observed_calls.strike_price)):\n",
    "    for j in range(len(observed_calls.expiration_time)):\n",
    "        IV[i, j] = calc_iv(option=CallStockOption(observed_calls.strike_price[i], observed_calls.expiration_time[j]), \n",
    "                           state=observed_market_state, \n",
    "                           option_price=observed_call_prices[i, j])\n",
    "IV.shape"
   ]
  },
  {
   "cell_type": "code",
   "execution_count": 8,
   "metadata": {},
   "outputs": [
    {
     "data": {
      "text/plain": [
       "array([100.        , 100.04387757, 100.03430073, 100.04044798,\n",
       "       100.02564047, 100.00744123,  99.9861155 ,  99.96272674,\n",
       "        99.97427945,  99.93188344,  99.89735471,  99.91748898,\n",
       "        99.91574106,  99.97421843,  99.96589625,  99.87476409,\n",
       "        99.84752665,  99.81303291,  99.89807546,  99.87445009,\n",
       "        99.9269306 ,  99.86653086,  99.83229198,  99.90898779,\n",
       "        99.9622983 ,  99.91126295,  99.8614626 ,  99.92014079,\n",
       "        99.96107294,  99.87686565,  99.86566051])"
      ]
     },
     "execution_count": 8,
     "metadata": {},
     "output_type": "execute_result"
    }
   ],
   "source": [
    "stock_prices=MyBSM.simulate(10,30,100000)\n",
    "stock_prices=stock_prices.mean(axis=1)\n",
    "stock_prices"
   ]
  },
  {
   "cell_type": "code",
   "execution_count": 14,
   "metadata": {},
   "outputs": [
    {
     "name": "stdout",
     "output_type": "stream",
     "text": [
      "Price= 9.975687261637248 iv_sigm= 0.20322549239855542\n"
     ]
    }
   ],
   "source": [
    "S0=100\n",
    "K=110\n",
    "T=3\n",
    "iv_sigm=IV[6][9]\n",
    "init_call_price=MyCallPrices[6][9]\n",
    "print(\"Price=\",init_call_price,\"iv_sigm=\",iv_sigm)"
   ]
  },
  {
   "cell_type": "code",
   "execution_count": 32,
   "metadata": {},
   "outputs": [
    {
     "name": "stdout",
     "output_type": "stream",
     "text": [
      "0.0 100.0 9.975687261637248 0 -0.4622481549762299\n",
      "0.3333333333333333 100.04387757077559 56.20050275926024 -0.4622481549762299 -0.45226528651649933\n",
      "0.6666666666666666 100.03430073282696 101.44687571302865 -0.9145134414927292 -0.44010480861831713\n",
      "1.0 100.04044797568422 145.47245249231665 -1.3546182501110464 -0.4260204887151662\n",
      "1.3333333333333333 100.02564047067467 188.0917330302018 -1.7806387388262126 -0.40861181327307694\n",
      "1.6666666666666665 100.00744122769615 228.96339135672503 -2.1892505520992893 -0.3864798894971511\n",
      "2.0 99.98611549609367 267.61425619129784 -2.5757304415964404 -0.35641505627050973\n",
      "2.333333333333333 99.96272674010413 303.25081317210777 -2.93214549786695 -0.31076960542678245\n",
      "2.6666666666666665 99.9742794469895 334.3161903185152 -3.2429151032937327 -0.22487372868217814\n",
      "356.7977793100738 -3.467788831975911\n",
      "10.2551099688921\n",
      "99.93188343700997\n"
     ]
    }
   ],
   "source": [
    "cash=init_call_price\n",
    "amt_stocks=0\n",
    "for t,st in zip(Ts[0:9],stock_prices[0:9]):\n",
    "    d1=(np.log(st/K)+iv_sigm*iv_sigm*0.5*(T-t))/(iv_sigm*np.sqrt(T-t))\n",
    "    delta=-sps.norm.cdf(d1)\n",
    "    print(t,st,cash,amt_stocks,delta)\n",
    "    amt_stocks+=delta\n",
    "    cash-=delta*st\n",
    "print(cash,amt_stocks)\n",
    "print(cash+amt_stocks*stock_prices[9])\n",
    "print(stock_prices[9])"
   ]
  },
  {
   "cell_type": "code",
   "execution_count": null,
   "metadata": {},
   "outputs": [],
   "source": []
  }
 ],
 "metadata": {
  "kernelspec": {
   "display_name": "Python 3",
   "language": "python",
   "name": "python3"
  },
  "language_info": {
   "codemirror_mode": {
    "name": "ipython",
    "version": 3
   },
   "file_extension": ".py",
   "mimetype": "text/x-python",
   "name": "python",
   "nbconvert_exporter": "python",
   "pygments_lexer": "ipython3",
   "version": "3.7.3"
  }
 },
 "nbformat": 4,
 "nbformat_minor": 2
}
