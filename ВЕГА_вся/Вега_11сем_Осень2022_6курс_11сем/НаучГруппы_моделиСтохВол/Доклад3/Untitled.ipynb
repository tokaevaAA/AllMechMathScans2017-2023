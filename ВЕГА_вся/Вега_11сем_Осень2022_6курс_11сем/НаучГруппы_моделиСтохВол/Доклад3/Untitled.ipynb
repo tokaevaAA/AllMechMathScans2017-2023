{
 "cells": [
  {
   "cell_type": "code",
   "execution_count": 1,
   "metadata": {},
   "outputs": [],
   "source": [
    "import matplotlib.pyplot as plt\n",
    "import numpy as np\n",
    "import warnings\n",
    "import scipy.stats as sps\n",
    "\n",
    "from mpl_toolkits.mplot3d import Axes3D\n",
    "from collections import namedtuple\n",
    "from scipy.interpolate import CubicSpline, UnivariateSpline, RectBivariateSpline\n",
    "from vol import heston\n",
    "\n",
    "warnings.filterwarnings('ignore')"
   ]
  },
  {
   "cell_type": "code",
   "execution_count": 9,
   "metadata": {},
   "outputs": [],
   "source": [
    "r = 0.05\n",
    "initial_price = 100\n",
    "\n",
    "myheston = heston.Heston(s=initial_price, v=1, kappa=1, theta=0.4, sigma=0.4, rho=0.5, r=r)\n",
    "\n",
    "T_grid = np.linspace(0.2, 1, 7)\n",
    "K_grid = np.linspace(60, 140, 10)\n",
    "\n",
    "observed_call_prices = myheston.call_price(T_grid.reshape(-1, 1), K_grid)\n",
    "implied_volatilities = myheston.iv(T_grid.reshape(-1, 1), K_grid)"
   ]
  },
  {
   "cell_type": "code",
   "execution_count": 14,
   "metadata": {},
   "outputs": [
    {
     "data": {
      "text/plain": [
       "(7, 10)"
      ]
     },
     "execution_count": 14,
     "metadata": {},
     "output_type": "execute_result"
    }
   ],
   "source": [
    "implied_volatilities.shape"
   ]
  },
  {
   "cell_type": "code",
   "execution_count": 5,
   "metadata": {},
   "outputs": [],
   "source": [
    "def get_trajectory(S, T_extended):\n",
    "    \"\"\"\n",
    "    Args:\n",
    "        S: extended price grid (== strike grid), vector\n",
    "    \"\"\"\n",
    "    iterations = 0\n",
    "    MAX_ITERATIONS = 100\n",
    "    \n",
    "    while iterations < MAX_ITERATIONS:\n",
    "        stock_prices = myheston.simulate_euler(T_extended.max(), len(T_extended), 1)\n",
    "        if stock_prices.min() >= S[0] and stock_prices.max() <= S[-1]:\n",
    "            return stock_prices.flatten()\n",
    "        iterations += 1\n",
    "        \n",
    "    print('cannot simulate')\n"
   ]
  },
  {
   "cell_type": "code",
   "execution_count": 6,
   "metadata": {},
   "outputs": [],
   "source": [
    "def delta_function(stock_price, K, S, V, iv, t_max, t, method, r):\n",
    "    \"\"\"\n",
    "    IMPORTANT: V is a vector here\n",
    "    \"\"\"\n",
    "    if method != 'BS':\n",
    "        spline = CubicSpline(S, V, bc_type='natural')\n",
    "        return spline.derivative(nu=1)(stock_price)\n",
    "    \n",
    "    spline_theta = CubicSpline(S, iv, bc_type='natural')\n",
    "    volatility = spline_theta(stock_price)\n",
    "    d1_num = np.log(stock_price / K) + (volatility * volatility / 2 + r) * (t_max - t)\n",
    "    d1_denum = volatility * np.sqrt(t_max - t)\n",
    "    return sps.norm.cdf(d1_num / d1_denum)\n",
    "    \n",
    "    \n",
    "def call_price_function(stock_price, S, V):\n",
    "    spline = CubicSpline(S, V, bc_type='natural')\n",
    "    return spline(stock_price)\n",
    "\n",
    "def hedge(K, S, V, iv, stock_prices, call_price_function, delta_function, times, method, r = 0.05):\n",
    "    \"\"\"\n",
    "    Args:\n",
    "        K: strike, scalar\n",
    "        S: extended strike grid, vector\n",
    "        V: call prices, matrix\n",
    "        iv: implied volatility on the extended grid, matrix\n",
    "        stock_prices: trajectory, vector indexed by time\n",
    "        call_price_function: pricing function for a call option\n",
    "        delta_function: function to obtain delta\n",
    "        times: extended time grid, vector\n",
    "        method: 'BS' -- Black-Scholes, local volatility otherwise\n",
    "        r: interest rate\n",
    "    Returns:\n",
    "        pnl: pnl trajectory, vector\n",
    "        call prices: theoretical call price trajectory, vector\n",
    "    \"\"\"\n",
    "    money_account = call_price_function(stock_prices[0], S, V[0])\n",
    "    delta = 0\n",
    "    pnl = []\n",
    "    V_trajectory = []\n",
    "    \n",
    "    for i in range(len(V) - 1):\n",
    "        new_delta = delta_function(stock_prices[i], K, S, V[i], iv[i], times[-1], times[i], method, r)\n",
    "        money_account -= (new_delta - delta) * stock_prices[i]\n",
    "        money_account *= np.exp(r * (times[i + 1] - times[i]))\n",
    "        delta = new_delta\n",
    "        \n",
    "        pnl.append(money_account + delta * stock_prices[i])\n",
    "        V_trajectory.append(call_price_function(stock_prices[i], S, V[i]))\n",
    "        \n",
    "    pnl, V_trajectory = np.array(pnl), np.array(V_trajectory)\n",
    "    \n",
    "    return pnl, V_trajectory"
   ]
  },
  {
   "cell_type": "code",
   "execution_count": 11,
   "metadata": {},
   "outputs": [
    {
     "data": {
      "text/plain": [
       "array([100.        ,  93.55607238,  81.23718611,  77.58512656,\n",
       "       118.47543724,  99.7580598 ,  80.71961426,  79.84585939])"
      ]
     },
     "execution_count": 11,
     "metadata": {},
     "output_type": "execute_result"
    }
   ],
   "source": [
    "realized_stock_prices = get_trajectory(K_grid, T_grid)\n",
    "realized_stock_prices"
   ]
  },
  {
   "cell_type": "code",
   "execution_count": 12,
   "metadata": {},
   "outputs": [
    {
     "name": "stdout",
     "output_type": "stream",
     "text": [
      "0.2\n",
      "0.33333333333333337\n",
      "0.4666666666666667\n",
      "0.6000000000000001\n",
      "0.7333333333333334\n",
      "0.8666666666666667\n",
      "1.0\n"
     ]
    }
   ],
   "source": [
    "for i in range(T_grid):\n",
    "    t=T_grid[i]\n",
    "    Stek=realized_stock_prices[i]"
   ]
  },
  {
   "cell_type": "code",
   "execution_count": null,
   "metadata": {},
   "outputs": [],
   "source": [
    "\n",
    "pnl, V_trajectory = hedge(\n",
    "    120, K[0], V, lv.get_extended_iv(),\n",
    "    stock_prices, call_price_function, delta_function,\n",
    "    T_extended[:, 0], 'BS', r\n",
    ")"
   ]
  },
  {
   "cell_type": "code",
   "execution_count": null,
   "metadata": {},
   "outputs": [],
   "source": []
  }
 ],
 "metadata": {
  "kernelspec": {
   "display_name": "Python 3",
   "language": "python",
   "name": "python3"
  },
  "language_info": {
   "codemirror_mode": {
    "name": "ipython",
    "version": 3
   },
   "file_extension": ".py",
   "mimetype": "text/x-python",
   "name": "python",
   "nbconvert_exporter": "python",
   "pygments_lexer": "ipython3",
   "version": "3.7.3"
  }
 },
 "nbformat": 4,
 "nbformat_minor": 2
}
