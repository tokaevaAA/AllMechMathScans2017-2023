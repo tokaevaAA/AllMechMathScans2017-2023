{
 "cells": [
  {
   "cell_type": "code",
   "execution_count": 1,
   "metadata": {},
   "outputs": [],
   "source": [
    "import numpy as np"
   ]
  },
  {
   "cell_type": "code",
   "execution_count": 7,
   "metadata": {},
   "outputs": [
    {
     "name": "stdout",
     "output_type": "stream",
     "text": [
      "g0= 0.009798695559101376 km/sec\n",
      "g= 0.009764780502397518 km/sec\n",
      "t= 7.572909569010288 sec\n",
      "delta_r= 0.0001030821716590799 km\n"
     ]
    }
   ],
   "source": [
    "T=86164\n",
    "mu=398600\n",
    "R=6378\n",
    "h=0.28\n",
    "omega=(2*np.pi)/T\n",
    "g0=mu/(R*R)\n",
    "print(\"g0=\",g0,\"km/sec\")\n",
    "g=g0-R*omega*omega\n",
    "print(\"g=\",g,\"km/sec\")\n",
    "t=np.sqrt(2*h/g)\n",
    "print(\"t=\",t,\"sec\")\n",
    "delta_r=omega*g*(t*t*t)/3\n",
    "print(\"delta_r=\",delta_r,\"km\")"
   ]
  },
  {
   "cell_type": "code",
   "execution_count": 9,
   "metadata": {},
   "outputs": [
    {
     "name": "stdout",
     "output_type": "stream",
     "text": [
      "810\n",
      "4049595\n"
     ]
    }
   ],
   "source": [
    "cnt1=0\n",
    "cnt2=0\n",
    "for n in range(1000,9999):\n",
    "    otv=True\n",
    "    if n%3==0:\n",
    "        otv=False\n",
    "    tn=n\n",
    "    while(tn!=0):\n",
    "        a=tn%10\n",
    "        if (a==0 or a==3 or a==6 or a==9):\n",
    "            otv=False\n",
    "        tn=tn//10\n",
    "    if (otv==True):\n",
    "        cnt1+=1\n",
    "        cnt2+=n\n",
    "print(cnt1)\n",
    "print(cnt2)"
   ]
  },
  {
   "cell_type": "code",
   "execution_count": null,
   "metadata": {},
   "outputs": [],
   "source": []
  }
 ],
 "metadata": {
  "kernelspec": {
   "display_name": "Python 3",
   "language": "python",
   "name": "python3"
  },
  "language_info": {
   "codemirror_mode": {
    "name": "ipython",
    "version": 3
   },
   "file_extension": ".py",
   "mimetype": "text/x-python",
   "name": "python",
   "nbconvert_exporter": "python",
   "pygments_lexer": "ipython3",
   "version": "3.7.3"
  }
 },
 "nbformat": 4,
 "nbformat_minor": 2
}
