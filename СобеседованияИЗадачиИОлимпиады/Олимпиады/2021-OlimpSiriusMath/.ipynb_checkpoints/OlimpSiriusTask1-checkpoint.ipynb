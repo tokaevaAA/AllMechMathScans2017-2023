{
 "cells": [
  {
   "cell_type": "code",
   "execution_count": 9,
   "metadata": {},
   "outputs": [],
   "source": [
    "#task1\n",
    "\n",
    "def get_nod(a,b):\n",
    "    while b!=0:\n",
    "        a,b=b,a%b\n",
    "    return a\n",
    "    \n",
    "def startegy_from_atob(a,b,N,name1,name2):\n",
    "    x=0\n",
    "    y=0\n",
    "    otv_log=[]\n",
    "    while (x!=N and y!=N):\n",
    "        if (y==b):\n",
    "            y=0\n",
    "            otv_log.append(name2+\">\")\n",
    "        if (x==0):\n",
    "            x=a\n",
    "            otv_log.append(\">\"+name1)\n",
    "       \n",
    "            \n",
    "        if (x+y>b):\n",
    "            x,y=x+y-b,b\n",
    "            otv_log.append(name1+\">\"+name2)\n",
    "       \n",
    "        else:\n",
    "            x,y=0,x+y\n",
    "            otv_log.append(name1+\">\"+name2)\n",
    "    return otv_log\n",
    "\n",
    "def solution(a,b,N):\n",
    "    printf(\"Hello\")\n",
    "    if (a==N):\n",
    "        return list('>A')\n",
    "    if (b==N):\n",
    "        return list('>B')\n",
    "    if (N>max(a,b) or N%get_nod(a,b)!=0):\n",
    "        return list()\n",
    "    res1=startegy_from_atob(a,b,N,'A','B')\n",
    "    res2=startegy_from_atob(b,a,N,'B','A')\n",
    "    if (len(res1)<len(res2)):\n",
    "        return res1\n",
    "    else:\n",
    "        return res2\n",
    "    \n",
    "# a=int(input())\n",
    "# b=int(input())\n",
    "# N=int(input())\n",
    "# otv=solution(a,b,N)\n",
    "\n",
    "\n",
    "# if(len(otv)==0):\n",
    "#     print(\"Impossible\")\n",
    "# else:\n",
    "#     for el in otv:\n",
    "#         print(el,end='\\n')\n",
    "    "
   ]
  },
  {
   "cell_type": "code",
   "execution_count": 8,
   "metadata": {},
   "outputs": [
    {
     "name": "stdout",
     "output_type": "stream",
     "text": [
      "3\n",
      "5\n",
      "1\n"
     ]
    }
   ],
   "source": [
    "a=int(input())\n",
    "b=int(input())\n",
    "N=int(input())\n",
    "otv=solution(a,b,N)\n",
    "\n"
   ]
  },
  {
   "cell_type": "code",
   "execution_count": null,
   "metadata": {},
   "outputs": [],
   "source": []
  }
 ],
 "metadata": {
  "kernelspec": {
   "display_name": "Python 3",
   "language": "python",
   "name": "python3"
  }
 },
 "nbformat": 4,
 "nbformat_minor": 2
}
