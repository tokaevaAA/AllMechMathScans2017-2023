{
 "cells": [
  {
   "cell_type": "code",
   "execution_count": 110,
   "metadata": {},
   "outputs": [
    {
     "name": "stdout",
     "output_type": "stream",
     "text": [
      "3\n",
      "5\n",
      "1\n",
      ">A\n",
      "A>B\n",
      ">A\n",
      "A>B\n"
     ]
    }
   ],
   "source": [
    "#task1\n",
    "\n",
    "def get_nod(a,b):\n",
    "    while b!=0:\n",
    "        a,b=b,a%b\n",
    "    return a\n",
    "    \n",
    "def startegy_from_atob(a,b,N,name1,name2):\n",
    "    x=0\n",
    "    y=0\n",
    "    otv_log=[]\n",
    "    while (x!=N and y!=N):\n",
    "        if (y==b):\n",
    "            y=0\n",
    "            otv_log.append(name2+\">\")\n",
    "        if (x==0):\n",
    "            x=a\n",
    "            otv_log.append(\">\"+name1)\n",
    "       \n",
    "            \n",
    "        if (x+y>b):\n",
    "            x,y=x+y-b,b\n",
    "            otv_log.append(name1+\">\"+name2)\n",
    "       \n",
    "        else:\n",
    "            x,y=0,x+y\n",
    "            otv_log.append(name1+\">\"+name2)\n",
    "    return otv_log\n",
    "\n",
    "def solution(a,b,N):\n",
    "    if (a==N):\n",
    "        return ['>A']\n",
    "    if (b==N):\n",
    "        return ['>B']\n",
    "    if (N>max(a,b) or N%get_nod(a,b)!=0):\n",
    "        return list()\n",
    "    res1=startegy_from_atob(a,b,N,'A','B')\n",
    "    res2=startegy_from_atob(b,a,N,'B','A')\n",
    "    \n",
    "    if (len(res1)<len(res2)):\n",
    "        return res1\n",
    "    else:\n",
    "        return res2\n",
    "    \n",
    "a=int(input())\n",
    "b=int(input())\n",
    "N=int(input())\n",
    "otv=solution(a,b,N)\n",
    "\n",
    "\n",
    "\n",
    "if(len(otv)==0):\n",
    "    print(\"Impossible\")\n",
    "else:\n",
    "    for el in otv:\n",
    "        print(el,end='\\n')\n",
    "    "
   ]
  },
  {
   "cell_type": "code",
   "execution_count": 111,
   "metadata": {},
   "outputs": [
    {
     "name": "stdout",
     "output_type": "stream",
     "text": [
      "90\n",
      "2\n"
     ]
    }
   ],
   "source": [
    "import math\n",
    "\n",
    "\n",
    "my_dict=dict()\n",
    "\n",
    "def get_max_degNa(N,a):\n",
    "    if (N,a) in my_dict:\n",
    "        return my_dict[(N,a)]\n",
    "    if (N<a):\n",
    "        return 0\n",
    "    if (N%a!=0):\n",
    "        return 0\n",
    "    \n",
    "    otv=1+get_max_degNa(N//a,a)\n",
    "    my_dict[(N,a)]=otv\n",
    "    return otv\n",
    "\n",
    "def get_max_degN(N):\n",
    "    otv=0\n",
    "    for i in range(2,int(math.sqrt(N))+1):\n",
    "        tek_deg=get_max_degNa(N,i)\n",
    "        otv=max(otv,tek_deg)\n",
    "    return otv\n",
    "\n",
    "N=int(input())\n",
    "otv=get_max_degN(N)\n",
    "print(otv)"
   ]
  },
  {
   "cell_type": "code",
   "execution_count": 112,
   "metadata": {},
   "outputs": [
    {
     "name": "stdout",
     "output_type": "stream",
     "text": [
      "10 17 25\n",
      "5\n",
      "2 7 5 3 7\n",
      "26\n",
      "3 1 2 5 "
     ]
    }
   ],
   "source": [
    "\n",
    "A,B,C=tuple(map(int,input().split()))\n",
    "N=int(input())\n",
    "d=list(map(int,input().split()))\n",
    "\n",
    "INF = 10000000\n",
    "border=[INF for i in range(B+1)]\n",
    "border[0]=-1\n",
    "for c in range(1,B+1):\n",
    "    for i in range(N):\n",
    "        if (c==d[i]):\n",
    "            border[c]=i\n",
    "            break\n",
    "        if (border[c-d[i]]<i):\n",
    "            border[c]=i\n",
    "            break\n",
    "\n",
    "#print(border)\n",
    "has_sum_d_greaterCAlessB=0\n",
    "otv=[]\n",
    "for c in range(C-A+1, B+1):\n",
    "    #print(border[c])\n",
    "    if border[c]!=INF:\n",
    "        has_sum_d_greaterCAlessB=1\n",
    "        tek_c=c\n",
    "        while(tek_c!=0):\n",
    "            #print(\"old\",tek_c)\n",
    "            otv.append(border[tek_c])\n",
    "            tek_c=tek_c-d[border[tek_c]]\n",
    "            #print(\"new\",tek_c)\n",
    "        break\n",
    "if (has_sum_d_greaterCAlessB==0):\n",
    "    print(A+B)\n",
    "    print(-1)\n",
    "else:\n",
    "    sum_di=0\n",
    "    for i in otv:\n",
    "        sum_di+=d[i]\n",
    "    print(A+sum_di)\n",
    "    print(len(otv),end=' ')\n",
    "    for el in sorted(otv):\n",
    "        print(el+1,end=' ')"
   ]
  },
  {
   "cell_type": "code",
   "execution_count": null,
   "metadata": {},
   "outputs": [],
   "source": []
  }
 ],
 "metadata": {
  "kernelspec": {
   "display_name": "Python 3",
   "language": "python",
   "name": "python3"
  }
 },
 "nbformat": 4,
 "nbformat_minor": 2
}
