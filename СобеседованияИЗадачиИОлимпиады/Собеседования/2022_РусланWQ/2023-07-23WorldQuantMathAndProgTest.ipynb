{
 "cells": [
  {
   "cell_type": "code",
   "execution_count": 10,
   "metadata": {},
   "outputs": [],
   "source": [
    "import numpy as np\n",
    "import numpy as np\n",
    "from scipy.stats import norm"
   ]
  },
  {
   "cell_type": "code",
   "execution_count": 9,
   "metadata": {},
   "outputs": [
    {
     "name": "stdout",
     "output_type": "stream",
     "text": [
      "810\n"
     ]
    }
   ],
   "source": [
    "#4\n",
    "def isprime(x):\n",
    "    otv=True\n",
    "    for el in range(2,round(np.sqrt(x))+1):\n",
    "        if (x%el==0):\n",
    "            otv=False\n",
    "            break\n",
    "    return otv\n",
    "\n",
    "A=0\n",
    "B=2\n",
    "while(B<30):\n",
    "    if (isprime(B)):\n",
    "        A+=81\n",
    "    B+=1\n",
    "print(A)"
   ]
  },
  {
   "cell_type": "code",
   "execution_count": 19,
   "metadata": {},
   "outputs": [
    {
     "data": {
      "text/plain": [
       "154.0983606557377"
      ]
     },
     "execution_count": 19,
     "metadata": {},
     "output_type": "execute_result"
    }
   ],
   "source": [
    "#7\n",
    "940/61*10"
   ]
  },
  {
   "cell_type": "code",
   "execution_count": 21,
   "metadata": {},
   "outputs": [
    {
     "name": "stdout",
     "output_type": "stream",
     "text": [
      "37\n"
     ]
    }
   ],
   "source": [
    "#10\n",
    "A=167\n",
    "B=91\n",
    "C=0\n",
    "while (A-2)>B:\n",
    "    A-=2\n",
    "    C+=1\n",
    "print(C)"
   ]
  },
  {
   "cell_type": "code",
   "execution_count": 47,
   "metadata": {},
   "outputs": [
    {
     "name": "stdout",
     "output_type": "stream",
     "text": [
      "13.385559565940172\n",
      "1 start of year 2 0.08 0.0016500000000000002\n",
      "2 start of year 3 0.08 0.0018150000000000004\n",
      "3 start of year 4 0.08 0.0019965000000000004\n",
      "4 start of year 5 0.04 0.002196150000000001\n",
      "5 start of year 6 0.04 0.002415765000000001\n",
      "6 start of year 7 0.04 0.0026573415000000016\n",
      "7 start of year 8 0.04 0.002923075650000002\n",
      "8 start of year 9 0.02 0.0032153832150000022\n",
      "9 start of year 10 0.02 0.0035369215365000026\n",
      "10 start of year 11 0.02 0.0038906136901500033\n",
      "11 start of year 12 0.02 0.004279675059165004\n",
      "12 start of year 13 0.01 0.004707642565081505\n",
      "13 start of year 14 0.01 0.005178406821589656\n",
      "14 start of year 15 0.01 0.005696247503748622\n",
      "15 start of year 16 0.01 0.006265872254123484\n",
      "16 start of year 17 0.005 0.006892459479535833\n",
      "0.01\n",
      "0.006892459479535833\n"
     ]
    }
   ],
   "source": [
    "#13\n",
    "import numpy as np\n",
    "\n",
    "print(4*np.emath.logn(2*1.1**4, 800/(15*1.4641)))\n",
    "\n",
    "limit=0.08\n",
    "car=0.0015\n",
    "for t in range(1,20):\n",
    "    car*=1.1\n",
    "    if t%4==0:\n",
    "        limit/=2\n",
    "    print(t, \"start of year\", t+1,limit,car)\n",
    "    if (car>=limit):\n",
    "        break\n",
    "\n",
    "        \n",
    "#k=4 t=16\n",
    "print(0.08/(2*4))\n",
    "print(0.0015*(1.1)**16)"
   ]
  },
  {
   "cell_type": "code",
   "execution_count": 52,
   "metadata": {},
   "outputs": [
    {
     "name": "stdout",
     "output_type": "stream",
     "text": [
      "2400\n"
     ]
    }
   ],
   "source": [
    "#15\n",
    "s=0\n",
    "for n in range(1,101):\n",
    "    if (n%2==1):\n",
    "        s+=n\n",
    "    else:\n",
    "        s-=2\n",
    "print(s)"
   ]
  },
  {
   "cell_type": "code",
   "execution_count": 67,
   "metadata": {},
   "outputs": [
    {
     "data": {
      "text/plain": [
       "0.50165"
      ]
     },
     "execution_count": 67,
     "metadata": {},
     "output_type": "execute_result"
    }
   ],
   "source": [
    "#16 quadrateral\n",
    "def check(x,y,z):\n",
    "    otv = True\n",
    "    mas=np.sort([x,y,z]) #Внимание!!! Очень важно отсортировать!!!! Иначе будет неправильно!\n",
    "    x=mas[0]\n",
    "    y=mas[1]\n",
    "    z=mas[2]\n",
    "    if not (x < (y-x+z-y+1-z)):\n",
    "        otv=False\n",
    "    if not (y-x <(x+z-y + 1-z)):\n",
    "        otv=False\n",
    "    if not (z-y <(x+y-x+1-z)):\n",
    "        otv=False\n",
    "    if not (1-z <(x+y-x+z-y)):\n",
    "        otv=False\n",
    "    return otv\n",
    "s=0\n",
    "N=100000\n",
    "for i in range(N):\n",
    "    x=np.random.random()\n",
    "    y=np.random.random()\n",
    "    z=np.random.random()\n",
    "    s+=int(check(x,y,z))\n",
    "s/N"
   ]
  },
  {
   "cell_type": "code",
   "execution_count": 68,
   "metadata": {},
   "outputs": [
    {
     "data": {
      "text/plain": [
       "0.25097"
      ]
     },
     "execution_count": 68,
     "metadata": {},
     "output_type": "execute_result"
    }
   ],
   "source": [
    "#16 triangle\n",
    "def check(x,y):\n",
    "    otv = True\n",
    "    mas=np.sort([x,y]) #Внимание!!! Очень важно отсортировать!!!!\n",
    "    x=mas[0]\n",
    "    y=mas[1]\n",
    "    if not (x < (abs(y-x)+1-y)):\n",
    "        otv=False\n",
    "    if not (abs(y-x) <(x+1-y)):\n",
    "        otv=False\n",
    "    if not (1-y <(x+abs(y-x))):\n",
    "        otv=False\n",
    "    return otv\n",
    "s=0\n",
    "N=100000\n",
    "for i in range(N):\n",
    "    x=np.random.random()\n",
    "    y=np.random.random()\n",
    "    s+=int(check(x,y))\n",
    "s/N"
   ]
  },
  {
   "cell_type": "code",
   "execution_count": 72,
   "metadata": {},
   "outputs": [],
   "source": [
    "#23\n",
    "for n in range(1,1001):\n",
    "    if int(np.sqrt((n+1)*(n+3)))==(n+1)*(n+3):\n",
    "        print(n)"
   ]
  },
  {
   "cell_type": "code",
   "execution_count": 77,
   "metadata": {},
   "outputs": [
    {
     "data": {
      "text/plain": [
       "7"
      ]
     },
     "execution_count": 77,
     "metadata": {},
     "output_type": "execute_result"
    }
   ],
   "source": [
    "#25\n",
    "s=0\n",
    "def f(x):\n",
    "    r=1\n",
    "    for i in range(1,x+1):\n",
    "        r+=i\n",
    "    return r\n",
    "f(3)"
   ]
  },
  {
   "cell_type": "code",
   "execution_count": 99,
   "metadata": {},
   "outputs": [
    {
     "name": "stderr",
     "output_type": "stream",
     "text": [
      "C:\\Users\\USER\\Anaconda3\\lib\\site-packages\\ipykernel_launcher.py:10: RuntimeWarning: divide by zero encountered in log\n",
      "  # Remove the CWD from sys.path while we load stuff.\n"
     ]
    },
    {
     "data": {
      "image/png": "[encoded data removed]",
      "text/plain": [
       "<Figure size 432x288 with 1 Axes>"
      ]
     },
     "metadata": {
      "needs_background": "light"
     },
     "output_type": "display_data"
    }
   ],
   "source": [
    "#37\n",
    "def G(x):\n",
    "    return 1-norm.cdf(x,0,1)\n",
    "\n",
    "masx=np.linspace(1,10,100)\n",
    "masG=[]\n",
    "masT1=[]\n",
    "masT2=[]\n",
    "for x in masx:\n",
    "    masG.append(np.log(G(x)))\n",
    "    masT1.append(-x**2/2)\n",
    "    masT2.append(-x**2/2-np.log(x))\n",
    "import matplotlib.pyplot as plt\n",
    "\n",
    "plt.plot(masx,masG,label='G')\n",
    "plt.plot(masx,masT1,label='T1')\n",
    "plt.plot(masx,masT2,label='T2')\n",
    "plt.legend()\n",
    "plt.show()\n",
    "    "
   ]
  },
  {
   "cell_type": "code",
   "execution_count": 138,
   "metadata": {},
   "outputs": [
    {
     "name": "stdout",
     "output_type": "stream",
     "text": [
      "1 [1. 0. 0. 0. 0. 0. 0.] tekw= 3 tekp= 10\n",
      "2 [0. 1. 0. 0. 0. 0. 0.] tekw= 4 tekp= 12\n",
      "3 [1. 1. 0. 0. 0. 0. 0.] tekw= 7 tekp= 22\n",
      "5 [1. 0. 1. 0. 0. 0. 0.] tekw= 8 tekp= 28\n",
      "6 [0. 1. 1. 0. 0. 0. 0.] tekw= 9 tekp= 30\n",
      "7 [1. 1. 1. 0. 0. 0. 0.] tekw= 12 tekp= 40\n",
      "11 [1. 1. 0. 1. 0. 0. 0.] tekw= 11 tekp= 41\n",
      "13 [1. 0. 1. 1. 0. 0. 0.] tekw= 12 tekp= 47\n",
      "14 [0. 1. 1. 1. 0. 0. 0.] tekw= 13 tekp= 49\n",
      "15 [1. 1. 1. 1. 0. 0. 0.] tekw= 16 tekp= 59\n",
      "27 [1. 1. 0. 1. 1. 0. 0.] tekw= 18 tekp= 61\n"
     ]
    }
   ],
   "source": [
    "w=np.array([3,4,5,4,7,8,5])\n",
    "p=np.array([10,12,18,19,20,19,12])\n",
    "maxp=0\n",
    "for x in range(1, 2**8):\n",
    "    mas=np.zeros(7)\n",
    "    for i in range(0,7):\n",
    "        mas[i]=int(bool(x&(int(2**i))))\n",
    "    mask=(mas==1)\n",
    "    tekw=sum(w[mask])\n",
    "    tekp=sum(p[mask])\n",
    "    if tekw <=18 and tekp >maxp:\n",
    "        maxp=tekp\n",
    "        print(x,mas,\"tekw=\",tekw,\"tekp=\",tekp)"
   ]
  },
  {
   "cell_type": "code",
   "execution_count": null,
   "metadata": {},
   "outputs": [],
   "source": []
  },
  {
   "cell_type": "code",
   "execution_count": 19,
   "metadata": {},
   "outputs": [
    {
     "name": "stdout",
     "output_type": "stream",
     "text": [
      "tickers.txt\n"
     ]
    }
   ],
   "source": [
    "#1\n",
    "baseFileName=str(input())\n",
    "with open(baseFileName, 'r') as fin:\n",
    "    with open(baseFileName+'.us', 'w') as fus:\n",
    "        with open(baseFileName+'.uk', 'w') as fuk:\n",
    "            with open(baseFileName+'.de', 'w') as fde:\n",
    "                Lines=fin.readlines()\n",
    "                for line in Lines:\n",
    "                    line=line.strip()\n",
    "                    mas=line.split('.')\n",
    "                    if (len(mas)==1):\n",
    "                        fus.write(line+'\\n')\n",
    "                    elif (mas[-1]=='UK'):\n",
    "                        fuk.write(line+'\\n')\n",
    "                    elif (mas[-1]=='DE'):\n",
    "                        fde.write(line+'\\n')"
   ]
  },
  {
   "cell_type": "code",
   "execution_count": 51,
   "metadata": {},
   "outputs": [
    {
     "name": "stdout",
     "output_type": "stream",
     "text": [
      "2\n"
     ]
    }
   ],
   "source": [
    "import requests\n",
    "import re\n",
    "r=requests.get('https://en.wikipedia.org/w/api.php?action=parse&prop=text&format=json&page=athens')\n",
    "text=r.json()['parse']['text']['*']\n",
    "text=text.lower()\n",
    "mas=''\n",
    "for el in text:\n",
    "    if el.isalpha():\n",
    "        mas+=el\n",
    "    else:\n",
    "        mas+=' '\n",
    "w=0\n",
    "b=0\n",
    "g=0\n",
    "bst=0\n",
    "for el in mas.split(' '):\n",
    "    if (el=='worst'):\n",
    "        w+=1\n",
    "    elif (el=='bad'):\n",
    "        b+=1\n",
    "    elif (el=='good'):\n",
    "        g+=1\n",
    "    if (el=='best'):\n",
    "        bst+=1\n",
    "print(-3*w -b +g +3*bst)"
   ]
  },
  {
   "cell_type": "code",
   "execution_count": 131,
   "metadata": {},
   "outputs": [
    {
     "data": {
      "text/html": [
       "<div>\n",
       "<style scoped>\n",
       "    .dataframe tbody tr th:only-of-type {\n",
       "        vertical-align: middle;\n",
       "    }\n",
       "\n",
       "    .dataframe tbody tr th {\n",
       "        vertical-align: top;\n",
       "    }\n",
       "\n",
       "    .dataframe thead th {\n",
       "        text-align: right;\n",
       "    }\n",
       "</style>\n",
       "<table border=\"1\" class=\"dataframe\">\n",
       "  <thead>\n",
       "    <tr style=\"text-align: right;\">\n",
       "      <th></th>\n",
       "      <th>Date</th>\n",
       "      <th>open</th>\n",
       "      <th>high</th>\n",
       "      <th>low</th>\n",
       "      <th>close</th>\n",
       "    </tr>\n",
       "  </thead>\n",
       "  <tbody>\n",
       "    <tr>\n",
       "      <th>0</th>\n",
       "      <td>2017-01-24</td>\n",
       "      <td>29.79</td>\n",
       "      <td>30.61</td>\n",
       "      <td>26.71</td>\n",
       "      <td>28.88</td>\n",
       "    </tr>\n",
       "    <tr>\n",
       "      <th>1</th>\n",
       "      <td>2017-01-25</td>\n",
       "      <td>NaN</td>\n",
       "      <td>30.93</td>\n",
       "      <td>28.35</td>\n",
       "      <td>30.61</td>\n",
       "    </tr>\n",
       "    <tr>\n",
       "      <th>2</th>\n",
       "      <td>2017-01-06</td>\n",
       "      <td>31.37</td>\n",
       "      <td>32.05</td>\n",
       "      <td>29.5</td>\n",
       "      <td>31.72</td>\n",
       "    </tr>\n",
       "  </tbody>\n",
       "</table>\n",
       "</div>"
      ],
      "text/plain": [
       "        Date   open   high    low  close\n",
       "0 2017-01-24  29.79  30.61  26.71  28.88\n",
       "1 2017-01-25    NaN  30.93  28.35  30.61\n",
       "2 2017-01-06  31.37  32.05   29.5  31.72"
      ]
     },
     "execution_count": 131,
     "metadata": {},
     "output_type": "execute_result"
    }
   ],
   "source": [
    "import pandas as pd\n",
    "import numpy as np \n",
    "ohlc='2017-01-24,29.79,30.61,26.71,28.88  2017-01-25,N/A,30.93,28.35,30.61  2017-01-06,31.37,32.05,29.5,31.72'\n",
    "df=pd.DataFrame(columns=['Date','open','high','low','close'])\n",
    "for mas in ohlc.split(' '):\n",
    "    mas=mas.split(',')\n",
    "    if (len(mas)==5):\n",
    "        df=df.append({x:y for x,y in zip(df.columns,mas)},ignore_index=True)\n",
    "df=df.replace('N/A',np.nan)\n",
    "df['Date']=pd.to_datetime(df['Date']).values\n",
    "df\n",
    "# for i in range(1,5):\n",
    "#     col=df.iloc[:,i].astype(float).interpolate(method='spline',limit_direction='backward',order=1)\n",
    "#     col=col.interpolate(method='spline',limit_direction='forward',order=1)\n",
    "#     df[df.columns[i]]=col.round(2)\n",
    "\n",
    "# for i in range(len(df)):\n",
    "#     print(df.iloc[i,0],df.iloc[i,1],df.iloc[i,2],df.iloc[i,3],df.iloc[i,4])"
   ]
  },
  {
   "cell_type": "code",
   "execution_count": 139,
   "metadata": {},
   "outputs": [
    {
     "data": {
      "text/html": [
       "<div>\n",
       "<style scoped>\n",
       "    .dataframe tbody tr th:only-of-type {\n",
       "        vertical-align: middle;\n",
       "    }\n",
       "\n",
       "    .dataframe tbody tr th {\n",
       "        vertical-align: top;\n",
       "    }\n",
       "\n",
       "    .dataframe thead th {\n",
       "        text-align: right;\n",
       "    }\n",
       "</style>\n",
       "<table border=\"1\" class=\"dataframe\">\n",
       "  <thead>\n",
       "    <tr style=\"text-align: right;\">\n",
       "      <th></th>\n",
       "      <th>Date</th>\n",
       "      <th>open</th>\n",
       "      <th>high</th>\n",
       "      <th>low</th>\n",
       "      <th>close</th>\n",
       "    </tr>\n",
       "  </thead>\n",
       "  <tbody>\n",
       "    <tr>\n",
       "      <th>0</th>\n",
       "      <td>2017-01-24</td>\n",
       "      <td>29.79</td>\n",
       "      <td>30.61</td>\n",
       "      <td>26.71</td>\n",
       "      <td>28.88</td>\n",
       "    </tr>\n",
       "    <tr>\n",
       "      <th>1</th>\n",
       "      <td>2017-01-25</td>\n",
       "      <td>NaN</td>\n",
       "      <td>30.93</td>\n",
       "      <td>28.35</td>\n",
       "      <td>30.61</td>\n",
       "    </tr>\n",
       "    <tr>\n",
       "      <th>2</th>\n",
       "      <td>2017-01-06</td>\n",
       "      <td>31.37</td>\n",
       "      <td>32.05</td>\n",
       "      <td>29.5</td>\n",
       "      <td>31.72</td>\n",
       "    </tr>\n",
       "  </tbody>\n",
       "</table>\n",
       "</div>"
      ],
      "text/plain": [
       "        Date   open   high    low  close\n",
       "0 2017-01-24  29.79  30.61  26.71  28.88\n",
       "1 2017-01-25    NaN  30.93  28.35  30.61\n",
       "2 2017-01-06  31.37  32.05   29.5  31.72"
      ]
     },
     "execution_count": 139,
     "metadata": {},
     "output_type": "execute_result"
    }
   ],
   "source": [
    "df=df.interpolate(method='linear',limit_direction='both')\n",
    "df"
   ]
  },
  {
   "cell_type": "code",
   "execution_count": 129,
   "metadata": {},
   "outputs": [
    {
     "data": {
      "text/plain": [
       "0   2017-01-24\n",
       "1   2017-01-25\n",
       "2   2017-01-06\n",
       "Name: Date, dtype: datetime64[ns]"
      ]
     },
     "execution_count": 129,
     "metadata": {},
     "output_type": "execute_result"
    }
   ],
   "source": [
    "pd.to_datetime(df['Date'])"
   ]
  },
  {
   "cell_type": "code",
   "execution_count": 155,
   "metadata": {},
   "outputs": [
    {
     "name": "stderr",
     "output_type": "stream",
     "text": [
      "01:04:43 - cmdstanpy - INFO - Chain [1] start processing\n"
     ]
    },
    {
     "name": "stdout",
     "output_type": "stream",
     "text": [
      "Arima [30.09520652 29.77889038]\n"
     ]
    },
    {
     "name": "stderr",
     "output_type": "stream",
     "text": [
      "01:04:46 - cmdstanpy - INFO - Chain [1] done processing\n"
     ]
    },
    {
     "name": "stdout",
     "output_type": "stream",
     "text": [
      "Prophet [30.42000524 30.32000407]\n"
     ]
    },
    {
     "data": {
      "text/plain": [
       "array([30.52, 30.52])"
      ]
     },
     "execution_count": 155,
     "metadata": {},
     "output_type": "execute_result"
    }
   ],
   "source": [
    "import pandas as pd\n",
    "import datetime\n",
    "from pmdarima import arima\n",
    "from pmdarima.arima import auto_arima\n",
    "from prophet import Prophet\n",
    "from statsmodels.tsa.holtwinters import ExponentialSmoothing\n",
    "from sklearn.metrics import mean_squared_error as mse\n",
    "\n",
    "mas=[26.71, 28.35, 29.5, 30.62, 30.52]\n",
    "MyArima=auto_arima(mas)\n",
    "print(\"Arima\",MyArima.predict(2))\n",
    "\n",
    "MyProphet=Prophet()\n",
    "p=pd.DataFrame({'ds':['2017-01-24','2017-01-25','2017-01-26','2017-01-27','2017-01-28'],'y':mas})\n",
    "MyProphet.fit(p)\n",
    "print(\"Prophet\",MyProphet.predict(pd.DataFrame({'ds':['2017-01-29','2017-01-30']}))['yhat'].values)\n",
    "\n",
    "MyExpSmoothing=ExponentialSmoothing(mas).fit()\n",
    "MyExpSmoothing.forecast(2)"
   ]
  },
  {
   "cell_type": "code",
   "execution_count": 149,
   "metadata": {},
   "outputs": [
    {
     "name": "stderr",
     "output_type": "stream",
     "text": [
      "01:01:39 - cmdstanpy - INFO - Chain [1] start processing\n",
      "01:01:42 - cmdstanpy - INFO - Chain [1] done processing\n"
     ]
    },
    {
     "data": {
      "text/plain": [
       "<prophet.forecaster.Prophet at 0x1b96207d4a8>"
      ]
     },
     "execution_count": 149,
     "metadata": {},
     "output_type": "execute_result"
    }
   ],
   "source": [
    "p=pd.DataFrame({'ds':['2017-01-24','2017-01-25','2017-01-26','2017-01-27','2017-01-28'],'y':mas})\n",
    "MyProphet.fit(p)"
   ]
  },
  {
   "cell_type": "code",
   "execution_count": 156,
   "metadata": {},
   "outputs": [
    {
     "data": {
      "text/plain": [
       "[26.71, 28.35, 29.5, 30.62, 30.52]"
      ]
     },
     "execution_count": 156,
     "metadata": {},
     "output_type": "execute_result"
    }
   ],
   "source": [
    "mas2=mas\n",
    "mas2.appen"
   ]
  },
  {
   "cell_type": "code",
   "execution_count": null,
   "metadata": {},
   "outputs": [],
   "source": [
    "from scipy import interpolate\n",
    "x = np.linspace(xmin, xmax, 1000)\n",
    "interp = interpolate.interp1d(xi, yi, kind = \"linear\")\n",
    "y_linear = interp(x)"
   ]
  },
  {
   "cell_type": "code",
   "execution_count": 159,
   "metadata": {},
   "outputs": [
    {
     "ename": "ModuleNotFoundError",
     "evalue": "No module named 'interpolate'",
     "output_type": "error",
     "traceback": [
      "\u001b[1;31m---------------------------------------------------------------------------\u001b[0m",
      "\u001b[1;31mModuleNotFoundError\u001b[0m                       Traceback (most recent call last)",
      "\u001b[1;32m<ipython-input-159-9cc09ba97a04>\u001b[0m in \u001b[0;36m<module>\u001b[1;34m()\u001b[0m\n\u001b[0;32m      1\u001b[0m \u001b[1;32mimport\u001b[0m \u001b[0mscipy\u001b[0m\u001b[1;33m\u001b[0m\u001b[0m\n\u001b[0;32m      2\u001b[0m \u001b[1;32mfrom\u001b[0m \u001b[0mscipy\u001b[0m \u001b[1;32mimport\u001b[0m \u001b[0minterpolate\u001b[0m\u001b[1;33m\u001b[0m\u001b[0m\n\u001b[1;32m----> 3\u001b[1;33m \u001b[1;32mfrom\u001b[0m \u001b[0minterpolate\u001b[0m \u001b[1;32mimport\u001b[0m \u001b[0mPchipInterpolator\u001b[0m\u001b[1;33m\u001b[0m\u001b[0m\n\u001b[0m",
      "\u001b[1;31mModuleNotFoundError\u001b[0m: No module named 'interpolate'"
     ]
    }
   ],
   "source": [
    "import scipy\n",
    "from scipy import interpolate\n",
    "from interpolate import PchipInterpolator"
   ]
  },
  {
   "cell_type": "code",
   "execution_count": 173,
   "metadata": {},
   "outputs": [
    {
     "data": {
      "text/plain": [
       "array(27.92)"
      ]
     },
     "execution_count": 173,
     "metadata": {},
     "output_type": "execute_result"
    }
   ],
   "source": [
    "g=scipy.interpolate.PchipInterpolator(np.arange(1,6),mas,extrapolate=True)\n",
    "g(7)"
   ]
  },
  {
   "cell_type": "code",
   "execution_count": 165,
   "metadata": {},
   "outputs": [
    {
     "data": {
      "text/plain": [
       "[26.71, 28.35, 29.5, 30.62, 30.52]"
      ]
     },
     "execution_count": 165,
     "metadata": {},
     "output_type": "execute_result"
    }
   ],
   "source": [
    "mas"
   ]
  },
  {
   "cell_type": "code",
   "execution_count": null,
   "metadata": {},
   "outputs": [],
   "source": []
  }
 ],
 "metadata": {
  "kernelspec": {
   "display_name": "Python 3",
   "language": "python",
   "name": "python3"
  },
  "language_info": {
   "codemirror_mode": {
    "name": "ipython",
    "version": 3
   },
   "file_extension": ".py",
   "mimetype": "text/x-python",
   "name": "python",
   "nbconvert_exporter": "python",
   "pygments_lexer": "ipython3",
   "version": "3.7.0"
  }
 },
 "nbformat": 4,
 "nbformat_minor": 2
}
