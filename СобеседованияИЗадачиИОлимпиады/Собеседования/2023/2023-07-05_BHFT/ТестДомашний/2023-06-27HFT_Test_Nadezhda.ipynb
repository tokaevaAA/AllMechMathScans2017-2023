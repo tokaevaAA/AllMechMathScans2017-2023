{
 "cells": [
  {
   "cell_type": "code",
   "execution_count": 19,
   "metadata": {},
   "outputs": [
    {
     "data": {
      "text/plain": [
       "1"
      ]
     },
     "execution_count": 19,
     "metadata": {},
     "output_type": "execute_result"
    }
   ],
   "source": [
    "# you can write to stdout for debugging purposes, e.g.\n",
    "# print(\"this is a debug message\")\n",
    "\n",
    "def solution(A):\n",
    "    # Implement your solution here\n",
    "    N = len(A)\n",
    "    A.sort()\n",
    "    i = 0\n",
    "    while (i <= N-1 and A[i] <= 0):\n",
    "        i+=1\n",
    "    #print(A)\n",
    "    #print(\"i=\",i)\n",
    "    if (i == N):\n",
    "        return 1\n",
    "    else:\n",
    "        if A[i] > 1:\n",
    "                return 1\n",
    "        else:\n",
    "            if (i == N-1):\n",
    "                return A[i] + 1\n",
    "            else:\n",
    "                while (i+1 <= N-1):\n",
    "                    #print(\"i=\",i)\n",
    "                    if (A[i+1] > A[i] + 1):\n",
    "                        return A[i] + 1\n",
    "                    i = i + 1\n",
    "                return A[-1] + 1\n",
    "\n",
    "solution([-1, -3])"
   ]
  },
  {
   "cell_type": "code",
   "execution_count": 62,
   "metadata": {},
   "outputs": [
    {
     "data": {
      "text/plain": [
       "{'are_independent': False,\n",
       " 'cov': 0.0525000000000001,\n",
       " 'corr': 0.21212121212121252}"
      ]
     },
     "execution_count": 62,
     "metadata": {},
     "output_type": "execute_result"
    }
   ],
   "source": [
    "import numpy as np\n",
    "import pandas as pd\n",
    "\n",
    "\n",
    "# you can use this table as an example\n",
    "distr_table = pd.DataFrame({\n",
    "    'X': [0, 0, 1, 1],\n",
    "    'Y': [1, 2, 1, 2],\n",
    "    'pr': [0.3, 0.25, 0.15, 0.3]\n",
    "})\n",
    "\n",
    "class CheckIndependence:\n",
    "\n",
    "    def __init__(self):\n",
    "        self.version = 1\n",
    "        \n",
    "    def are_indep(self, joint_distrib, X_distrib, Y_distrib):\n",
    "        otv=True\n",
    "        for a in X_distrib:\n",
    "            for b in Y_distrib:\n",
    "                if joint_distrib[a+b]!=X_distrib[a]*Y_distrib[b]:\n",
    "                    otv=False\n",
    "                    break\n",
    "        return otv\n",
    "    \n",
    "    def EXY(self, joint_distrib, X_distrib, Y_distrib):\n",
    "        s=0\n",
    "        for a in X_distrib:\n",
    "            for b in Y_distrib:\n",
    "                s+=joint_distrib[a+b]*float(a)*float(b)\n",
    "                    \n",
    "        return s\n",
    "    \n",
    "    def Eksi(self, Ksi_distrib):\n",
    "        s=0\n",
    "        for ksi in Ksi_distrib:\n",
    "            s+=Ksi_distrib[ksi]*float(ksi)\n",
    "                    \n",
    "        return s\n",
    "    \n",
    "    def Eksi_kv(self, Ksi_distrib):\n",
    "        s=0\n",
    "        for ksi in Ksi_distrib:\n",
    "            s+=Ksi_distrib[ksi]*float(ksi)*float(ksi)\n",
    "                    \n",
    "        return s\n",
    "    \n",
    "    def covXY(self, joint_distrib, X_distrib, Y_distrib):\n",
    "        covXY=self.EXY(joint_distrib, X_distrib, Y_distrib)-self.Eksi(X_distrib)*self.Eksi(Y_distrib)\n",
    "        return covXY\n",
    "    \n",
    "    def corrXY(self, joint_distrib, X_distrib, Y_distrib):\n",
    "        covXY=self.EXY(joint_distrib, X_distrib, Y_distrib)-self.Eksi(X_distrib)*self.Eksi(Y_distrib)\n",
    "        DX=self.Eksi_kv(X_distrib) - self.Eksi(X_distrib)*self.Eksi(X_distrib)\n",
    "        DY=self.Eksi_kv(Y_distrib) - self.Eksi(Y_distrib)*self.Eksi(Y_distrib)\n",
    "        corrXY=covXY/(np.sqrt(DX)*np.sqrt(DY))\n",
    "        return corrXY\n",
    "\n",
    "    def check_independence(self, distr_table: pd.DataFrame):\n",
    "        # write your solution here\n",
    "        joint_distrib=dict()\n",
    "        for i in range(len(distr_table)):\n",
    "            joint_distrib[str(distr_table['X'][i])+str(distr_table['Y'][i])]=distr_table['pr'][i]\n",
    "        X_distrib=dict()\n",
    "        Y_distrib=dict()\n",
    "        for x in np.unique(distr_table[\"X\"]):\n",
    "            X_distrib[str(x)]=sum(distr_table[distr_table['X']==x]['pr'])\n",
    "        for y in np.unique(distr_table[\"Y\"]):\n",
    "            Y_distrib[str(y)]=sum(distr_table[distr_table['Y']==y]['pr'])\n",
    "        indep=self.are_indep(joint_distrib, X_distrib, Y_distrib)\n",
    "        cov=self.covXY(joint_distrib, X_distrib, Y_distrib)\n",
    "        corr=self.corrXY(joint_distrib, X_distrib, Y_distrib)\n",
    "        return dict({'are_independent':indep,'cov':cov,'corr':corr})\n",
    "\n",
    "MyClass=CheckIndependence()\n",
    "MyClass.check_independence(distr_table)"
   ]
  },
  {
   "cell_type": "code",
   "execution_count": 217,
   "metadata": {},
   "outputs": [
    {
     "name": "stdout",
     "output_type": "stream",
     "text": [
      "0.001\n"
     ]
    },
    {
     "data": {
      "text/plain": [
       "{'alpha': 0.01,\n",
       " 'pred': array([  6.22, 531.25, 377.35, 134.61, 154.21, 102.41, 362.97, 263.1 ,\n",
       "        334.38, 167.29]),\n",
       " 'coefficients':    variable       coef\n",
       " 0       S_1  -0.003165\n",
       " 1       S_2   0.011310\n",
       " 2       S_3   1.363747\n",
       " 3       S_4  -0.011285\n",
       " 4       S_5  13.108086\n",
       " 5       S_6   0.000097\n",
       " 6      S_10   4.660084\n",
       " 7      S_14   0.007331\n",
       " 8      S_16   0.019221\n",
       " 9      S_17  -0.000392\n",
       " 10     S_18   0.003064\n",
       " 11     S_19  -0.002484\n",
       " 12     S_28  -5.570983\n",
       " 13     S_30  -0.001902\n",
       " 14     S_33   0.000391\n",
       " 15     S_34   2.228081\n",
       " 16     S_41  -0.003377\n",
       " 17     S_42   0.000185\n",
       " 18     S_47   6.825045\n",
       " 19     S_49  -0.003673\n",
       " 20     S_52   0.000138\n",
       " 21     S_62   0.003197\n",
       " 22     S_64  -0.275039\n",
       " 23     S_65  -3.863479\n",
       " 24     S_70   0.000805\n",
       " 25     S_71   0.003954\n",
       " 26     S_73   0.002747\n",
       " 27     S_80   0.001015\n",
       " 28     S_83   0.886578\n",
       " 29     S_86  -0.183654\n",
       " 30     S_90  -0.027394\n",
       " 31     S_91   0.004210\n",
       " 32     S_92  -0.000994\n",
       " 33     S_95   0.000515}"
      ]
     },
     "execution_count": 217,
     "metadata": {},
     "output_type": "execute_result"
    }
   ],
   "source": [
    "import warnings\n",
    "\n",
    "warnings.filterwarnings(\"ignore\")\n",
    "import pandas as pd\n",
    "import numpy as np\n",
    "from sklearn import linear_model\n",
    "from sklearn.linear_model import LassoCV\n",
    "from sklearn.linear_model import RidgeCV\n",
    "from sklearn.linear_model import ElasticNetCV\n",
    "\n",
    "\n",
    "def regression(data_train, data_test):\n",
    "    X_train=data_train.loc[:,list(data_train.columns[data_train.columns!='price'])]\n",
    "    y_train=data_train['price'].values\n",
    "    X_test=data_test.loc[:,list(data_test.columns[data_test.columns!='price'])]\n",
    "    y_test=data_test['price'].values\n",
    "    def  lasso():\n",
    "        MyLassoCV=LassoCV(alphas=np.logspace(-4, -1, 4),normalize=True)\n",
    "        MyLassoCV.fit(X_train,y_train)\n",
    "        alpha=MyLassoCV.alpha_\n",
    "        y_pred=MyLassoCV.predict(X_test)\n",
    "        y_pred=np.round(y_pred, decimals=2)\n",
    "        coef=pd.DataFrame({'variable':X_train.columns, 'coef':MyLassoCV.coef_})\n",
    "        coef=coef[coef['coef']!=0]\n",
    "        coef.index=np.arange(len(coef))\n",
    "        return dict({\"alpha\":alpha,\"pred\":y_pred,\"coefficients\":coef})\n",
    "    def  ridge():\n",
    "        MyRidgeCV=RidgeCV(alphas=np.logspace(-4, -1, 4),normalize=True)\n",
    "        MyRidgeCV.fit(X_train,y_train)\n",
    "        alpha=MyRidgeCV.alpha_\n",
    "        y_pred=MyRidgeCV.predict(X_test)\n",
    "        y_pred=np.round(y_pred, decimals=2)\n",
    "        coef=pd.DataFrame({'variable':X_train.columns, 'coef':MyRidgeCV.coef_})\n",
    "        coef=coef[abs(coef['coef'])>0.001]\n",
    "        coef.index=np.arange(len(coef))\n",
    "        return dict({\"alpha\":alpha,\"pred\":y_pred,\"coefficients\":coef})\n",
    "    def  elasticnet():\n",
    "        MyElasticNetCV=ElasticNetCV(alphas=np.logspace(-4, -1, 4),normalize=True,l1_ratio=np.arange(0.6, 1, 0.1))\n",
    "        MyElasticNetCV.fit(X_train,y_train)\n",
    "        alpha=MyElasticNetCV.alpha_\n",
    "        l1_ratio=MyElasticNetCV.l1_ratio_\n",
    "        y_pred=MyElasticNetCV.predict(X_test)\n",
    "        y_pred=np.round(y_pred, decimals=2)\n",
    "        coef=pd.DataFrame({'variable':X_train.columns, 'coef':MyElasticNetCV.coef_})\n",
    "        coef=coef[abs(coef['coef'])>0.001]\n",
    "        coef.index=np.arange(len(coef))\n",
    "        return dict({\"alpha\":alpha, \"l1_ratio\":l1_ratio, \"pred\":y_pred,\"coefficients\":coef})\n",
    "    lasso=lasso()\n",
    "    ridge=ridge()\n",
    "    elasticnet=elasticnet()\n",
    "    print(ridge['alpha'])\n",
    "    return {'ridge': lasso,\n",
    "            'lasso': ridge,\n",
    "            'elastic_net': elasticnet\n",
    "            }\n",
    "\n",
    "data_train=pd.read_csv('data_train.csv')\n",
    "data_test=pd.read_csv('data_test.csv')\n",
    "# X_train=data_train.loc[:,list(data_train.columns[data_train.columns!='price'])]\n",
    "# y_train=data_train['price'].values\n",
    "# X_test=data_test.loc[:,list(data_test.columns[data_test.columns!='price'])]\n",
    "# y_test=data_test['price'].values\n",
    "\n",
    "#print(data_train.shape, X_train.shape,y_train.shape )\n",
    "#print(data_test.shape, X_test.shape,y_test.shape )\n",
    "\n",
    "regression(data_train, data_test)['ridge']\n"
   ]
  },
  {
   "cell_type": "code",
   "execution_count": 222,
   "metadata": {},
   "outputs": [
    {
     "ename": "ModuleNotFoundError",
     "evalue": "No module named 'pmdarima'",
     "output_type": "error",
     "traceback": [
      "\u001b[0;31m---------------------------------------------------------------------------\u001b[0m",
      "\u001b[0;31mModuleNotFoundError\u001b[0m                       Traceback (most recent call last)",
      "\u001b[0;32m<ipython-input-222-855b7f53dd83>\u001b[0m in \u001b[0;36m<module>\u001b[0;34m\u001b[0m\n\u001b[1;32m      1\u001b[0m \u001b[0;32mimport\u001b[0m \u001b[0mdatetime\u001b[0m\u001b[0;34m\u001b[0m\u001b[0;34m\u001b[0m\u001b[0m\n\u001b[0;32m----> 2\u001b[0;31m \u001b[0;32mfrom\u001b[0m \u001b[0mpmdarima\u001b[0m \u001b[0;32mimport\u001b[0m \u001b[0marima\u001b[0m\u001b[0;34m\u001b[0m\u001b[0;34m\u001b[0m\u001b[0m\n\u001b[0m\u001b[1;32m      3\u001b[0m \u001b[0mdf_initial\u001b[0m\u001b[0;34m=\u001b[0m\u001b[0mpd\u001b[0m\u001b[0;34m.\u001b[0m\u001b[0mread_csv\u001b[0m\u001b[0;34m(\u001b[0m\u001b[0;34m\"./data/temperatures.csv\"\u001b[0m\u001b[0;34m,\u001b[0m\u001b[0mparse_dates\u001b[0m\u001b[0;34m=\u001b[0m\u001b[0;34m[\u001b[0m\u001b[0;36m0\u001b[0m\u001b[0;34m]\u001b[0m\u001b[0;34m)\u001b[0m\u001b[0;34m\u001b[0m\u001b[0;34m\u001b[0m\u001b[0m\n\u001b[1;32m      4\u001b[0m \u001b[0mdates\u001b[0m\u001b[0;34m=\u001b[0m\u001b[0mpd\u001b[0m\u001b[0;34m.\u001b[0m\u001b[0mdate_range\u001b[0m\u001b[0;34m(\u001b[0m\u001b[0mstart\u001b[0m\u001b[0;34m=\u001b[0m\u001b[0;34m'1980-01-01'\u001b[0m\u001b[0;34m,\u001b[0m \u001b[0mend\u001b[0m\u001b[0;34m=\u001b[0m\u001b[0;34m'2012-12-2'\u001b[0m\u001b[0;34m,\u001b[0m \u001b[0mclosed\u001b[0m\u001b[0;34m=\u001b[0m\u001b[0;34m'left'\u001b[0m\u001b[0;34m,\u001b[0m\u001b[0mfreq\u001b[0m\u001b[0;34m=\u001b[0m\u001b[0mpd\u001b[0m\u001b[0;34m.\u001b[0m\u001b[0moffsets\u001b[0m\u001b[0;34m.\u001b[0m\u001b[0mMonthBegin\u001b[0m\u001b[0;34m(\u001b[0m\u001b[0;36m1\u001b[0m\u001b[0;34m)\u001b[0m\u001b[0;34m)\u001b[0m\u001b[0;34m\u001b[0m\u001b[0;34m\u001b[0m\u001b[0m\n\u001b[1;32m      5\u001b[0m \u001b[0mdf_dates\u001b[0m\u001b[0;34m=\u001b[0m\u001b[0mpd\u001b[0m\u001b[0;34m.\u001b[0m\u001b[0mDataFrame\u001b[0m\u001b[0;34m(\u001b[0m\u001b[0;34m{\u001b[0m\u001b[0;34m'ds'\u001b[0m\u001b[0;34m:\u001b[0m\u001b[0mdates\u001b[0m\u001b[0;34m}\u001b[0m\u001b[0;34m)\u001b[0m \u001b[0;31m#это объекты типа Timestamp\u001b[0m\u001b[0;34m\u001b[0m\u001b[0;34m\u001b[0m\u001b[0m\n",
      "\u001b[0;31mModuleNotFoundError\u001b[0m: No module named 'pmdarima'"
     ]
    }
   ],
   "source": [
    "import datetime\n",
    "from pmdarima import arima\n",
    "df_initial=pd.read_csv(\"./data/temperatures.csv\",parse_dates=[0])\n",
    "dates=pd.date_range(start='1980-01-01', end='2012-12-2', closed='left',freq=pd.offsets.MonthBegin(1))\n",
    "df_dates=pd.DataFrame({'ds':dates}) #это объекты типа Timestamp\n",
    "df=df_initial.merge(df_dates, on='ds', how='outer').sort_values(by='ds').reset_index(drop=True)\n",
    "y_train=df['y'][:-24]\n",
    "y_test=df['y'][-24:]\n",
    "\n"
   ]
  },
  {
   "cell_type": "code",
   "execution_count": 225,
   "metadata": {},
   "outputs": [
    {
     "name": "stdout",
     "output_type": "stream",
     "text": [
      "xcrun: error: invalid active developer path (/Library/Developer/CommandLineTools), missing xcrun at: /Library/Developer/CommandLineTools/usr/bin/xcrun\r\n"
     ]
    }
   ],
   "source": [
    "!pip3 install pmdarima"
   ]
  },
  {
   "cell_type": "code",
   "execution_count": 226,
   "metadata": {},
   "outputs": [
    {
     "ename": "ModuleNotFoundError",
     "evalue": "No module named 'pmdarima'",
     "output_type": "error",
     "traceback": [
      "\u001b[0;31m---------------------------------------------------------------------------\u001b[0m",
      "\u001b[0;31mModuleNotFoundError\u001b[0m                       Traceback (most recent call last)",
      "\u001b[0;32m<ipython-input-226-6858fadc5169>\u001b[0m in \u001b[0;36m<module>\u001b[0;34m\u001b[0m\n\u001b[0;32m----> 1\u001b[0;31m \u001b[0;32mfrom\u001b[0m \u001b[0mpmdarima\u001b[0m\u001b[0;34m.\u001b[0m\u001b[0marima\u001b[0m \u001b[0;32mimport\u001b[0m \u001b[0mauto_arima\u001b[0m\u001b[0;34m\u001b[0m\u001b[0;34m\u001b[0m\u001b[0m\n\u001b[0m",
      "\u001b[0;31mModuleNotFoundError\u001b[0m: No module named 'pmdarima'"
     ]
    }
   ],
   "source": [
    "from pmdarima.arima import auto_arima"
   ]
  },
  {
   "cell_type": "code",
   "execution_count": null,
   "metadata": {},
   "outputs": [],
   "source": []
  }
 ],
 "metadata": {
  "kernelspec": {
   "display_name": "Python 3",
   "language": "python",
   "name": "python3"
  },
  "language_info": {
   "codemirror_mode": {
    "name": "ipython",
    "version": 3
   },
   "file_extension": ".py",
   "mimetype": "text/x-python",
   "name": "python",
   "nbconvert_exporter": "python",
   "pygments_lexer": "ipython3",
   "version": "3.8.5"
  }
 },
 "nbformat": 4,
 "nbformat_minor": 4
}
