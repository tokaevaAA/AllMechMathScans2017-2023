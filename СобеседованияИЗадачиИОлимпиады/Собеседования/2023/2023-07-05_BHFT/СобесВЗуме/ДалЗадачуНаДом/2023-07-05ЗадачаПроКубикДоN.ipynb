{
 "cells": [
  {
   "cell_type": "code",
   "execution_count": 1,
   "metadata": {},
   "outputs": [],
   "source": [
    "import numpy as np\n",
    "import matplotlib.pyplot as plt"
   ]
  },
  {
   "cell_type": "code",
   "execution_count": 8,
   "metadata": {},
   "outputs": [
    {
     "data": {
      "image/png": "[encoded data removed]",
      "text/plain": [
       "<Figure size 432x288 with 1 Axes>"
      ]
     },
     "metadata": {
      "needs_background": "light"
     },
     "output_type": "display_data"
    }
   ],
   "source": [
    "N=10000\n",
    "F=np.zeros(N)\n",
    "F[0]=0\n",
    "F[1]=1+(F[0])/6\n",
    "F[2]=1+(F[1]+F[0])/6\n",
    "F[3]=1+(F[2]+F[1]+F[0])/6\n",
    "F[4]=1+(F[3]+F[2]+F[1]+F[0])/6\n",
    "F[5]=1+(F[4]+F[3]+F[2]+F[1]+F[0])/6\n",
    "for n in range(6,N):\n",
    "    F[n]=1+(F[n-1]+F[n-2]+F[n-3]+F[n-4]+F[n-5]+F[n-6])/6\n",
    "    \n",
    "plt.plot(np.arange(N),F)\n",
    "plt.xlim(0,N)\n",
    "plt.ylim(0,N)\n",
    "plt.show()"
   ]
  },
  {
   "cell_type": "code",
   "execution_count": null,
   "metadata": {},
   "outputs": [],
   "source": [
    "# Найдем, пропорционально какой степени n растет F[n]; \n",
    "# пусть F[n]=C*n^p; => log(F[n])=logC +p*log(n); \n",
    "# значит, нам нужен угол наклона прямой-зависимости log(F(n)) от log(n)"
   ]
  },
  {
   "cell_type": "code",
   "execution_count": 18,
   "metadata": {},
   "outputs": [
    {
     "name": "stdout",
     "output_type": "stream",
     "text": [
      "p= 0.9998333361185539\n"
     ]
    }
   ],
   "source": [
    "x1=np.log(N-2)\n",
    "x2=np.log(N-1)\n",
    "y1=np.log(F[N-2])\n",
    "y2=np.log(F[N-1])\n",
    "p=(y2-y1)/(x2-x1)\n",
    "print(\"p=\",p)"
   ]
  },
  {
   "cell_type": "code",
   "execution_count": null,
   "metadata": {},
   "outputs": [],
   "source": [
    "# Видим, что p=1; значит, F[n]=Cn; найдем C"
   ]
  },
  {
   "cell_type": "code",
   "execution_count": 19,
   "metadata": {},
   "outputs": [
    {
     "name": "stdout",
     "output_type": "stream",
     "text": [
      "C= 0.28571428571513025\n"
     ]
    }
   ],
   "source": [
    "x1=N-2\n",
    "x2=N-1\n",
    "y1=F[N-2]\n",
    "y2=F[N-1]\n",
    "C=(y2-y1)/(x2-x1)\n",
    "print(\"C=\",C)"
   ]
  },
  {
   "cell_type": "code",
   "execution_count": 20,
   "metadata": {},
   "outputs": [
    {
     "data": {
      "text/plain": [
       "0.2857142857142857"
      ]
     },
     "execution_count": 20,
     "metadata": {},
     "output_type": "execute_result"
    }
   ],
   "source": [
    "2/7"
   ]
  },
  {
   "cell_type": "code",
   "execution_count": null,
   "metadata": {},
   "outputs": [],
   "source": [
    "# Видим, что C примерно 2/7, как и было интуитивно понятно"
   ]
  }
 ],
 "metadata": {
  "kernelspec": {
   "display_name": "Python 3",
   "language": "python",
   "name": "python3"
  },
  "language_info": {
   "codemirror_mode": {
    "name": "ipython",
    "version": 3
   },
   "file_extension": ".py",
   "mimetype": "text/x-python",
   "name": "python",
   "nbconvert_exporter": "python",
   "pygments_lexer": "ipython3",
   "version": "3.8.5"
  }
 },
 "nbformat": 4,
 "nbformat_minor": 4
}
