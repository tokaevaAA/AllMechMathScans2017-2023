{
 "cells": [
  {
   "cell_type": "code",
   "execution_count": 1,
   "metadata": {},
   "outputs": [],
   "source": [
    "import numpy as np\n",
    "import matplotlib.pyplot as plt"
   ]
  },
  {
   "cell_type": "code",
   "execution_count": 21,
   "metadata": {},
   "outputs": [
    {
     "data": {
      "text/plain": [
       "5.99977"
      ]
     },
     "execution_count": 21,
     "metadata": {},
     "output_type": "execute_result"
    }
   ],
   "source": [
    "N=100000\n",
    "mas=[]\n",
    "for i in range(N):\n",
    "    s=0\n",
    "    i=0\n",
    "    while True:\n",
    "        i+=1\n",
    "        tek=np.random.choice([1,2,3,4,5,6])\n",
    "        s+=tek\n",
    "        if (s%6==0):\n",
    "            mas.append(i)\n",
    "            break\n",
    "np.mean(mas)"
   ]
  },
  {
   "cell_type": "markdown",
   "metadata": {},
   "source": [
    "# Is a point inside the triangle"
   ]
  },
  {
   "cell_type": "code",
   "execution_count": 40,
   "metadata": {},
   "outputs": [
    {
     "data": {
      "text/plain": [
       "1"
      ]
     },
     "execution_count": 40,
     "metadata": {},
     "output_type": "execute_result"
    }
   ],
   "source": [
    "#!/bin/python3\n",
    "\n",
    "import math\n",
    "import os\n",
    "import random\n",
    "import re\n",
    "import sys\n",
    "\n",
    "\n",
    "\n",
    "#\n",
    "# Complete the 'pointsBelong' function below.\n",
    "#\n",
    "# The function is expected to return an INTEGER.\n",
    "# The function accepts following parameters:\n",
    "#  1. INTEGER x1\n",
    "#  2. INTEGER y1\n",
    "#  3. INTEGER x2\n",
    "#  4. INTEGER y2\n",
    "#  5. INTEGER x3\n",
    "#  6. INTEGER y3\n",
    "#  7. INTEGER xp\n",
    "#  8. INTEGER yp\n",
    "#  9. INTEGER xq\n",
    "#  10. INTEGER yq\n",
    "#\n",
    "import numpy as np\n",
    "\n",
    "def isDegenerate(x1, y1, x2, y2, x3, y3):\n",
    "    ab=np.sqrt((x2-x1)**2 + (y2-y1)**2)\n",
    "    ac=np.sqrt((x3-x1)**2 + (y3-y1)**2)\n",
    "    bc=np.sqrt((x3-x2)**2 + (y3-y2)**2)\n",
    "    if (ab + bc <= ac):\n",
    "        return True\n",
    "    elif (bc + ac <= ab):\n",
    "        return True\n",
    "    elif (ab + ac <= bc):\n",
    "        return True\n",
    "    return False\n",
    "    \n",
    "def area(x1, y1, x2, y2, x3, y3):\n",
    "    otv=(x1*(y2-y3)+x2*(y3-y1)+x3*(y1-y2))/2\n",
    "    return abs(otv)\n",
    "\n",
    "def isOnEdge(xp, yp, x1, y1, x2, y2):\n",
    "    sgn=xp*(y2-y1)-yp*(x2-x1)-x1*(y2-y1)+y1*(x2-x1)\n",
    "    eps=1e-6\n",
    "    if (abs(sqn)<eps):\n",
    "        return True\n",
    "    return False\n",
    "    \n",
    "def isInsideTriagle(x1, y1, x2, y2, x3, y3, xp, yp):\n",
    "    abc=area(x1,y1,x2,y2,x3,y3)\n",
    "    abp=area(x1,y1,x2,y2,xp,yp)\n",
    "    acp=area(x1,y1,x3,y3,xp,yp)\n",
    "    bcp=area(x2,y2,x3,y3,xp,yp)\n",
    "    eps=1e-6\n",
    "    if (abs(abc-abp-acp-bcp)<eps):\n",
    "        return True\n",
    "    return False\n",
    "    \n",
    "def pointsBelong(x1, y1, x2, y2, x3, y3, xp, yp, xq, yq):\n",
    "    # Write your code here\n",
    "    if (isDegenerate(x1, y1, x2, y2, x3, y3)):\n",
    "        return 0\n",
    "    p=isInsideTriagle(x1, y1, x2, y2, x3, y3, xp, yp)\n",
    "    q=isInsideTriagle(x1, y1, x2, y2, x3, y3, xq, yq)\n",
    "    if (p and not q):\n",
    "        return 1\n",
    "    if (q and not p):\n",
    "        return 2\n",
    "    if (p and q):\n",
    "        return 3\n",
    "    if (not p and not q):\n",
    "        return 4\n",
    "        \n",
    "    \n",
    "pointsBelong(2,2,7,2,5,4,4,3,7,4)"
   ]
  },
  {
   "cell_type": "code",
   "execution_count": null,
   "metadata": {},
   "outputs": [],
   "source": []
  },
  {
   "cell_type": "code",
   "execution_count": 33,
   "metadata": {},
   "outputs": [
    {
     "name": "stdout",
     "output_type": "stream",
     "text": [
      "(1, 1) (3, 1) (4, 1) (5, 1) (6, 1) (7, 1) (8, 1) "
     ]
    }
   ],
   "source": [
    "#Не работает \n",
    "class Node:\n",
    "    def __init__(self, key,count):\n",
    "        self.key = key\n",
    "        self.count=count\n",
    "        \n",
    "class MaxTree:\n",
    "    def __init__(self, node=None):\n",
    "        self.root=node\n",
    "        self.leftTree=None\n",
    "        self.rightTree=None\n",
    "        \n",
    "    def push(self,x):\n",
    "        if self.root is None:\n",
    "            self.root=Node(x,1)\n",
    "            return\n",
    "        elif (x==self.root.key):\n",
    "            self.root.count+=1\n",
    "            return\n",
    "        if (x>self.root.key):\n",
    "            if self.rightTree is not None:\n",
    "                self.rightTree.push(x)\n",
    "                return \n",
    "            else:\n",
    "                self.rightTree=MaxTree(Node(x,1))\n",
    "                return\n",
    "        elif (x<self.root.key):\n",
    "            if self.leftTree is not None:\n",
    "                self.leftTree.push(x)\n",
    "                return\n",
    "            else:\n",
    "                self.leftTree=MaxTree(Node(x,1))\n",
    "                return\n",
    "        \n",
    "    def pechat(self):\n",
    "        if self.root:\n",
    "            if self.leftTree:\n",
    "                self.leftTree.pechat()\n",
    "            print((self.root.key,self.root.count), end=\" \")\n",
    "            if self.rightTree:\n",
    "                self.rightTree.pechat()\n",
    "\n",
    "keys = [5, 3, 7, 1, 4, 6, 8]\n",
    "MyMaxTree = MaxTree()\n",
    "\n",
    "for key in keys:\n",
    "    MyMaxTree.push(key)\n",
    "\n",
    "# MyMaxTree.push(5)\n",
    "# MyMaxTree.inorder()\n",
    "\n",
    "# MyMaxTree.push(2)\n",
    "MyMaxTree.pechat()\n",
    "\n"
   ]
  },
  {
   "cell_type": "code",
   "execution_count": null,
   "metadata": {},
   "outputs": [],
   "source": []
  },
  {
   "cell_type": "code",
   "execution_count": 36,
   "metadata": {},
   "outputs": [
    {
     "name": "stdout",
     "output_type": "stream",
     "text": [
      "Inorder traversal before deletion:\n",
      "(1, 0) (3, 0) (4, 0) (5, 0) (6, 0) (7, 0) (8, 0) \n",
      "Deleting...\n",
      "Inorder traversal after deletion:\n",
      "(1, 0) (4, 0) (5, 0) (6, 0) (7, 0) (8, 0) "
     ]
    }
   ],
   "source": [
    "class Node:\n",
    "    def __init__(self, key):\n",
    "        self.key = key\n",
    "        self.count=0\n",
    "        self.left = None\n",
    "        self.right = None\n",
    "\n",
    "def insert(root, key):\n",
    "    if root is None:\n",
    "        return Node(key)\n",
    "    if key == root.key:\n",
    "        root.count+=1\n",
    "        return root\n",
    "    if key < root.key:\n",
    "        root.left = insert(root.left, key)\n",
    "    else:\n",
    "        root.right = insert(root.right, key)\n",
    "    return root\n",
    "\n",
    "def minValueNode(node):\n",
    "    current = node\n",
    "    while current.left is not None:\n",
    "        current = current.left\n",
    "    return current\n",
    "\n",
    "def deleteNode(root, key):\n",
    "    if root is None:\n",
    "        return root\n",
    "\n",
    "    if key < root.key:\n",
    "        root.left = deleteNode(root.left, key)\n",
    "    elif key > root.key:\n",
    "        root.right = deleteNode(root.right, key)\n",
    "    else:\n",
    "        if root.count > 1:\n",
    "            root.count-=1\n",
    "            return root\n",
    "        else:\n",
    "            if root.left is None:\n",
    "                temp = root.right\n",
    "                root = None\n",
    "                return temp\n",
    "            elif root.right is None:\n",
    "                temp = root.left\n",
    "                root = None\n",
    "                return temp\n",
    "\n",
    "            temp = minValueNode(root.right)\n",
    "            root.key = temp.key\n",
    "            root.right = deleteNode(root.right, temp.key)\n",
    "\n",
    "    return root\n",
    "\n",
    "def inorder(root):\n",
    "    if root:\n",
    "        inorder(root.left)\n",
    "        print((root.key, root.count), end=\" \")\n",
    "        inorder(root.right)\n",
    "\n",
    "# Test the BST implementation\n",
    "root = None\n",
    "\n",
    "# Insert elements into the BST\n",
    "elements = [5, 3, 7, 1, 4, 6, 8]\n",
    "for element in elements:\n",
    "    root = insert(root, element)\n",
    "    \n",
    "print(\"Inorder traversal before deletion:\")\n",
    "inorder(root)\n",
    "\n",
    "# Delete a node from the BST\n",
    "print(\"\\nDeleting...\")\n",
    "delete_key = 3\n",
    "root = deleteNode(root, delete_key)\n",
    "\n",
    "# Print the inorder traversal after deletion\n",
    "print(\"Inorder traversal after deletion:\")\n",
    "inorder(root)"
   ]
  },
  {
   "cell_type": "code",
   "execution_count": 37,
   "metadata": {},
   "outputs": [
    {
     "data": {
      "text/plain": [
       "16553489"
      ]
     },
     "execution_count": 37,
     "metadata": {},
     "output_type": "execute_result"
    }
   ],
   "source": [
    "14874460+1679029"
   ]
  },
  {
   "cell_type": "code",
   "execution_count": null,
   "metadata": {},
   "outputs": [],
   "source": []
  }
 ],
 "metadata": {
  "kernelspec": {
   "display_name": "Python 3",
   "language": "python",
   "name": "python3"
  },
  "language_info": {
   "codemirror_mode": {
    "name": "ipython",
    "version": 3
   },
   "file_extension": ".py",
   "mimetype": "text/x-python",
   "name": "python",
   "nbconvert_exporter": "python",
   "pygments_lexer": "ipython3",
   "version": "3.7.3"
  }
 },
 "nbformat": 4,
 "nbformat_minor": 2
}
