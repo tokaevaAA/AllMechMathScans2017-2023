{
 "cells": [
  {
   "cell_type": "code",
   "execution_count": 1,
   "metadata": {},
   "outputs": [],
   "source": [
    "import numpy as np\n",
    "import pandas as pd"
   ]
  },
  {
   "cell_type": "code",
   "execution_count": 7,
   "metadata": {},
   "outputs": [
    {
     "data": {
      "text/html": [
       "<div>\n",
       "<style scoped>\n",
       "    .dataframe tbody tr th:only-of-type {\n",
       "        vertical-align: middle;\n",
       "    }\n",
       "\n",
       "    .dataframe tbody tr th {\n",
       "        vertical-align: top;\n",
       "    }\n",
       "\n",
       "    .dataframe thead th {\n",
       "        text-align: right;\n",
       "    }\n",
       "</style>\n",
       "<table border=\"1\" class=\"dataframe\">\n",
       "  <thead>\n",
       "    <tr style=\"text-align: right;\">\n",
       "      <th></th>\n",
       "      <th>Tenor</th>\n",
       "      <th>Zero_Rate</th>\n",
       "      <th>Market_Rate</th>\n",
       "    </tr>\n",
       "  </thead>\n",
       "  <tbody>\n",
       "    <tr>\n",
       "      <th>0</th>\n",
       "      <td>3 MO</td>\n",
       "      <td>2.16838</td>\n",
       "      <td>2.16838</td>\n",
       "    </tr>\n",
       "    <tr>\n",
       "      <th>1</th>\n",
       "      <td>6 MO</td>\n",
       "      <td>2.08842</td>\n",
       "      <td>2.00485</td>\n",
       "    </tr>\n",
       "    <tr>\n",
       "      <th>2</th>\n",
       "      <td>7 MO</td>\n",
       "      <td>1.97799</td>\n",
       "      <td>1.80419</td>\n",
       "    </tr>\n",
       "    <tr>\n",
       "      <th>3</th>\n",
       "      <td>8 MO</td>\n",
       "      <td>1.86053</td>\n",
       "      <td>1.54320</td>\n",
       "    </tr>\n",
       "    <tr>\n",
       "      <th>4</th>\n",
       "      <td>9 MO</td>\n",
       "      <td>1.76943</td>\n",
       "      <td>1.42687</td>\n",
       "    </tr>\n",
       "    <tr>\n",
       "      <th>5</th>\n",
       "      <td>10 MO</td>\n",
       "      <td>1.69402</td>\n",
       "      <td>1.35022</td>\n",
       "    </tr>\n",
       "    <tr>\n",
       "      <th>6</th>\n",
       "      <td>12 MO</td>\n",
       "      <td>1.63763</td>\n",
       "      <td>1.33825</td>\n",
       "    </tr>\n",
       "    <tr>\n",
       "      <th>7</th>\n",
       "      <td>2 YR</td>\n",
       "      <td>1.57774</td>\n",
       "      <td>1.58000</td>\n",
       "    </tr>\n",
       "  </tbody>\n",
       "</table>\n",
       "</div>"
      ],
      "text/plain": [
       "   Tenor  Zero_Rate  Market_Rate\n",
       "0   3 MO    2.16838      2.16838\n",
       "1   6 MO    2.08842      2.00485\n",
       "2   7 MO    1.97799      1.80419\n",
       "3   8 MO    1.86053      1.54320\n",
       "4   9 MO    1.76943      1.42687\n",
       "5  10 MO    1.69402      1.35022\n",
       "6  12 MO    1.63763      1.33825\n",
       "7   2 YR    1.57774      1.58000"
      ]
     },
     "execution_count": 7,
     "metadata": {},
     "output_type": "execute_result"
    }
   ],
   "source": [
    "df=pd.read_excel(\"РайфRates1.xlsx\")\n",
    "df.head(8)"
   ]
  },
  {
   "cell_type": "markdown",
   "metadata": {},
   "source": [
    "Сначала нам нужны коеффициенты дисконтирования на 3,6,9,12,15,18,21,24 месяца; для 15,18,21 их придется посчитать самим, исходя  из данных коеффициентов на 12 и 24 месяца"
   ]
  },
  {
   "cell_type": "markdown",
   "metadata": {},
   "source": [
    "Только все ставки в df надо поделить на 100, потому что 2.16838 процентов =0.0216838"
   ]
  },
  {
   "cell_type": "code",
   "execution_count": 85,
   "metadata": {},
   "outputs": [
    {
     "name": "stdout",
     "output_type": "stream",
     "text": [
      "{0.0: 1, 0.25: 0.9945937168347572, 0.5: 0.9896122294572238, 0.75: 0.9868169428372681, 1.0: 0.9837570626130552, 1.25: 0.980031147166131, 1.5: 0.9763193433799462, 1.75: 0.9726215978075101, 2.0: 0.9689378572042587}\n"
     ]
    }
   ],
   "source": [
    "def get_discount_factors(myname):\n",
    "    df=pd.read_excel(myname)\n",
    "    D03=np.exp(-3/12*df[df['Tenor']=='3 MO']['Zero_Rate'].values[0]/100)\n",
    "    D06=np.exp(-6/12*df[df['Tenor']=='6 MO']['Zero_Rate'].values[0]/100)\n",
    "    D09=np.exp(-9/12*df[df['Tenor']=='9 MO']['Zero_Rate'].values[0]/100)\n",
    "    D012=np.exp(-12/12*df[df['Tenor']=='12 MO']['Zero_Rate'].values[0]/100)\n",
    "    D024=np.exp(-24/12*df[df['Tenor']=='2 YR']['Zero_Rate'].values[0]/100)\n",
    "    D1224=D024/D012\n",
    "    r1224=-np.log(D1224)/1\n",
    "    D015=D012*np.exp(-r1224*3/12)\n",
    "    D018=D012*np.exp(-r1224*6/12)\n",
    "    D021=D012*np.exp(-r1224*9/12)\n",
    "    mydict={}\n",
    "    mydict[0/12]=1\n",
    "    mydict[3/12]=D03\n",
    "    mydict[6/12]=D06\n",
    "    mydict[9/12]=D09\n",
    "    mydict[12/12]=D012\n",
    "    mydict[15/12]=D015\n",
    "    mydict[18/12]=D018\n",
    "    mydict[21/12]=D021\n",
    "    mydict[24/12]=D024\n",
    "    return mydict\n",
    "mydict=get_discount_factors(\"РайфRates1.xlsx\")\n",
    "print(mydict)"
   ]
  },
  {
   "cell_type": "code",
   "execution_count": 112,
   "metadata": {},
   "outputs": [],
   "source": [
    "\n",
    "\n",
    "def P(a,byears,mydict):\n",
    "    if (a!=0):\n",
    "        raise Exception\n",
    "    return mydict[byears]\n",
    "\n",
    "def F(t,Tyears,Syears,mydict):\n",
    "#     print(\"T,S=\",Tyears,Syears)\n",
    "#     print(P(t,Tyears))\n",
    "#     print(P(t,Syears))\n",
    "#     print(P(t,Tyears)/P(t,Syears))\n",
    "    return (P(t,Tyears,mydict)/P(t,Syears,mydict)-1)/(Syears-Tyears)\n",
    "\n",
    "def d1(K,F,v):\n",
    "    return (np.log(F/K)+v*v/2)/v\n",
    "\n",
    "def d2(K,F,v):\n",
    "    return (np.log(F/K)-v*v/2)/v\n",
    "\n",
    "from scipy.stats import norm as normal_distrib\n",
    "def BL(K,F,v,w):\n",
    "    return F*w*normal_distrib.cdf(w*d1(K,F,v),0,1)-K*w*normal_distrib.cdf(w*d2(K,F,v),0,1)\n",
    "\n",
    "\n",
    "\n",
    "\n",
    "def get_priceCap(N,K,sigm,Ts,myname):\n",
    "    mydict=get_discount_factors(myname)\n",
    "    otv=0\n",
    "    for i,Ti in enumerate(Ts):\n",
    "        if (i==0):\n",
    "            continue\n",
    "        vi=sigm*np.sqrt(Ts[i-1])\n",
    "        tek_otv=P(0,Ti,mydict)*(Ti-Ts[i-1])*BL(K,F(0,Ts[i-1],Ti,mydict),vi,1)\n",
    "        otv+=tek_otv\n",
    "    return N*otv\n",
    "\n",
    "def get_priceFloor(N,K,sigm,Ts,myname):\n",
    "    mydict=get_discount_factors(myname)\n",
    "    otv=0\n",
    "    for i,Ti in enumerate(Ts):\n",
    "        if (i==0):\n",
    "            continue\n",
    "        vi=sigm*np.sqrt(Ts[i-1])\n",
    "        tek_otv=P(0,Ti,mydict)*(Ti-Ts[i-1])*BL(K,F(0,Ts[i-1],Ti,mydict),vi,-1)\n",
    "        otv+=tek_otv\n",
    "    return N*otv\n",
    "\n"
   ]
  },
  {
   "cell_type": "markdown",
   "metadata": {},
   "source": [
    "### 1a) Interest rate floor. Strike = ATM%, Tenor = 2 years, quarterly payment. Notional = 1 000 000."
   ]
  },
  {
   "cell_type": "code",
   "execution_count": 96,
   "metadata": {},
   "outputs": [
    {
     "name": "stderr",
     "output_type": "stream",
     "text": [
      "/Users/aleksandra/anaconda3/lib/python3.7/site-packages/ipykernel_launcher.py:14: RuntimeWarning: divide by zero encountered in double_scalars\n",
      "  \n",
      "/Users/aleksandra/anaconda3/lib/python3.7/site-packages/ipykernel_launcher.py:17: RuntimeWarning: divide by zero encountered in double_scalars\n"
     ]
    },
    {
     "data": {
      "text/plain": [
       "9368.378467357848"
      ]
     },
     "execution_count": 96,
     "metadata": {},
     "output_type": "execute_result"
    }
   ],
   "source": [
    "N=1000000\n",
    "S=2/100 #спотовая ставка\n",
    "K=S\n",
    "get_priceFloor(N,K,0.25,[0/12,3/12,6/12,9/12,12/12,15/12,18/12,21/12,24/12],\"РайфRates1.xlsx\")"
   ]
  },
  {
   "cell_type": "markdown",
   "metadata": {},
   "source": [
    "### 1b) Interest rate cap. Strike = ATM+1%, Tenor = 1 year, quarterly payment. Notional = 1 000 000."
   ]
  },
  {
   "cell_type": "code",
   "execution_count": 97,
   "metadata": {},
   "outputs": [
    {
     "name": "stderr",
     "output_type": "stream",
     "text": [
      "/Users/aleksandra/anaconda3/lib/python3.7/site-packages/ipykernel_launcher.py:14: RuntimeWarning: divide by zero encountered in double_scalars\n",
      "  \n",
      "/Users/aleksandra/anaconda3/lib/python3.7/site-packages/ipykernel_launcher.py:17: RuntimeWarning: divide by zero encountered in double_scalars\n"
     ]
    },
    {
     "data": {
      "text/plain": [
       "1066.9799968140453"
      ]
     },
     "execution_count": 97,
     "metadata": {},
     "output_type": "execute_result"
    }
   ],
   "source": [
    "N=1000000\n",
    "S=2/100 #спотовая ставка\n",
    "K=S*1.01\n",
    "get_priceCap(N,K,0.25,[0/12,3/12,6/12,9/12,12/12,15/12,18/12,21/12,24/12],\"РайфRates1.xlsx\")"
   ]
  },
  {
   "cell_type": "markdown",
   "metadata": {},
   "source": [
    "### 2)Imagine that 3 months pass, and you are asked to reprice the contracts. Use file Rates2.xlsx and assume that volatility surface is flat at 20%."
   ]
  },
  {
   "cell_type": "code",
   "execution_count": 100,
   "metadata": {},
   "outputs": [
    {
     "data": {
      "text/plain": [
       "{0.0: 1,\n",
       " 0.25: 1.0001395847410435,\n",
       " 0.5: 1.000291992621549,\n",
       " 0.75: 1.0004797400384613,\n",
       " 1.0: 1.0003895758649746,\n",
       " 1.25: 1.0001950940283653,\n",
       " 1.5: 1.0000006500002112,\n",
       " 1.75: 0.9998062437731626,\n",
       " 2.0: 0.9996118753398707}"
      ]
     },
     "execution_count": 100,
     "metadata": {},
     "output_type": "execute_result"
    }
   ],
   "source": [
    "mydict=get_discount_factors(\"РайфRates2.xlsx\")\n",
    "mydict"
   ]
  },
  {
   "cell_type": "code",
   "execution_count": 113,
   "metadata": {},
   "outputs": [
    {
     "name": "stderr",
     "output_type": "stream",
     "text": [
      "/Users/aleksandra/anaconda3/lib/python3.7/site-packages/ipykernel_launcher.py:14: RuntimeWarning: invalid value encountered in log\n",
      "  \n",
      "/Users/aleksandra/anaconda3/lib/python3.7/site-packages/ipykernel_launcher.py:17: RuntimeWarning: invalid value encountered in log\n"
     ]
    },
    {
     "data": {
      "text/plain": [
       "nan"
      ]
     },
     "execution_count": 113,
     "metadata": {},
     "output_type": "execute_result"
    }
   ],
   "source": [
    "N=1000000\n",
    "S=2/100 #спотовая ставка\n",
    "K=S\n",
    "get_priceFloor(N,K,0.2,[0/12,3/12,6/12,9/12,12/12,15/12,18/12,21/12,24/12],\"РайфRates2.xlsx\")"
   ]
  },
  {
   "cell_type": "code",
   "execution_count": 114,
   "metadata": {},
   "outputs": [
    {
     "name": "stderr",
     "output_type": "stream",
     "text": [
      "/Users/aleksandra/anaconda3/lib/python3.7/site-packages/ipykernel_launcher.py:14: RuntimeWarning: invalid value encountered in log\n",
      "  \n",
      "/Users/aleksandra/anaconda3/lib/python3.7/site-packages/ipykernel_launcher.py:17: RuntimeWarning: invalid value encountered in log\n"
     ]
    },
    {
     "data": {
      "text/plain": [
       "nan"
      ]
     },
     "execution_count": 114,
     "metadata": {},
     "output_type": "execute_result"
    }
   ],
   "source": [
    "N=1000000\n",
    "S=2/100 #спотовая ставка\n",
    "K=S*1.01\n",
    "get_priceCap(N,K,0.25,[0/12,3/12,6/12,9/12,12/12,15/12,18/12,21/12,24/12],\"РайфRates2.xlsx\")"
   ]
  },
  {
   "cell_type": "markdown",
   "metadata": {},
   "source": [
    "Так получилось, потому что некоторые ставки стали отрицательные, F стало отрицательным, и np.log(F/K) стало неопределено"
   ]
  },
  {
   "cell_type": "markdown",
   "metadata": {},
   "source": [
    "### 3)Try to give an example of product/optionality, which would be hedged with the instruments from the tasks 1 and 2.\n",
    "Is it possible to have a cheaper hedge? Propose an instrument and explain your choice (no pricing needed here)."
   ]
  },
  {
   "cell_type": "markdown",
   "metadata": {},
   "source": [
    "Cap может быть полезен, если мы имеем обязательства в плавающей ставке (зависящий от LIBOR) и хотим защититься от повышения этой плавающей ставки - тогда мы ставим например strike=2.5%, тогда если плавающая ставка выростет больше 2.5%, то нам наш контракт будет платить деньги  "
   ]
  },
  {
   "cell_type": "markdown",
   "metadata": {},
   "source": [
    "Floor, наоборот, полезен, когда мы хотим защититься от понижения плавающей ставки"
   ]
  },
  {
   "cell_type": "code",
   "execution_count": null,
   "metadata": {},
   "outputs": [],
   "source": []
  }
 ],
 "metadata": {
  "kernelspec": {
   "display_name": "Python 3",
   "language": "python",
   "name": "python3"
  },
  "language_info": {
   "codemirror_mode": {
    "name": "ipython",
    "version": 3
   },
   "file_extension": ".py",
   "mimetype": "text/x-python",
   "name": "python",
   "nbconvert_exporter": "python",
   "pygments_lexer": "ipython3",
   "version": "3.7.3"
  }
 },
 "nbformat": 4,
 "nbformat_minor": 2
}
