{
 "cells": [
  {
   "cell_type": "code",
   "execution_count": 124,
   "metadata": {},
   "outputs": [],
   "source": [
    "import numpy as np\n",
    "import pandas as pd\n",
    "import matplotlib.pyplot as plt"
   ]
  },
  {
   "cell_type": "code",
   "execution_count": 9,
   "metadata": {},
   "outputs": [],
   "source": [
    "def read(myname):\n",
    "    df=pd.read_parquet(myname, engine='pyarrow')\n",
    "    df['timestamp']=pd.to_datetime(df['exch_ts'], unit='ns')\n",
    "    df.set_index('timestamp', inplace=True)\n",
    "    return df"
   ]
  },
  {
   "cell_type": "code",
   "execution_count": 58,
   "metadata": {},
   "outputs": [],
   "source": [
    "def get_price(df,myside):\n",
    "    price = df[df['side'] == myside]['price'].resample('1S').mean()\n",
    "    return price.interpolate()"
   ]
  },
  {
   "cell_type": "code",
   "execution_count": 59,
   "metadata": {},
   "outputs": [],
   "source": [
    "def get_stats(df,need_spread):\n",
    "    dfNew=pd.DataFrame(columns=['b_price','s_price'])\n",
    "    dfNew['b_price']=get_price(df,1)\n",
    "    dfNew['s_price']=get_price(df,-1)\n",
    "    dfNew['middle_price']=(dfNew['b_price']+dfNew['s_price'])/2\n",
    "    if (need_spread):\n",
    "        dfNew['spread']=2*(dfNew['b_price']-dfNew['s_price'])/(dfNew['b_price']+dfNew['s_price'])*10000\n",
    "    return dfNew"
   ]
  },
  {
   "cell_type": "code",
   "execution_count": 66,
   "metadata": {},
   "outputs": [
    {
     "data": {
      "text/html": [
       "<div>\n",
       "<style scoped>\n",
       "    .dataframe tbody tr th:only-of-type {\n",
       "        vertical-align: middle;\n",
       "    }\n",
       "\n",
       "    .dataframe tbody tr th {\n",
       "        vertical-align: top;\n",
       "    }\n",
       "\n",
       "    .dataframe thead th {\n",
       "        text-align: right;\n",
       "    }\n",
       "</style>\n",
       "<table border=\"1\" class=\"dataframe\">\n",
       "  <thead>\n",
       "    <tr style=\"text-align: right;\">\n",
       "      <th></th>\n",
       "      <th>b_price</th>\n",
       "      <th>s_price</th>\n",
       "      <th>middle_price</th>\n",
       "      <th>spread</th>\n",
       "    </tr>\n",
       "    <tr>\n",
       "      <th>timestamp</th>\n",
       "      <th></th>\n",
       "      <th></th>\n",
       "      <th></th>\n",
       "      <th></th>\n",
       "    </tr>\n",
       "  </thead>\n",
       "  <tbody>\n",
       "    <tr>\n",
       "      <th>2021-04-01 00:00:00</th>\n",
       "      <td>1919.380000</td>\n",
       "      <td>1919.370000</td>\n",
       "      <td>1919.375000</td>\n",
       "      <td>0.052100</td>\n",
       "    </tr>\n",
       "    <tr>\n",
       "      <th>2021-04-01 00:00:01</th>\n",
       "      <td>1919.761481</td>\n",
       "      <td>1919.564000</td>\n",
       "      <td>1919.662741</td>\n",
       "      <td>1.028730</td>\n",
       "    </tr>\n",
       "    <tr>\n",
       "      <th>2021-04-01 00:00:02</th>\n",
       "      <td>1920.165392</td>\n",
       "      <td>1920.127778</td>\n",
       "      <td>1920.146585</td>\n",
       "      <td>0.195893</td>\n",
       "    </tr>\n",
       "    <tr>\n",
       "      <th>2021-04-01 00:00:03</th>\n",
       "      <td>1920.787143</td>\n",
       "      <td>1920.529231</td>\n",
       "      <td>1920.658187</td>\n",
       "      <td>1.342832</td>\n",
       "    </tr>\n",
       "    <tr>\n",
       "      <th>2021-04-01 00:00:04</th>\n",
       "      <td>1921.356957</td>\n",
       "      <td>1921.713889</td>\n",
       "      <td>1921.535423</td>\n",
       "      <td>-1.857537</td>\n",
       "    </tr>\n",
       "  </tbody>\n",
       "</table>\n",
       "</div>"
      ],
      "text/plain": [
       "                         b_price      s_price  middle_price    spread\n",
       "timestamp                                                            \n",
       "2021-04-01 00:00:00  1919.380000  1919.370000   1919.375000  0.052100\n",
       "2021-04-01 00:00:01  1919.761481  1919.564000   1919.662741  1.028730\n",
       "2021-04-01 00:00:02  1920.165392  1920.127778   1920.146585  0.195893\n",
       "2021-04-01 00:00:03  1920.787143  1920.529231   1920.658187  1.342832\n",
       "2021-04-01 00:00:04  1921.356957  1921.713889   1921.535423 -1.857537"
      ]
     },
     "execution_count": 66,
     "metadata": {},
     "output_type": "execute_result"
    }
   ],
   "source": [
    "df_spt=read(\"trades_spt.parquet\")\n",
    "df_spt=get_stats(df_spt,1)\n",
    "df_spt.head(5)"
   ]
  },
  {
   "cell_type": "code",
   "execution_count": 62,
   "metadata": {},
   "outputs": [
    {
     "data": {
      "text/html": [
       "<div>\n",
       "<style scoped>\n",
       "    .dataframe tbody tr th:only-of-type {\n",
       "        vertical-align: middle;\n",
       "    }\n",
       "\n",
       "    .dataframe tbody tr th {\n",
       "        vertical-align: top;\n",
       "    }\n",
       "\n",
       "    .dataframe thead th {\n",
       "        text-align: right;\n",
       "    }\n",
       "</style>\n",
       "<table border=\"1\" class=\"dataframe\">\n",
       "  <thead>\n",
       "    <tr style=\"text-align: right;\">\n",
       "      <th></th>\n",
       "      <th>b_price</th>\n",
       "      <th>s_price</th>\n",
       "      <th>middle_price</th>\n",
       "    </tr>\n",
       "    <tr>\n",
       "      <th>timestamp</th>\n",
       "      <th></th>\n",
       "      <th></th>\n",
       "      <th></th>\n",
       "    </tr>\n",
       "  </thead>\n",
       "  <tbody>\n",
       "    <tr>\n",
       "      <th>2021-04-01 00:00:00</th>\n",
       "      <td>1923.070000</td>\n",
       "      <td>1922.937021</td>\n",
       "      <td>1923.317164</td>\n",
       "    </tr>\n",
       "    <tr>\n",
       "      <th>2021-04-01 00:00:01</th>\n",
       "      <td>1923.697308</td>\n",
       "      <td>1922.937021</td>\n",
       "      <td>1923.317164</td>\n",
       "    </tr>\n",
       "    <tr>\n",
       "      <th>2021-04-01 00:00:02</th>\n",
       "      <td>1924.261322</td>\n",
       "      <td>1923.828214</td>\n",
       "      <td>1924.044768</td>\n",
       "    </tr>\n",
       "    <tr>\n",
       "      <th>2021-04-01 00:00:03</th>\n",
       "      <td>1924.298704</td>\n",
       "      <td>1924.185909</td>\n",
       "      <td>1924.242306</td>\n",
       "    </tr>\n",
       "    <tr>\n",
       "      <th>2021-04-01 00:00:04</th>\n",
       "      <td>1925.243898</td>\n",
       "      <td>1925.246364</td>\n",
       "      <td>1925.245131</td>\n",
       "    </tr>\n",
       "  </tbody>\n",
       "</table>\n",
       "</div>"
      ],
      "text/plain": [
       "                         b_price      s_price  middle_price\n",
       "timestamp                                                  \n",
       "2021-04-01 00:00:00  1923.070000  1922.937021   1923.317164\n",
       "2021-04-01 00:00:01  1923.697308  1922.937021   1923.317164\n",
       "2021-04-01 00:00:02  1924.261322  1923.828214   1924.044768\n",
       "2021-04-01 00:00:03  1924.298704  1924.185909   1924.242306\n",
       "2021-04-01 00:00:04  1925.243898  1925.246364   1925.245131"
      ]
     },
     "execution_count": 62,
     "metadata": {},
     "output_type": "execute_result"
    }
   ],
   "source": [
    "df_fut=read(\"trades_fut.parquet\")\n",
    "df_fut=get_stats(df_fut,0)\n",
    "df_fut.bfill(inplace=True)\n",
    "df_fut=df_fut.iloc[1:,:]\n",
    "df_fut.head(5)"
   ]
  },
  {
   "cell_type": "code",
   "execution_count": 87,
   "metadata": {},
   "outputs": [
    {
     "data": {
      "text/html": [
       "<div>\n",
       "<style scoped>\n",
       "    .dataframe tbody tr th:only-of-type {\n",
       "        vertical-align: middle;\n",
       "    }\n",
       "\n",
       "    .dataframe tbody tr th {\n",
       "        vertical-align: top;\n",
       "    }\n",
       "\n",
       "    .dataframe thead th {\n",
       "        text-align: right;\n",
       "    }\n",
       "</style>\n",
       "<table border=\"1\" class=\"dataframe\">\n",
       "  <thead>\n",
       "    <tr style=\"text-align: right;\">\n",
       "      <th></th>\n",
       "      <th>b_price</th>\n",
       "      <th>s_price</th>\n",
       "      <th>middle_price</th>\n",
       "      <th>spread</th>\n",
       "      <th>here_SpreadGreater</th>\n",
       "      <th>here_FutGreater</th>\n",
       "      <th>here_sell</th>\n",
       "      <th>here_buy</th>\n",
       "    </tr>\n",
       "    <tr>\n",
       "      <th>timestamp</th>\n",
       "      <th></th>\n",
       "      <th></th>\n",
       "      <th></th>\n",
       "      <th></th>\n",
       "      <th></th>\n",
       "      <th></th>\n",
       "      <th></th>\n",
       "      <th></th>\n",
       "    </tr>\n",
       "  </thead>\n",
       "  <tbody>\n",
       "    <tr>\n",
       "      <th>2021-04-01 00:00:00</th>\n",
       "      <td>1919.380000</td>\n",
       "      <td>1919.370000</td>\n",
       "      <td>1919.375000</td>\n",
       "      <td>0.052100</td>\n",
       "      <td>1</td>\n",
       "      <td>1</td>\n",
       "      <td>0</td>\n",
       "      <td>1</td>\n",
       "    </tr>\n",
       "    <tr>\n",
       "      <th>2021-04-01 00:00:01</th>\n",
       "      <td>1919.761481</td>\n",
       "      <td>1919.564000</td>\n",
       "      <td>1919.662741</td>\n",
       "      <td>1.028730</td>\n",
       "      <td>1</td>\n",
       "      <td>1</td>\n",
       "      <td>0</td>\n",
       "      <td>1</td>\n",
       "    </tr>\n",
       "    <tr>\n",
       "      <th>2021-04-01 00:00:02</th>\n",
       "      <td>1920.165392</td>\n",
       "      <td>1920.127778</td>\n",
       "      <td>1920.146585</td>\n",
       "      <td>0.195893</td>\n",
       "      <td>1</td>\n",
       "      <td>1</td>\n",
       "      <td>0</td>\n",
       "      <td>1</td>\n",
       "    </tr>\n",
       "    <tr>\n",
       "      <th>2021-04-01 00:00:03</th>\n",
       "      <td>1920.787143</td>\n",
       "      <td>1920.529231</td>\n",
       "      <td>1920.658187</td>\n",
       "      <td>1.342832</td>\n",
       "      <td>1</td>\n",
       "      <td>1</td>\n",
       "      <td>0</td>\n",
       "      <td>1</td>\n",
       "    </tr>\n",
       "    <tr>\n",
       "      <th>2021-04-01 00:00:04</th>\n",
       "      <td>1921.356957</td>\n",
       "      <td>1921.713889</td>\n",
       "      <td>1921.535423</td>\n",
       "      <td>-1.857537</td>\n",
       "      <td>0</td>\n",
       "      <td>1</td>\n",
       "      <td>0</td>\n",
       "      <td>0</td>\n",
       "    </tr>\n",
       "  </tbody>\n",
       "</table>\n",
       "</div>"
      ],
      "text/plain": [
       "                         b_price      s_price  middle_price    spread  \\\n",
       "timestamp                                                               \n",
       "2021-04-01 00:00:00  1919.380000  1919.370000   1919.375000  0.052100   \n",
       "2021-04-01 00:00:01  1919.761481  1919.564000   1919.662741  1.028730   \n",
       "2021-04-01 00:00:02  1920.165392  1920.127778   1920.146585  0.195893   \n",
       "2021-04-01 00:00:03  1920.787143  1920.529231   1920.658187  1.342832   \n",
       "2021-04-01 00:00:04  1921.356957  1921.713889   1921.535423 -1.857537   \n",
       "\n",
       "                     here_SpreadGreater  here_FutGreater  here_sell  here_buy  \n",
       "timestamp                                                                      \n",
       "2021-04-01 00:00:00                   1                1          0         1  \n",
       "2021-04-01 00:00:01                   1                1          0         1  \n",
       "2021-04-01 00:00:02                   1                1          0         1  \n",
       "2021-04-01 00:00:03                   1                1          0         1  \n",
       "2021-04-01 00:00:04                   0                1          0         0  "
      ]
     },
     "execution_count": 87,
     "metadata": {},
     "output_type": "execute_result"
    }
   ],
   "source": [
    "a=0\n",
    "df_spt['here_SpreadGreater']=(df_spt['spread']>=a).astype(int)\n",
    "df_spt['here_FutGreater']=(df_fut['middle_price']>df_spt['middle_price']).astype(int)\n",
    "df_spt['here_buy']=df_spt['here_SpreadGreater']*df_spt['here_FutGreater']\n",
    "df_spt['here_sell']=(df_spt['here_SpreadGreater'])*(1-df_spt['here_FutGreater'])\n",
    "df_spt.head(5)"
   ]
  },
  {
   "cell_type": "code",
   "execution_count": 89,
   "metadata": {},
   "outputs": [
    {
     "name": "stdout",
     "output_type": "stream",
     "text": [
      "62698\n"
     ]
    },
    {
     "data": {
      "text/plain": [
       "<matplotlib.axes._subplots.AxesSubplot at 0x7f9359ec06a0>"
      ]
     },
     "execution_count": 89,
     "metadata": {},
     "output_type": "execute_result"
    },
    {
     "data": {
      "image/png": "[encoded data removed]",
      "text/plain": [
       "<Figure size 432x288 with 1 Axes>"
      ]
     },
     "metadata": {
      "needs_background": "light"
     },
     "output_type": "display_data"
    }
   ],
   "source": [
    "trajectory_loss=(df_spt['here_buy']*df_spt['b_price']).cumsum()\n",
    "trajectory_profit=(df_spt['here_sell']*df_spt['s_price']).cumsum()\n",
    "trajectory_tek_amt=(df_spt['here_buy']-df_spt['here_sell']).cumsum()\n",
    "trajectory_middle_price=(df_spt['s_price']+df_spt['b_price'])/2\n",
    "trajectory_pnl=trajectory_profit-trajectory_loss+trajectory_tek_amt*trajectory_middle_price\n",
    "print(trajectory_tek_amt.values[-1])\n",
    "trajectory_pnl.plot()"
   ]
  },
  {
   "cell_type": "code",
   "execution_count": null,
   "metadata": {},
   "outputs": [],
   "source": []
  },
  {
   "cell_type": "code",
   "execution_count": 82,
   "metadata": {},
   "outputs": [],
   "source": [
    "def get_pnl(df_spt,df_fut,a):\n",
    "    df_spt['here_SpreadGreater']=(df_spt['spread']>=a).astype(int)\n",
    "    df_spt['here_FutGreater']=(df_fut['middle_price']>df_spt['middle_price']).astype(int)\n",
    "    df_spt['here_buy']=df_spt['here_SpreadGreater']*df_spt['here_FutGreater']\n",
    "    df_spt['here_sell']=(df_spt['here_SpreadGreater'])*(1-df_spt['here_FutGreater'])\n",
    "    \n",
    "    trajectory_loss=(df_spt['here_buy']*df_spt['b_price']).cumsum()\n",
    "    trajectory_profit=(df_spt['here_sell']*df_spt['s_price']).cumsum()\n",
    "    trajectory_tek_amt=(df_spt['here_buy']-df_spt['here_sell']).cumsum()\n",
    "    trajectory_middle_price=(df_spt['s_price']+df_spt['b_price'])/2\n",
    "    trajectory_pnl=trajectory_profit-trajectory_loss+trajectory_tek_amt*trajectory_middle_price\n",
    "    return trajectory_pnl.values[-1]"
   ]
  },
  {
   "cell_type": "code",
   "execution_count": 86,
   "metadata": {},
   "outputs": [
    {
     "name": "stdout",
     "output_type": "stream",
     "text": [
      "0.0 1801971.2999056876\n",
      "0.5 609717.4428188354\n",
      "1.0 265259.88334706426\n",
      "1.5 108274.8662427757\n",
      "2.0 41005.92830821592\n",
      "2.5 16839.691447823774\n",
      "3.0 7916.734161875211\n",
      "3.5 4065.8006237918744\n",
      "4.0 2118.686448769993\n",
      "4.5 1063.6957166713692\n",
      "5.0 884.2076741130222\n",
      "5.5 603.9484775409874\n",
      "6.0 332.8583242847617\n",
      "6.5 218.06299473364743\n",
      "7.0 218.06299473364743\n",
      "7.5 252.35455788064428\n",
      "8.0 252.35455788064428\n",
      "8.5 187.65089846035244\n",
      "9.0 147.00107548971482\n",
      "9.5 88.6495754897146\n"
     ]
    }
   ],
   "source": [
    "for a in np.linspace(0,10,20,endpoint=False):\n",
    "    print(a,get_pnl(df_spt,df_fut,a))"
   ]
  },
  {
   "cell_type": "code",
   "execution_count": 101,
   "metadata": {},
   "outputs": [],
   "source": [
    "def get_covar(x):\n",
    "    sdvig_fut=df_fut['middle_price'].diff()\n",
    "    sdvig_spt=df_spt['middle_price'].diff()\n",
    "    return (sdvig_fut[x:]*sdvig_spt[-x:]).sum()"
   ]
  },
  {
   "cell_type": "code",
   "execution_count": 127,
   "metadata": {},
   "outputs": [
    {
     "name": "stdout",
     "output_type": "stream",
     "text": [
      "0 2905.5922493478915\n",
      "1 -0.00021854166667219032\n",
      "2 0.010638595328307054\n",
      "3 0.05816881042582882\n",
      "4 0.8190059929655091\n",
      "5 0.8458425670396091\n",
      "6 0.8458425670396073\n",
      "7 0.8461259003729412\n",
      "8 0.8461259003729527\n",
      "9 0.8446241642618435\n"
     ]
    }
   ],
   "source": [
    "for x in range(10):\n",
    "    print(x,get_covar(x))"
   ]
  },
  {
   "cell_type": "code",
   "execution_count": 155,
   "metadata": {},
   "outputs": [
    {
     "name": "stdout",
     "output_type": "stream",
     "text": [
      "CPU times: user 11 µs, sys: 0 ns, total: 11 µs\n",
      "Wall time: 14.1 µs\n"
     ]
    }
   ],
   "source": [
    "%time\n",
    "mas = np.vectorize(get_covar)(np.arange(49*len(sdvig_fut)//100, 51*len(sdvig_fut)//100))"
   ]
  },
  {
   "cell_type": "code",
   "execution_count": 121,
   "metadata": {},
   "outputs": [
    {
     "name": "stdout",
     "output_type": "stream",
     "text": [
      "CPU times: user 3 µs, sys: 1 µs, total: 4 µs\n",
      "Wall time: 5.96 µs\n"
     ]
    }
   ],
   "source": [
    "%time\n",
    "mm=list(map(lambda x:get_covar(x), np.arange(len(sdvig_fut)//100)))"
   ]
  },
  {
   "cell_type": "code",
   "execution_count": 156,
   "metadata": {},
   "outputs": [
    {
     "data": {
      "text/plain": [
       "[<matplotlib.lines.Line2D at 0x7f903901a128>]"
      ]
     },
     "execution_count": 156,
     "metadata": {},
     "output_type": "execute_result"
    },
    {
     "data": {
      "image/png": "[encoded data removed]",
      "text/plain": [
       "<Figure size 432x288 with 1 Axes>"
      ]
     },
     "metadata": {
      "needs_background": "light"
     },
     "output_type": "display_data"
    }
   ],
   "source": [
    "plt.plot(np.arange(49*len(sdvig_fut)//100, 51*len(sdvig_fut)//100),mas)"
   ]
  },
  {
   "cell_type": "code",
   "execution_count": null,
   "metadata": {},
   "outputs": [],
   "source": []
  }
 ],
 "metadata": {
  "kernelspec": {
   "display_name": "Python 3",
   "language": "python",
   "name": "python3"
  },
  "language_info": {
   "codemirror_mode": {
    "name": "ipython",
    "version": 3
   },
   "file_extension": ".py",
   "mimetype": "text/x-python",
   "name": "python",
   "nbconvert_exporter": "python",
   "pygments_lexer": "ipython3",
   "version": "3.7.3"
  }
 },
 "nbformat": 4,
 "nbformat_minor": 2
}
